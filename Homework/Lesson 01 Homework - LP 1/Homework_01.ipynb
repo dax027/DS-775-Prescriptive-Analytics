{
 "cells": [
  {
   "cell_type": "code",
   "execution_count": 1,
   "metadata": {
    "code_folding": [
     0
    ]
   },
   "outputs": [],
   "source": [
    "# execute to import notebook styling for tables and width etc.\n",
    "from IPython.core.display import HTML\n",
    "import urllib.request\n",
    "response = urllib.request.urlopen('https://raw.githubusercontent.com/DataScienceUWL/DS775v2/master/ds755.css')\n",
    "HTML(response.read().decode(\"utf-8\"));"
   ]
  },
  {
   "cell_type": "markdown",
   "metadata": {},
   "source": [
    "<font size=18>Lesson 01 Homework</font>\n",
    "\n",
    "<font color=\"red\">Each problem has a tag, e.g. \"HW1.2\"  If you ask a question on Piazza, include the tag in the subject line.  For problems with multiple parts, there is a separate tag for each problem part.</font>"
   ]
  },
  {
   "cell_type": "markdown",
   "metadata": {},
   "source": [
    "# HW1.1 - LP Assumptions Multiple Choice Question"
   ]
  },
  {
   "cell_type": "markdown",
   "metadata": {},
   "source": [
    "A solution for which all constraints are satisfied is \n",
    "\n",
    "a. a feasible solution \n",
    "\n",
    "b. an objective function\n",
    "\n",
    "c. standard form\n",
    "\n",
    "d. sensitivity analysis\n",
    "\n",
    "e. the certainty assumption"
   ]
  },
  {
   "cell_type": "markdown",
   "metadata": {},
   "source": [
    "<font color = \"blue\"> *** 2 points -  answer in cell below *** (don't delete this cell) </font>"
   ]
  },
  {
   "cell_type": "markdown",
   "metadata": {},
   "source": [
    "<font color = \"green\">\n",
    "a.  \n",
    "</font>"
   ]
  },
  {
   "cell_type": "markdown",
   "metadata": {},
   "source": [
    "# HW1.2- Unbounded Feasible Region"
   ]
  },
  {
   "cell_type": "markdown",
   "metadata": {},
   "source": [
    "True or False:  An unbounded feasible region cannot have an optimal solution."
   ]
  },
  {
   "cell_type": "markdown",
   "metadata": {},
   "source": [
    "<font color = \"blue\"> *** 2 points -  answer in cell below *** (don't delete this cell) </font>"
   ]
  },
  {
   "cell_type": "markdown",
   "metadata": {},
   "source": [
    "<font color = \"green\">\n",
    "False. If we are attempting to maximize a function and the feasible region lacks a lower bound, for example, it seems that an optimal solution could still be found.\n",
    "</font>"
   ]
  },
  {
   "cell_type": "markdown",
   "metadata": {},
   "source": [
    "# HW 1.3 - LP Multiple Choice Question"
   ]
  },
  {
   "cell_type": "markdown",
   "metadata": {},
   "source": [
    "Which of the following is NOT an assumption of linear programming?\n",
    "\n",
    "a. Proportionality assumption\n",
    "\n",
    "b. Independence assumption\n",
    "\n",
    "c. Additivity assumption\n",
    "\n",
    "d. Divisibility assumption\n",
    "\n",
    "e. Certainty assumption"
   ]
  },
  {
   "cell_type": "markdown",
   "metadata": {},
   "source": [
    "<font color = \"blue\"> *** 2 points -  answer in cell below *** (don't delete this cell) </font>"
   ]
  },
  {
   "cell_type": "markdown",
   "metadata": {},
   "source": [
    "<font color = \"green\">\n",
    "b.\n",
    "</font>"
   ]
  },
  {
   "cell_type": "markdown",
   "metadata": {},
   "source": [
    "# HW1.4 - Common LP Type"
   ]
  },
  {
   "cell_type": "markdown",
   "metadata": {},
   "source": [
    "True or False:  The most common type of linear programming problem is allocating limited resources among several competing activities. "
   ]
  },
  {
   "cell_type": "markdown",
   "metadata": {},
   "source": [
    "<font color = \"blue\"> *** 2 points -  answer in cell below *** (don't delete this cell) </font>"
   ]
  },
  {
   "cell_type": "markdown",
   "metadata": {},
   "source": [
    "<font color = \"green\">\n",
    "True\n",
    "</font>"
   ]
  },
  {
   "cell_type": "markdown",
   "metadata": {},
   "source": [
    "# HW1.5 Feasibility Question"
   ]
  },
  {
   "cell_type": "markdown",
   "metadata": {},
   "source": [
    "A feasible solution that has the most favorable value of the objective function is called  \n",
    "\n",
    "a. the proportionality assumption\n",
    "\n",
    "b. a functional constraint\n",
    "\n",
    "c. the feasible region\n",
    "\n",
    "d. an optimal solution\n",
    "\n",
    "e. sensitivity analysis"
   ]
  },
  {
   "cell_type": "markdown",
   "metadata": {},
   "source": [
    "<font color = \"blue\"> *** 2 points -  answer in cell below *** (don't delete this cell) </font>"
   ]
  },
  {
   "cell_type": "markdown",
   "metadata": {},
   "source": [
    "<font color = \"green\">\n",
    "d.\n",
    "</font>"
   ]
  },
  {
   "cell_type": "markdown",
   "metadata": {},
   "source": [
    "# HW1.6 Identifying Violations of LP Assumptions"
   ]
  },
  {
   "cell_type": "markdown",
   "metadata": {},
   "source": [
    "For parts (a) - (c) below, state which, if any, linear programming model assumptions are violated and why.\n",
    "\n",
    "**HW1.6a** - Minimize $Z = 3x_1 + 0.3x_2,$\n",
    "\n",
    "subject to \n",
    "\n",
    "$\n",
    "\\begin{array}{rcrcr}\n",
    "5 x_1 & + &  3 x_2 & \\geq & 9 \\\\\n",
    " x_1 & + &  3 x_2 & \\geq & b_2 \\\\\n",
    "12 x_1 & * & x_2 & \\geq & 15\n",
    "\\end{array}\n",
    "$\n",
    "\n",
    "and $x_1 \\geq 0, x_2 \\geq 0,$\n",
    "\n",
    "$5 \\leq b_2 \\leq 10.$"
   ]
  },
  {
   "cell_type": "markdown",
   "metadata": {},
   "source": [
    "<font color = \"blue\"> *** 2 points -  answer in cell below *** (don't delete this cell) </font>"
   ]
  },
  {
   "cell_type": "markdown",
   "metadata": {},
   "source": [
    "<font color = \"green\">\n",
    "The assumption of additivity is violated by the third constraint: $12x_1 * x_2 \\geq 15 $.\n",
    "The certainty assumption is violated by the $b_2$ term.\n",
    "</font>    \n"
   ]
  },
  {
   "cell_type": "markdown",
   "metadata": {},
   "source": [
    "**HW1.6b** - Maximize $Z = (x_1 + 2x_2)^2,$\n",
    "\n",
    "subject to \n",
    "\n",
    "$\n",
    "\\begin{array}{rcrcr}\n",
    " &  &  k x_2 & \\leq & 70 \\\\\n",
    " x_1 & + &  & \\leq & 80 \\\\\n",
    " x_1 & + & x_2 & \\leq & 100\n",
    "\\end{array}\n",
    "$\n",
    "\n",
    "and $x_1 \\geq 0, x_2 \\geq 0$\n",
    "\n",
    "$k \\geq 0$"
   ]
  },
  {
   "cell_type": "markdown",
   "metadata": {},
   "source": [
    "<font color = \"blue\"> *** 2 points -  answer in cell below *** (don't delete this cell) </font>"
   ]
  },
  {
   "cell_type": "markdown",
   "metadata": {},
   "source": [
    "<font color = \"green\">\n",
    "The proportionality assumption is violated by the quadratic objective function. The certainty assumption is violated by the introduction of the $k$ term in the first constraint. Assuming the blank in the second constraint is not just a placeholder for the array, it would violate certainty assumption as well.\n",
    "</font>"
   ]
  },
  {
   "cell_type": "markdown",
   "metadata": {},
   "source": [
    "**HW1.6c** - Maximize $Z = 25 x + 30 y - 10$\n",
    "\n",
    "subject to \n",
    "\n",
    "$\n",
    "\\begin{array}{rcrcr}\n",
    "0.02 x & + & 0.01 y & \\leq & 1 \\\\\n",
    "0.5 x & + & 0.5 y & \\leq & 4 \\\\\n",
    "0.01 x & + & 0.02 y & \\leq & 1.5\n",
    "\\end{array}\n",
    "$\n",
    "\n",
    "$x = 1,2,3, \\ldots $\n",
    "\n",
    "$y \\geq 0$ "
   ]
  },
  {
   "cell_type": "markdown",
   "metadata": {},
   "source": [
    "<font color = \"blue\"> *** 2 points -  answer in cell below *** (don't delete this cell) </font>"
   ]
  },
  {
   "cell_type": "markdown",
   "metadata": {},
   "source": [
    "<font color = \"green\">\n",
    "The \"-10\" in the objective function violates the assumption of proportionality. The constraint of $x_1 = 1,2,3, \\ldots$ violates the divisibility assumption.\n",
    "</font>"
   ]
  },
  {
   "cell_type": "markdown",
   "metadata": {},
   "source": [
    "# HW1.7 - Textbook Problem 3.1-10"
   ]
  },
  {
   "cell_type": "markdown",
   "metadata": {},
   "source": [
    "Weenies and Buns is a food processing plant which\n",
    "  manufactures hot dogs and hot dog buns. They grind their own flour\n",
    "  for the hot dog buns at a maximum rate of 200 pounds per week. Each\n",
    "  hot dog bun requires 0.1 pound of flour. They currently have a\n",
    "  contract with Pigland, Inc., which specifies that a delivery of 800\n",
    "  pounds of pork product is delivered every Monday. Each hot dog\n",
    "  requires 0.25 pound of pork product. All the other ingredients in the\n",
    "  hot dogs and hot dog buns are in plentiful supply. Finally, the\n",
    "  labor force at Weenies and Buns consists of 5 employees working full\n",
    "  time (40 hours per week each). Each hot dog requires 3 minutes of\n",
    "  labor, and each hot dog bun requires 2 minutes of labor. Each hot\n",
    "  dog yields a profit of $\\$0.88$, and each bun yields a profit of $\\$0.33$.\n",
    "  Weenies and Buns would like to know how many hot dogs and how many\n",
    "  hot dog buns they should produce each week so as to achieve the\n",
    "  highest possible profit. \n",
    "\n",
    "**HW1.7a** - Formulate a linear programming model for this problem.  Use the cell below to input your answer.  You can either use LaTeX to format the equations or neatly write out the equations by hand.\n",
    "\n",
    "**Important note on including images**:  in the question below you can either use LaTeX to typeset your mathematics or you can write the answer neatly by hand and take a picture of it and save it as a file in the `images` directory found in the same directory as the homework notebook, e.g. \"myfile.png\".  At a minimum the image should cropped and rotated correctly.  Best would be to use an app like camscanner (android) to cleanly \"scan\" your work.  Once you have the file, then put it in the same directory as the Jupyter notebook and then put an HTML tag in a markdown cell like this:\n",
    "  <pre>&lt;img src=\"./images/myfile.png\" width=800&gt;</pre>  Adjust the width as needed so that text is readable and the image fits well within a broswer window (e.g. width <= 1200).  Do not drag and drop images or use CoCalcs menus to choose and insert an image as it may not render when your instructor opens your notebook."
   ]
  },
  {
   "cell_type": "markdown",
   "metadata": {},
   "source": [
    "<font color = \"blue\"> *** 2 points -  answer in cell below *** (don't delete this cell) </font>"
   ]
  },
  {
   "cell_type": "markdown",
   "metadata": {},
   "source": [
    "<font color = \"green\">\n",
    "Maximize $Z = .88x_1 + .33x_2 $\n",
    "\n",
    "subject to \n",
    "\n",
    "$\n",
    "\\begin{array}{rcrcr}\n",
    "& & .25x_1 & \\leq & 800 \\\\\n",
    "& & .1x_2 & \\leq & 200 \\\\\n",
    "3x_1 & + & 2x_2 & \\leq & 12000\n",
    "\\end{array}\n",
    "$\n",
    "    \n",
    "and $x_1 \\geq 0, \\ x_2 \\geq 0$    \n",
    "</font>"
   ]
  },
  {
   "cell_type": "markdown",
   "metadata": {},
   "source": [
    "**HW1.7b** - Use the graphical method to solve this model.  Include a summary of the solution and a picture (screen capture)."
   ]
  },
  {
   "cell_type": "markdown",
   "metadata": {},
   "source": [
    "<font color = \"blue\"> *** 2 points -  answer in cell below *** (don't delete this cell) </font>"
   ]
  },
  {
   "cell_type": "markdown",
   "metadata": {},
   "source": [
    "<font color = \"green\">\n",
    "The optimal profit of $3212 occurs when 3200 hot dogs and 1200 hot dog buns are produced each week.\n",
    "</font>\n",
    "<img src=\"./images/1.7b.png\" width=800>\n",
    "<img src=\"./images/1.7b2.png\" width=800>"
   ]
  },
  {
   "cell_type": "markdown",
   "metadata": {},
   "source": [
    "# HW1.8 - Textbook Problem 3.2-2"
   ]
  },
  {
   "cell_type": "markdown",
   "metadata": {},
   "source": [
    "\n",
    "\n",
    "The shaded area in the following graph represents the\n",
    "  feasible region of a linear programming problem whose objective\n",
    "  function is to be maximized. \n",
    "  \n",
    "<img src=\"images/screen-problem4.png\" alt=\"Problem\" width=\"440\">\n",
    "\n",
    "Label each of the following statements as True or False, and then\n",
    "justify your answer based on the graphical method. In each case, give\n",
    "an example of an objective function that illustrates your answer.  Each of the three answers should include True/False, the objective function, and a picture of the graphical method illustrating your answer.\n",
    "\n",
    "**HW1.8a** - If (3, 3) produces a larger value of the objective function than (0, 2) and (6, 3), then (3, 3) must be an optimal solution."
   ]
  },
  {
   "cell_type": "markdown",
   "metadata": {},
   "source": [
    "<font color = \"blue\"> *** 2 points -  answer in cell below *** (don't delete this cell) </font>"
   ]
  },
  {
   "cell_type": "markdown",
   "metadata": {},
   "source": [
    "<font color = \"green\">\n",
    "True. An example would be:\n",
    "Maximize $Z = -x_1 + 4x_2$\n",
    "    \n",
    "for (0,2), $Z = 8$\n",
    "\n",
    "for (3,3), $Z = 9$ \n",
    "\n",
    "for (6,3), $Z = 6$\n",
    "\n",
    "</font>\n",
    "<img src=\"./images/1.8a.png\" width=800>"
   ]
  },
  {
   "cell_type": "markdown",
   "metadata": {},
   "source": [
    "**HW1.8b** - If (3, 3) is an optimal solution and multiple optimal solutions exist, then either (0, 2) or (6, 3) must also be an optimal solution."
   ]
  },
  {
   "cell_type": "markdown",
   "metadata": {},
   "source": [
    "<font color = \"blue\"> *** 2 points -  answer in cell below *** (don't delete this cell) </font>"
   ]
  },
  {
   "cell_type": "markdown",
   "metadata": {},
   "source": [
    "<font color = \"green\">\n",
    "True. An example would be:\n",
    "Maximize $Z = -x_1 + 3x_2$\n",
    "    \n",
    "for (0,2), $Z = 6$\n",
    "\n",
    "for (3,3), $Z = 6$ \n",
    "\n",
    "for (6,3), $Z = 3$\n",
    "\n",
    "</font>\n",
    "<img src=\"./images/1.8b.png\" width=800>"
   ]
  },
  {
   "cell_type": "markdown",
   "metadata": {},
   "source": [
    "**HW1.8c** - The point (0, 0) cannot be an optimal solution."
   ]
  },
  {
   "cell_type": "markdown",
   "metadata": {},
   "source": [
    "<font color = \"blue\"> *** 2 points -  answer in cell below *** (don't delete this cell) </font>"
   ]
  },
  {
   "cell_type": "markdown",
   "metadata": {},
   "source": [
    "<font color = \"green\">\n",
    "True. An example would be:\n",
    "Maximize $Z = -x_1 - x_2$\n",
    "    \n",
    "for (0, 0), $Z = 0$\n",
    "    \n",
    "for (0, 2), $Z = -2$\n",
    "\n",
    "for (3, 3), $Z = -6$\n",
    "\n",
    "for (6, 3), $Z = -9$\n",
    "\n",
    "for (6, 0), $Z = -6$\n",
    "</font>\n",
    "<img src=\"./images/1.8c.png\" width=800>"
   ]
  },
  {
   "cell_type": "markdown",
   "metadata": {},
   "source": [
    "# HW1.9 - Textbook Problem 3.2-6"
   ]
  },
  {
   "cell_type": "markdown",
   "metadata": {},
   "source": [
    "Suppose that the following constraints have been provided for a linear\n",
    "programming model.\n",
    "\n",
    "$\n",
    "\\begin{array}{rcrcr}\n",
    "-x_1 & + &  3 x_2 & \\leq & 30 \\\\\n",
    "-3 x_1 & + &   x_2 & \\leq & 30 \n",
    "\\end{array}\n",
    "$\n",
    "\n",
    "and $x_1 \\geq 0, x_2 \\geq 0.$\n",
    "\n",
    "**HW1.9a** - Demonstrate that the feasible region is unbounded."
   ]
  },
  {
   "cell_type": "markdown",
   "metadata": {},
   "source": [
    "<font color = \"blue\"> *** 2 points -  answer in cell below *** (don't delete this cell) </font>"
   ]
  },
  {
   "cell_type": "markdown",
   "metadata": {},
   "source": [
    "<font color = \"green\">\n",
    "<img src=\"./images/1.9a.png\" width=800>\n",
    "</font>"
   ]
  },
  {
   "cell_type": "markdown",
   "metadata": {},
   "source": [
    "**HW1.9b** - If the objective is to maximize $Z =-x_1+x_2,$ does the model\n",
    "  have an optimal solution? If so, find it. If not, explain why not."
   ]
  },
  {
   "cell_type": "markdown",
   "metadata": {},
   "source": [
    "<font color = \"blue\"> *** 2 points -  answer in cell below *** (don't delete this cell) </font>"
   ]
  },
  {
   "cell_type": "markdown",
   "metadata": {},
   "source": [
    "<font color = \"green\">\n",
    "$Z$ increases as $x_1$ decreases, allowing for an optimal solution at (0, 10) where $Z = 10$\n",
    "<img src=\"./images/1.9b.png\" width=800>\n",
    "</font>"
   ]
  },
  {
   "cell_type": "markdown",
   "metadata": {},
   "source": [
    "**HW1.9c** - Repeat part (b) when the objective is to maximize $Z=x_1\n",
    "  - x_2$."
   ]
  },
  {
   "cell_type": "markdown",
   "metadata": {},
   "source": [
    "<font color = \"blue\"> *** 2 points -  answer in cell below *** (don't delete this cell) </font>"
   ]
  },
  {
   "cell_type": "markdown",
   "metadata": {},
   "source": [
    "<font color = \"green\">\n",
    "This model has no optimal solution.\n",
    "</font>"
   ]
  },
  {
   "cell_type": "markdown",
   "metadata": {},
   "source": [
    "**HW1.9d** - For objective functions where this model has no optimal\n",
    "  solution, does this mean that there are no good solutions according\n",
    "  to the model? Explain. What probably went wrong when formulating the\n",
    "  model?"
   ]
  },
  {
   "cell_type": "markdown",
   "metadata": {},
   "source": [
    "<font color = \"blue\"> *** 2 points -  answer in cell below *** (don't delete this cell) </font>"
   ]
  },
  {
   "cell_type": "markdown",
   "metadata": {},
   "source": [
    "<font color = \"green\">\n",
    "The example in part c is an example in which maximizing $x_1$ and minimizing $x_2$ would be a desirable outcome, assuming there were no limiting factors. In that situation, the goal would be to move as far to the right in quadrant 1 as possible. The error may have been in defining constraints. It may have been a simple sign error.\n",
    "</font>"
   ]
  },
  {
   "cell_type": "markdown",
   "metadata": {},
   "source": [
    "# HW1.10 - Textbook Problem 3.4-15"
   ]
  },
  {
   "cell_type": "markdown",
   "metadata": {},
   "source": [
    "Oxbridge University maintains a powerful mainframe computer\n",
    "  for research use by its faculty, Ph.D. students, and research\n",
    "  associates. During all working hours, an operator must be available\n",
    "  to operate and maintain the computer, as well as to perform some\n",
    "  programming services. Beryl Ingram, the director of the computer\n",
    "  facility, oversees the operation.  \n",
    "\n",
    "  It is now the beginning of the\n",
    "  fall semester, and Beryl is confronted with the problem of assigning\n",
    "  different working hours to her operators. Because all the operators\n",
    "  are currently enrolled in the university, they are available to work\n",
    "  only a limited number of hours\n",
    "  each day, as shown in the following table: \n",
    "  \n",
    "  <img src=\"images/screen-problem5.png\" width=\"440\">\n",
    "  \n",
    "  There are six operators (four undergraduate students and two\n",
    "  graduate students). They all have different wage rates because of\n",
    "  differences in their experience with computers and in their pro-\n",
    "  gramming ability. The above table shows their wage rates, along with\n",
    "  the maximum number of hours that each can work each day.  \n",
    "\n",
    "  Each\n",
    "  operator is guaranteed a certain minimum number of hours per week\n",
    "  that will maintain an adequate knowledge of the operation. This\n",
    "  level is set arbitrarily at 8 hours per week for the undergraduate\n",
    "  students (K. C., D. H., H. B., and S. C.) and 7 hours per week for\n",
    "  the graduate students (K. S. and N. K.).\n",
    "\n",
    "  The computer facility is to be open for operation from 8 A.M. to 10\n",
    "  P.M. Monday through Friday with exactly one operator on duty during\n",
    "  these hours. On Saturdays and Sundays, the computer is to be\n",
    "  operated by other staff.  Because of a tight budget, Beryl has to\n",
    "  minimize cost. She wishes to determine the number of hours she\n",
    "  should assign to each operator on each day.\n",
    "\n",
    "  Because of a tight budget, Beryl has to minimize cost. She wishes to\n",
    "  determine the number of hours she should assign to each operator on\n",
    "  each day.\n",
    "  \n",
    "  **Note**:  see instructions in Problem 7 for including images."
   ]
  },
  {
   "cell_type": "markdown",
   "metadata": {},
   "source": [
    "**HW1.10a** - Formulate a linear programming model for this problem.  LaTeX or handwritten with picture."
   ]
  },
  {
   "cell_type": "markdown",
   "metadata": {},
   "source": [
    "<font color = \"blue\"> *** 2 points -  answer in cell below *** (don't delete this cell) </font>"
   ]
  },
  {
   "cell_type": "markdown",
   "metadata": {},
   "source": [
    "<font color = \"green\">\n",
    "\n",
    "Let:\n",
    "    \n",
    "$x_1 = K.C. \\ Mon\\\\x_2 = K.C. \\ Wed\\\\x_3 = K.C. \\ Fri\\\\x_4 = D.H. \\ Tue\\\\x_5 = D.H. \\ Thurs\\\\x_6 = H.B. \\ Mon\\\\x_7 = H.B \\ Tue\\\\x_8 = H.B. \\ Wed\\\\x_9 = H.B. \\ Fri\\\\x_{10} = S.C. \\ Mon\\\\x_{11} = S.C. \\ Tue\\\\x_{12} = S.C. \\ Wed\\\\x_{13} = S.C. \\ Fri\\\\x_{14} = K.S. \\ Mon\\\\x_{15} = K.S. \\ Wed\\\\x_{16} = K.S. \\ Thurs\\\\x_{17} = N.K. \\ Thurs\\\\x_{18} = N.K. \\ Fri$\n",
    "  \n",
    "---  \n",
    "**Objective:**\n",
    "\n",
    "Minimize $Z = 25(x_{1} + x_{2} + x_{3}) + 26(x_{4} + x_{5}) + 24(x_{6} + x_{7} + x_{8} + x_{9}) + 23(x_{10} + x_{11} + x_{12} + x_{13}) + 28(x_{14} + x_{15} + x_{16}) + 30(x_{17} + x_{18}) $\n",
    "    \n",
    "subject to\n",
    "    \n",
    "Minimum Hours Constraints:\n",
    "    \n",
    "$\n",
    "\\begin{array}{rcrcr}\n",
    "& & x_{1} & + & x_{2} & + & x_{3} & \\geq & 8\\\\\n",
    "& & & & x_{4} & + & x_{5} & \\geq & 8\\\\\n",
    "x_{6} & + & x_{7} & + & x_{8} & + & x_{9} & \\geq & 8\\\\\n",
    "x_{10} & + & x_{11} & + & x_{12} & + & x_{13} & \\geq & 8\\\\\n",
    "& & x_{14} & + & x_{15} & + & x_{16} & \\geq & 7\\\\\n",
    "& & & & x_{17} & + & x_{18} & \\geq & 7\\\\\n",
    "\\end{array}\n",
    "$\n",
    "    \n",
    "Maximum Hours Constraints:\n",
    "    \n",
    "$\n",
    "\\begin{array}{rc}\n",
    "x_{1} & \\leq & 6\\\\\n",
    "x_{2} & \\leq & 6\\\\\n",
    "x_{3} & \\leq & 6\\\\\n",
    "x_{4} & \\leq & 6\\\\\n",
    "x_{5} & \\leq & 6\\\\\n",
    "x_{6} & \\leq & 4\\\\\n",
    "x_{7} & \\leq & 8\\\\\n",
    "x_{8} & \\leq & 4\\\\\n",
    "x_{9} & \\leq & 4\\\\\n",
    "x_{10} & \\leq & 5\\\\\n",
    "x_{11} & \\leq & 5\\\\\n",
    "x_{12} & \\leq & 5\\\\\n",
    "x_{13} & \\leq & 5\\\\\n",
    "x_{14} & \\leq & 3\\\\\n",
    "x_{15} & \\leq & 3\\\\\n",
    "x_{16} & \\leq & 8\\\\\n",
    "x_{17} & \\leq & 6\\\\\n",
    "x_{18} & \\leq & 2\\\\\n",
    "\\end{array}\n",
    "$\n",
    "\n",
    "Computer Lab Hours Constraints:\n",
    "    \n",
    "$\n",
    "\\begin{array}{rcrcr}\n",
    "x_{1} & + & x_{6} & + & x_{10} & + & x_{14} & = & 14\\\\\n",
    "& & x_{4} & + & x_{7} & + & x_{11} & = & 14\\\\\n",
    "x_{2} & + & x_{8} & + & x_{12} & + & x_{15} & = & 14\\\\\n",
    "& & x_{5} & + & x_{16} & + & x_{17} & = & 14\\\\\n",
    "x_{3} & + & x_{9} & + & x_{13} & + & x_{18} & = & 14\\\\\n",
    "\\end{array}\n",
    "$\n",
    "    \n",
    "and $x_{all} \\geq 0$   \n",
    "    \n",
    "</font>"
   ]
  },
  {
   "cell_type": "markdown",
   "metadata": {},
   "source": [
    "**HW1.10b** - Use Pyomo to solve this problem. Your solution should include all necessary code and inputs and it should produce formatted output.\n",
    "\n",
    "**Note**:  for all code submissions, to get full credit the code must run without error and the output must be included in the notebook.  Code that doesn't run or if output isn't included then your solution will earn at most half credit."
   ]
  },
  {
   "cell_type": "markdown",
   "metadata": {},
   "source": [
    "<font color = \"blue\"> *** 6 points -  answer in cell below *** (don't delete this cell) </font>"
   ]
  },
  {
   "cell_type": "code",
   "execution_count": 2,
   "metadata": {},
   "outputs": [
    {
     "name": "stdout",
     "output_type": "stream",
     "text": [
      "Monday's Schedule: K.C.: 4 hours, H.B.: 4 hours, S.C.: 5 hours, K.S.: 1 hours\n",
      "Tuesday's Schedule: D.H.: 2 hours, H.B.: 7 hours, S.C.: 5 hours\n",
      "Wednesday's Schedule: K.C.: 2 hours, H.B.: 4 hours, S.C.: 5 hours, K.S.: 3 hours\n",
      "Thursday's Schedule: D.H.: 6 hours, K.S.: 3 hours, N.K.: 5 hours\n",
      "Friday's Schedule: K.C.: 3 hours, H.B.: 4 hours, S.C.: 5 hours, N.K.: 2 hours\n",
      "Total Payroll = $1,755.00\n"
     ]
    }
   ],
   "source": [
    "from pyomo.environ import *\n",
    "\n",
    "# Concrete Model\n",
    "model = ConcreteModel(name=\"oxbridge\")\n",
    "\n",
    "# Decision Variables\n",
    "model.x1 = Var(domain=Reals)\n",
    "model.x2 = Var(domain=Reals)\n",
    "model.x3 = Var(domain=Reals)\n",
    "model.x4 = Var(domain=Reals)\n",
    "model.x5 = Var(domain=Reals)\n",
    "model.x6 = Var(domain=Reals)\n",
    "model.x7 = Var(domain=Reals)\n",
    "model.x8 = Var(domain=Reals)\n",
    "model.x9 = Var(domain=Reals)\n",
    "model.x10 = Var(domain=Reals)\n",
    "model.x11 = Var(domain=Reals)\n",
    "model.x12 = Var(domain=Reals)\n",
    "model.x13 = Var(domain=Reals)\n",
    "model.x14 = Var(domain=Reals)\n",
    "model.x15 = Var(domain=Reals)\n",
    "model.x16 = Var(domain=Reals)\n",
    "model.x17 = Var(domain=Reals)\n",
    "model.x18 = Var(domain=Reals)\n",
    "\n",
    "# Objective\n",
    "model.payroll = Objective(expr=25 * (model.x1 + model.x2 + model.x3) \n",
    "                          + 26 * (model.x4 + model.x5) \n",
    "                          + 24 * (model.x6 + model.x7 + model.x8 + model.x9)\n",
    "                          + 23 * (model.x10 + model.x11 + model.x12 + model.x13)\n",
    "                          + 28 * (model.x14 + model.x15 + model.x16) \n",
    "                          + 30 * (model.x17 + model.x18),sense=minimize)\n",
    "\n",
    "# Constraints\n",
    "# min hours constraints\n",
    "model.minHoursKC = Constraint(expr=(model.x1 + model.x2 + model.x3) >= 8)\n",
    "model.minHoursDH = Constraint(expr=(model.x4 + model.x5) >= 8)\n",
    "model.minHoursHB = Constraint(expr=(model.x6 + model.x7 + model.x8 + model.x9) >= 8)\n",
    "model.minHoursSC = Constraint(expr=(model.x10 + model.x11 + model.x12 + model.x13) >= 8)\n",
    "model.minHoursKS = Constraint(expr=(model.x14 + model.x15 + model.x16) >= 7)\n",
    "model.minHoursNK = Constraint(expr=(model.x17 + model.x18) >= 7)\n",
    "# max daily hours constraints\n",
    "model.KCmon = Constraint(expr=model.x1 <= 6)\n",
    "model.KCwed = Constraint(expr=model.x2 <= 6)\n",
    "model.KCfri = Constraint(expr=model.x3 <= 6)\n",
    "model.DHtue = Constraint(expr=model.x4 <= 6)\n",
    "model.DHthu = Constraint(expr=model.x5 <= 6)\n",
    "model.HBmon = Constraint(expr=model.x6 <= 4)\n",
    "model.HBtue = Constraint(expr=model.x7 <= 8)\n",
    "model.HBwed = Constraint(expr=model.x8 <= 4)\n",
    "model.HBfri = Constraint(expr=model.x9 <= 4)\n",
    "model.SCmon = Constraint(expr=model.x10 <= 5)\n",
    "model.SCtue = Constraint(expr=model.x11 <= 5)\n",
    "model.SCwed = Constraint(expr=model.x12 <= 5)\n",
    "model.SCfri = Constraint(expr=model.x13 <= 5)\n",
    "model.KSmon = Constraint(expr=model.x14 <= 3)\n",
    "model.KSwed = Constraint(expr=model.x15 <= 3)\n",
    "model.KSthu = Constraint(expr=model.x16 <= 8)\n",
    "model.NKthu = Constraint(expr=model.x17 <= 6)\n",
    "model.NKfri = Constraint(expr=model.x18 <= 2)\n",
    "# lab hours contraints\n",
    "model.labMon = Constraint(expr=(model.x1 + model.x6 + model.x10 + model.x14) == 14)\n",
    "model.labTue = Constraint(expr=(model.x4 + model.x7 + model.x11) == 14)\n",
    "model.labWed = Constraint(expr=(model.x2 + model.x8 + model.x12 + model.x15) == 14)\n",
    "model.labThu = Constraint(expr=(model.x5 + model.x16 + model.x17) == 14)\n",
    "model.labFri = Constraint(expr=(model.x3 + model.x9 + model.x13 + model.x18) == 14)\n",
    "# non-negative\n",
    "model.gtzx1 = Constraint(expr=model.x1 >= 0)\n",
    "model.gtzx2 = Constraint(expr=model.x2 >= 0)\n",
    "model.gtzx3 = Constraint(expr=model.x3 >= 0)\n",
    "model.gtzx4 = Constraint(expr=model.x4 >= 0)\n",
    "model.gtzx5 = Constraint(expr=model.x5 >= 0)\n",
    "model.gtzx6 = Constraint(expr=model.x6 >= 0)\n",
    "model.gtzx7 = Constraint(expr=model.x7 >= 0)\n",
    "model.gtzx8 = Constraint(expr=model.x8 >= 0)\n",
    "model.gtzx9 = Constraint(expr=model.x9 >= 0)\n",
    "model.gtzx10 = Constraint(expr=model.x10 >= 0)\n",
    "model.gtzx11 = Constraint(expr=model.x11 >= 0)\n",
    "model.gtzx12 = Constraint(expr=model.x12 >= 0)\n",
    "model.gtzx13 = Constraint(expr=model.x13 >= 0)\n",
    "model.gtzx14 = Constraint(expr=model.x14 >= 0)\n",
    "model.gtzx15 = Constraint(expr=model.x15 >= 0)\n",
    "model.gtzx16 = Constraint(expr=model.x16 >= 0)\n",
    "model.gtzx17 = Constraint(expr=model.x17 >= 0)\n",
    "model.gtzx18 = Constraint(expr=model.x18 >= 0)\n",
    "\n",
    "# Solve\n",
    "solver = SolverFactory('glpk')\n",
    "solver.solve(model)\n",
    "\n",
    "#display(model)\n",
    "\n",
    "# display solution\n",
    "print(f\"Monday's Schedule: K.C.: {model.x1():.0f} hours, H.B.: {model.x6():.0f} hours, S.C.: {model.x10():.0f} hours, K.S.: {model.x14():.0f} hours\")\n",
    "print(f\"Tuesday's Schedule: D.H.: {model.x4():.0f} hours, H.B.: {model.x7():.0f} hours, S.C.: {model.x11():.0f} hours\")\n",
    "print(f\"Wednesday's Schedule: K.C.: {model.x2():.0f} hours, H.B.: {model.x8():.0f} hours, S.C.: {model.x12():.0f} hours, K.S.: {model.x15():.0f} hours\")\n",
    "print(f\"Thursday's Schedule: D.H.: {model.x5():.0f} hours, K.S.: {model.x16():.0f} hours, N.K.: {model.x17():.0f} hours\")\n",
    "print(f\"Friday's Schedule: K.C.: {model.x3():.0f} hours, H.B.: {model.x9():.0f} hours, S.C.: {model.x13():.0f} hours, N.K.: {model.x18():.0f} hours\")\n",
    "print(f\"Total Payroll = ${model.payroll():,.2f}\")\n"
   ]
  },
  {
   "cell_type": "markdown",
   "metadata": {},
   "source": [
    "# HW1.11 - Textbook Problem 3.5-3 (a,c,d)"
   ]
  },
  {
   "cell_type": "markdown",
   "metadata": {},
   "source": [
    "Ed Butler is the production manager for the Bilco Corporation, which\n",
    "produces three types of spare parts for automobiles. The manufacture\n",
    "of each part requires processing on each of two machines, with the\n",
    "following processing times (in hours): \n",
    "\n",
    "<img src=\"images/screen-problem6a.png\" width=\"440\">\n",
    "\n",
    "Each machine is available 40 hours per month. Each part manufactured\n",
    "will yield a unit profit as follows:\n",
    "\n",
    "<img src=\"images/screen-problem6b.png\" width=\"440\">\n",
    "\n",
    "Ed wants to determine the mix of spare parts to produce in order to\n",
    "maximize total profit.\n",
    "\n",
    "**HW1.11a** - Formulate a linear programming model for this problem.  LaTeX or picture of handwritten math.  *Hint:*  there should three decision variables not six."
   ]
  },
  {
   "cell_type": "markdown",
   "metadata": {},
   "source": [
    "<font color = \"blue\"> *** 2 points -  answer in cell below *** (don't delete this cell) </font>"
   ]
  },
  {
   "cell_type": "markdown",
   "metadata": {},
   "source": [
    "<font color = \"green\">\n",
    "Maximize $Z = 50x_1 + 40x_2 + 30x_3 $\n",
    "\n",
    "subject to \n",
    "\n",
    "$\n",
    "\\begin{array}{rcrcr}\n",
    ".02x_1 & + & .03x_2 & + & .05x_3 & \\leq & 40 \\\\\n",
    ".05x_1 & + & .02x_2 & + & .04x_3 & \\leq & 40\n",
    "\\end{array}\n",
    "$\n",
    "    \n",
    "and $x_1 \\geq 0, \\ x_2 \\geq 0, \\ x_3 \\geq 0$    \n",
    "</font>"
   ]
  },
  {
   "cell_type": "markdown",
   "metadata": {},
   "source": [
    "**HW1.11c** - Make three guesses of your own choosing for the decision variables to get an optimal solution. Check each one for feasibility and, if feasible, find the value of the objective function. Which feasible guess has the best objective function value?  (A nice way to do this is to write a function where you input the values of the decision variables and print out the value of the objective function and check each constraint. Call the function for each guess.)"
   ]
  },
  {
   "cell_type": "markdown",
   "metadata": {},
   "source": [
    "<font color = \"blue\"> *** 2 points -  answer in cell below *** (don't delete this cell) </font>"
   ]
  },
  {
   "cell_type": "code",
   "execution_count": 3,
   "metadata": {},
   "outputs": [
    {
     "name": "stdout",
     "output_type": "stream",
     "text": [
      "Guess 1\n",
      "Machine 1 Hours:  31.5\n",
      "Machine 2 Hours:  39.5\n",
      "Feasible, Profit: $41500\n",
      "---------------------------\n",
      "Guess 2\n",
      "Machine 1 Hours:  34.5\n",
      "Machine 2 Hours:  40.0\n",
      "Feasible, Profit: $42500\n",
      "---------------------------\n",
      "Guess 3\n",
      "Machine 1 Hours:  35.5\n",
      "Machine 2 Hours:  39.75\n",
      "Feasible, Profit: $43250\n",
      "---------------------------\n"
     ]
    }
   ],
   "source": [
    "def bilcoGuess(x1,x2,x3):\n",
    "    constraint1 = .02 * x1 + .03 * x2 + .05 * x3\n",
    "    constraint2 = .05 * x1 + .02 * x2 + .04 * x3\n",
    "    constraint3 = x1 >= 0\n",
    "    constraint4 = x2 >= 0\n",
    "    constraint5 = x3 >= 0\n",
    "    profit = 50 * x1 + 40 * x2 + 30 * x3\n",
    "    if (constraint1 <= 40 and constraint2 <= 40 and constraint3 and constraint4 and constraint5):\n",
    "        feasibility = \"Feasible\"\n",
    "    else:\n",
    "        feasibility = \"Not feasible\"\n",
    "    print(\"Machine 1 Hours: \", constraint1)\n",
    "    print(\"Machine 2 Hours: \", constraint2)\n",
    "    print(\"%s, Profit: $%d\" % (feasibility,profit))\n",
    "    print(\"---------------------------\")\n",
    "    \n",
    "print(\"Guess 1\")    \n",
    "bilcoGuess(450,250,300)\n",
    "print(\"Guess 2\")\n",
    "bilcoGuess(400,300,350)\n",
    "print(\"Guess 3\")\n",
    "bilcoGuess(375,350,350)"
   ]
  },
  {
   "cell_type": "markdown",
   "metadata": {},
   "source": [
    "**HW1.11d** - Use Pyomo to solve the model by the simplex method.  Complete code should run, include imports, and formatted output."
   ]
  },
  {
   "cell_type": "markdown",
   "metadata": {},
   "source": [
    "<font color = \"blue\"> *** 4 points -  answer in cell below *** (don't delete this cell) </font>"
   ]
  },
  {
   "cell_type": "code",
   "execution_count": 16,
   "metadata": {},
   "outputs": [
    {
     "name": "stdout",
     "output_type": "stream",
     "text": [
      "Maximum Profit = $61,818.18\n",
      "Number of Part A = 364\n",
      "Number of Part B = 1091\n",
      "Number of Part C = 0\n"
     ]
    }
   ],
   "source": [
    "from pyomo.environ import *\n",
    "\n",
    "# Concrete Model\n",
    "model = ConcreteModel(name=\"Bilco\")\n",
    "\n",
    "# Decision Variables\n",
    "model.A = Var(domain=Reals)\n",
    "model.B = Var(domain=Reals)\n",
    "model.C = Var(domain=Reals)\n",
    "\n",
    "\n",
    "# Objective\n",
    "model.profit = Objective(expr=50.0 * model.A + 40.0 * model.B + 30.0 * model.C,\n",
    "                         sense=maximize)\n",
    "\n",
    "# Constraints\n",
    "model.machine1 = Constraint(expr=(.02 * model.A + .03 * model.B + .05 * model.C) <= 40)\n",
    "model.machine2 = Constraint(expr=(.05 * model.A + .02 * model.B + .04 * model.C) <= 40)\n",
    "model.gtzA = Constraint(expr=model.A >= 0)\n",
    "model.gtzB = Constraint(expr=model.B >= 0)\n",
    "model.gtzC = Constraint(expr=model.C >= 0)\n",
    "\n",
    "# Solve\n",
    "solver = SolverFactory('glpk')\n",
    "solver.solve(model)\n",
    "\n",
    "#display(model)\n",
    "\n",
    "# display solution\n",
    "print(f\"Maximum Profit = ${model.profit():,.2f}\")\n",
    "print(f\"Number of Part A = {model.A():.0f}\")\n",
    "print(f\"Number of Part B = {model.B():.0f}\")\n",
    "print(f\"Number of Part C = {model.C():.0f}\")\n",
    "\n",
    "# Could apply floor() to round to nearest integer? The extra puts us just a tad over 40 hours.\n",
    "# It would cause us to trade off a small amount of profit.\n"
   ]
  }
 ],
 "metadata": {
  "kernelspec": {
   "display_name": "Python 3 (system-wide)",
   "language": "python",
   "name": "python3"
  },
  "language_info": {
   "codemirror_mode": {
    "name": "ipython",
    "version": 3
   },
   "file_extension": ".py",
   "mimetype": "text/x-python",
   "name": "python",
   "nbconvert_exporter": "python",
   "pygments_lexer": "ipython3",
   "version": "3.8.5"
  },
  "toc": {
   "base_numbering": 1,
   "nav_menu": {},
   "number_sections": true,
   "sideBar": true,
   "skip_h1_title": false,
   "title_cell": "Table of Contents",
   "title_sidebar": "Contents",
   "toc_cell": false,
   "toc_position": {
    "height": "calc(100% - 180px)",
    "left": "10px",
    "top": "150px",
    "width": "270.66px"
   },
   "toc_section_display": true,
   "toc_window_display": false
  },
  "varInspector": {
   "cols": {
    "lenName": 16,
    "lenType": 16,
    "lenVar": 40
   },
   "kernels_config": {
    "python": {
     "delete_cmd_postfix": "",
     "delete_cmd_prefix": "del ",
     "library": "var_list.py",
     "varRefreshCmd": "print(var_dic_list())"
    },
    "r": {
     "delete_cmd_postfix": ") ",
     "delete_cmd_prefix": "rm(",
     "library": "var_list.r",
     "varRefreshCmd": "cat(var_dic_list()) "
    }
   },
   "types_to_exclude": [
    "module",
    "function",
    "builtin_function_or_method",
    "instance",
    "_Feature"
   ],
   "window_display": false
  }
 },
 "nbformat": 4,
 "nbformat_minor": 4
}
