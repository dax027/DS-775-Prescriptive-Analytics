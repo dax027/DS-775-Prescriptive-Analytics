{
 "cells": [
  {
   "cell_type": "markdown",
   "metadata": {},
   "source": [
    "<font size=18>Project 1: Report</font>"
   ]
  },
  {
   "cell_type": "markdown",
   "metadata": {},
   "source": [
    "Use this Jupyter notebook to summarize the details of this project organized in the following sections. Note, there is also a presentation notebook that accompanies this project. \n",
    "\n",
    "The file `Airfares.xlsx` contains real data that were collected between Q3-1996 and Q2-1997. The first sheet contains variable descriptions while the second sheet contains the data.  A csv file of the data is also provided (called *Airfares.csv*).\n",
    "\n",
    "**To get full credit your code should all run and produce correct answers if the data in the file `Airfares.xlsx` is changed**. That means you can't type in coefficients for your linear models, but will have to store them in variables instead."
   ]
  },
  {
   "cell_type": "markdown",
   "metadata": {},
   "source": [
    "# **P1.1** - Introduction"
   ]
  },
  {
   "cell_type": "markdown",
   "metadata": {},
   "source": [
    "Summarize the problem statement, establishing the context and methods used in this project. (Write an introduction that says what you're going to do and how you're going to do it!)"
   ]
  },
  {
   "cell_type": "markdown",
   "metadata": {},
   "source": [
    "<font color = \"blue\"> *** 5 points -  answer in cell below *** (don't delete this cell) </font>"
   ]
  },
  {
   "cell_type": "markdown",
   "metadata": {},
   "source": [
    "<font color = \"green\">\n",
    "The objective of this project is to identify the optimal values for controllable traits of airline routes to maximize the average fare paid by passengers. Linear programming methods will be used to provide an actionable prescriptive solution. Linear programs are bound by constraints that define the feasible range of solutions. Some of the constraints for the problem will be well defined by the business needs of the airline. Some will rely on a predictive solution to help define the criteria we are likely to observe in the population of interest. Multiple linear regression will be employed to predict several values that will inform the linear programming model. \n",
    "</font>"
   ]
  },
  {
   "cell_type": "markdown",
   "metadata": {},
   "source": [
    "# **P1.2** - Linear Regression Models"
   ]
  },
  {
   "cell_type": "markdown",
   "metadata": {},
   "source": [
    "Provide a brief summary of the linear regression models used to estimate coefficients that will be used in the linear programming problem.  Explain why the multiple regression equations had to be fitted through the origin (consider the assumptions of linear programming)."
   ]
  },
  {
   "cell_type": "markdown",
   "metadata": {},
   "source": [
    "<font color = \"blue\"> *** 5 points -  answer in cell below *** (don't delete this cell) </font>"
   ]
  },
  {
   "cell_type": "code",
   "execution_count": 1,
   "metadata": {
    "collapsed": false,
    "jupyter": {
     "outputs_hidden": false
    }
   },
   "outputs": [],
   "source": [
    "# code for linear regression models goes here\n",
    "\n",
    "from sklearn.linear_model import LinearRegression    \n",
    "import pandas as pd\n",
    "\n",
    "# read in data\n",
    "airfares = pd.read_csv(\"data/Airfares.csv\")\n",
    "\n",
    "# function for modularity\n",
    "def fareModel(resp, preds):\n",
    "    \n",
    "    lmodel = LinearRegression(fit_intercept = False)\n",
    "    lmodel.fit(preds, resp)\n",
    "    coefs = {preds.columns[coef].lower():float(lmodel.coef_[coef]) for coef in range(0,len(lmodel.coef_))}\n",
    "\n",
    "    return coefs\n"
   ]
  },
  {
   "cell_type": "markdown",
   "metadata": {},
   "source": [
    "<font color = \"blue\"> *** 5 points -  answer in cell below *** (don't delete this cell) </font>"
   ]
  },
  {
   "cell_type": "markdown",
   "metadata": {},
   "source": [
    "<font color = \"green\">\n",
    "A simple multiple linear regression technique was employed to predict the average fare for the route, the number of passengers, the starting city's average personal income, and the ending city's average personal income using the average number of coupons, the Herfindel Index, and the distance between endpoint airports as inputs. The models had to be fitted through the origin in order to maintain the assumption of proportionality that cannot be violated for a viable linear programming model.\n",
    "</font>"
   ]
  },
  {
   "cell_type": "markdown",
   "metadata": {
    "heading_collapsed": true
   },
   "source": [
    "# **P1.3** - Optimal LP Solution"
   ]
  },
  {
   "cell_type": "markdown",
   "metadata": {
    "hidden": true
   },
   "source": [
    "The optimal value of the airfare and for which values of COUPON, HI, and DISTANCE it occurs. "
   ]
  },
  {
   "cell_type": "markdown",
   "metadata": {
    "hidden": true
   },
   "source": [
    "<font color = \"blue\"> *** 8 points -  answer in cell below *** (don't delete this cell) </font>"
   ]
  },
  {
   "cell_type": "code",
   "execution_count": 2,
   "metadata": {
    "hidden": true
   },
   "outputs": [
    {
     "name": "stdout",
     "output_type": "stream",
     "text": [
      "Max fare = $203.55\n",
      "\n",
      "Optimal Coupons: 1.14\n",
      "Optimal HI: 8000.00\n",
      "Optimal Distance: 1000.00\n"
     ]
    }
   ],
   "source": [
    "# code for Pyomo and nicely formatted output goes here\n",
    "from pyomo.environ import *\n",
    "\n",
    "fares = fareModel(airfares['FARE'], airfares[['COUPON', 'HI', 'DISTANCE']])\n",
    "pax = fareModel(airfares['PAX'], airfares[['COUPON', 'HI', 'DISTANCE']])\n",
    "sIncome = fareModel(airfares['S_INCOME'], airfares[['COUPON', 'HI', 'DISTANCE']])\n",
    "eIncome = fareModel(airfares['E_INCOME'], airfares[['COUPON', 'HI', 'DISTANCE']])\n",
    "\n",
    "# construct model\n",
    "model = ConcreteModel()\n",
    "\n",
    "# decision variables\n",
    "model.coupon= Var(domain=NonNegativeReals)\n",
    "model.hi = Var(domain=NonNegativeReals)\n",
    "model.distance = Var(domain=NonNegativeReals)\n",
    "\n",
    "# objective function\n",
    "model.max_fares = Objective(expr = (fares['coupon'] * model.coupon) + (fares['hi'] * model.hi) + (fares['distance'] * model.distance) , sense=maximize)\n",
    "\n",
    "# constraint list\n",
    "model.paxC = Constraint(expr = (pax['coupon'] * model.coupon) + (pax['hi'] * model.hi) + (pax['distance'] * model.distance) <= 20000)\n",
    "model.sIncomeC = Constraint(expr = (sIncome['coupon'] * model.coupon) + (sIncome['hi'] * model.hi) + (sIncome['distance'] * model.distance) <= 30000)\n",
    "model.eIncomeC = Constraint(expr = (eIncome['coupon'] * model.coupon) + (eIncome['hi'] * model.hi) + (eIncome['distance'] * model.distance) >= 30000)\n",
    "model.couponC = Constraint(expr = model.coupon <= 1.5)\n",
    "model.hiC1 = Constraint(expr = model.hi >= 4000)\n",
    "model.hiC2 = Constraint(expr = model.hi <= 8000)\n",
    "model.distanceC1 = Constraint(expr = model.distance >= 500)\n",
    "model.distanceC2 = Constraint(expr = model.distance <= 1000)\n",
    "\n",
    "# solve and display\n",
    "solver = SolverFactory('glpk')\n",
    "solver.solve(model)\n",
    "\n",
    "# display solution\n",
    "print(f\"Max fare = ${model.max_fares():,.2f}\\n\")\n",
    "print(f\"Optimal Coupons: {model.coupon():.2f}\")\n",
    "print(f\"Optimal HI: {model.hi():.2f}\")\n",
    "print(f\"Optimal Distance: {model.distance():.2f}\")\n"
   ]
  },
  {
   "cell_type": "markdown",
   "metadata": {
    "heading_collapsed": true
   },
   "source": [
    "# **P1.4** - Sensitivity Report"
   ]
  },
  {
   "cell_type": "markdown",
   "metadata": {
    "hidden": true
   },
   "source": [
    "From the sensitivity report, explain which constraints are binding for the number of passengers on that route (PAX), the starting city’s average personal income (S_INCOME), and the ending city’s average personal income (E_INCOME). If the constraint is binding, interpret the shadow price in the context of the problem.  If the constraint is not binding, interpret the slack in the context of the problem."
   ]
  },
  {
   "cell_type": "markdown",
   "metadata": {
    "hidden": true
   },
   "source": [
    "<font color = \"blue\"> *** 5 points -  answer in cell below *** (don't delete this cell) </font>"
   ]
  },
  {
   "cell_type": "code",
   "execution_count": 3,
   "metadata": {
    "collapsed": false,
    "hidden": true,
    "jupyter": {
     "outputs_hidden": false
    }
   },
   "outputs": [
    {
     "name": "stdout",
     "output_type": "stream",
     "text": [
      "GLPSOL: GLPK LP/MIP Solver, v4.65\n",
      "Parameter(s) specified in the command line:\n",
      " -m model.lp --lp --ranges sensit.sen\n",
      "Reading problem data from 'model.lp'...\n",
      "9 rows, 4 columns, 15 non-zeros\n",
      "56 lines were read\n",
      "GLPK Simplex Optimizer, v4.65\n",
      "9 rows, 4 columns, 15 non-zeros\n",
      "Preprocessing...\n",
      "2 rows, 3 columns, 6 non-zeros\n",
      "Scaling...\n",
      " A: min|aij| =  1.020e+00  max|aij| =  2.091e+04  ratio =  2.050e+04\n",
      "GM: min|aij| =  7.309e-01  max|aij| =  1.368e+00  ratio =  1.872e+00\n",
      "EQ: min|aij| =  5.342e-01  max|aij| =  1.000e+00  ratio =  1.872e+00\n",
      "Constructing initial basis...\n",
      "Size of triangular part is 2\n",
      "      0: obj =   8.885866366e+01 inf =   2.215e+04 (1)\n",
      "      3: obj =   1.739717779e+02 inf =   0.000e+00 (0)\n",
      "*     4: obj =   2.035540468e+02 inf =   0.000e+00 (0)\n",
      "OPTIMAL LP SOLUTION FOUND\n",
      "Time used:   0.0 secs\n",
      "Memory used: 0.0 Mb (40412 bytes)\n",
      "Write sensitivity analysis report to 'sensit.sen'...\n",
      "GLPK 4.65 - SENSITIVITY ANALYSIS REPORT                                                                         Page   1\n",
      "\n",
      "Problem:    \n",
      "Objective:  max_fares = 203.5540468 (MAXimum)\n",
      "\n",
      "   No. Row name     St      Activity         Slack   Lower bound       Activity      Obj coef  Obj value at Limiting\n",
      "                                          Marginal   Upper bound          range         range   break point variable\n",
      "------ ------------ -- ------------- ------------- -------------  ------------- ------------- ------------- ------------\n",
      "     1 c_u_paxC_    BS   12061.75912    7938.24088          -Inf    11353.40212       -.00209     178.36992 c_u_sIncomeC_\n",
      "                                            .        20000.00000    12979.23503        .03224     592.46257 c_u_hiC2_\n",
      "\n",
      "     2 c_u_sIncomeC_\n",
      "                    NU   30000.00000        .               -Inf    28631.04516       -.00108     202.07505 c_l_eIncomeC_\n",
      "                                            .00108   30000.00000    37449.46803          +Inf     211.60236 c_u_couponC_\n",
      "\n",
      "     3 c_l_eIncomeC_\n",
      "                    BS   31200.11575   -1200.11575   30000.00000    10235.25243       -.00123     165.10359 c_u_sIncomeC_\n",
      "                                            .               +Inf    31200.11575          +Inf          +Inf\n",
      "\n",
      "     4 c_u_couponC_ BS       1.14372        .35628          -Inf        1.07825     -22.59002     177.71733 c_u_sIncomeC_\n",
      "                                            .            1.50000        1.29258     198.73044     430.84659 c_u_hiC2_\n",
      "\n",
      "     5 c_l_hiC1_    BS    8000.00000   -4000.00000    4000.00000     5207.50816       -.01059     118.80603 c_u_hiC2_\n",
      "                                            .               +Inf     8000.00000          +Inf          +Inf\n",
      "\n",
      "     6 c_u_hiC2_    NU    8000.00000        .               -Inf     5207.50816       -.01059     173.97178 c_l_eIncomeC_\n",
      "                                            .01059    8000.00000    29455.84475          +Inf     430.84659 coupon\n",
      "\n",
      "     7 c_l_distanceC1_\n",
      "                    BS    1000.00000    -500.00000     500.00000      179.14046       -.08639     117.15963 c_u_distanceC2_\n",
      "                                            .               +Inf     1000.00000          +Inf          +Inf\n",
      "\n",
      "     8 c_u_distanceC2_\n",
      "                    NU    1000.00000        .               -Inf      500.00000       -.08639     160.35684 c_l_distanceC1_\n",
      "                                            .08639    1000.00000     3631.40702          +Inf     430.89292 c_u_couponC_\n",
      "\n",
      "     9 c_e_ONE_VAR_CONSTANT\n",
      "                    NS       1.00000        .            1.00000         .               -Inf     203.55405 ONE_VAR_CONSTANT\n",
      "                                            .            1.00000           +Inf          +Inf     203.55405\n",
      "\n",
      "GLPK 4.65 - SENSITIVITY ANALYSIS REPORT                                                                         Page   2\n",
      "\n",
      "Problem:    \n",
      "Objective:  max_fares = 203.5540468 (MAXimum)\n",
      "\n",
      "   No. Column name  St      Activity      Obj coef   Lower bound       Activity      Obj coef  Obj value at Limiting\n",
      "                                          Marginal   Upper bound          range         range   break point variable\n",
      "------ ------------ -- ------------- ------------- -------------  ------------- ------------- ------------- ------------\n",
      "     1 coupon       BS       1.14372      22.59002        .             1.07825        .          177.71733 c_u_sIncomeC_\n",
      "                                            .               +Inf        1.29258     221.32046     430.84659 c_u_hiC2_\n",
      "\n",
      "     2 distance     BS    1000.00000        .08334        .           500.00000       -.00306     117.15963 c_u_distanceC2_\n",
      "                                            .               +Inf     1000.00000          +Inf          +Inf\n",
      "\n",
      "     3 hi           BS    8000.00000        .01180        .          5207.50816        .00120     118.80603 c_u_hiC2_\n",
      "                                            .               +Inf     8000.00000          +Inf          +Inf\n",
      "\n",
      "     4 ONE_VAR_CONSTANT\n",
      "                    BS       1.00000        .             .             1.00000          -Inf          -Inf\n",
      "                                            .               +Inf        1.00000          +Inf          +Inf\n",
      "\n",
      "End of report\n",
      "\n"
     ]
    }
   ],
   "source": [
    "# code to generate and display sensitivity report goes here\n",
    "# write the model to a sensitivity report\n",
    "model.write('model.lp', io_options={'symbolic_solver_labels': True})\n",
    "!glpsol -m model.lp --lp --ranges sensit.sen\n",
    "# widen browser and/or close TOC to see sensitivity report\n",
    "import numpy as np\n",
    "np.set_printoptions(linewidth=110)\n",
    "f = open('sensit.sen', 'r')\n",
    "file_contents = f.read()\n",
    "print(file_contents)\n",
    "f.close()"
   ]
  },
  {
   "cell_type": "markdown",
   "metadata": {
    "hidden": true
   },
   "source": [
    "<font color = \"blue\"> *** 5 points -  answer in cell below *** (don't delete this cell) </font>"
   ]
  },
  {
   "cell_type": "markdown",
   "metadata": {
    "hidden": true
   },
   "source": [
    "<font color = \"green\">\n",
    "The S_INCOME constraint is binding. It has a shadow price of .00108, indicating that an increase of 1 will increase the maximum fare by 0.00108.  The PAX and E_INCOME constraints are non-binding. PAX has a slack of 7938.24088, indicating that the constraint could increase by that amount before becoming binding. E_INCOME's upper bound is infinity.  It could increase indefinitely without effecting the optimal solution.\n",
    "\n",
    "</font>"
   ]
  },
  {
   "cell_type": "markdown",
   "metadata": {
    "heading_collapsed": true
   },
   "source": [
    "# **P1.5** - Allowable Ranges"
   ]
  },
  {
   "cell_type": "markdown",
   "metadata": {
    "hidden": true
   },
   "source": [
    "Interpret the allowable ranges (objective coefficient range) for COUPON, HI, and DISTANCE in the context of the problem."
   ]
  },
  {
   "cell_type": "markdown",
   "metadata": {
    "hidden": true
   },
   "source": [
    "<font color = \"blue\"> *** 5 points -  answer in cell below *** (don't delete this cell) </font>"
   ]
  },
  {
   "cell_type": "markdown",
   "metadata": {
    "hidden": true
   },
   "source": [
    "<font color = \"green\">\n",
    "The allowable ranges for COUPON, HI, and DISTANCE are\n",
    "<table>\n",
    "    <th>Variable</th><th>Range</th>\n",
    "    <tr>\n",
    "        <td>COUPON</td><td>0 to 221.32046</td>\n",
    "    </tr>\n",
    "    <tr>\n",
    "        <td>HI</td><td>.00120 to infinity</td>\n",
    "    </tr>\n",
    "    <tr>\n",
    "        <td>DISTANCE</td><td>-.00306 to infinity</td>\n",
    "    </tr>\n",
    "    </table>\n",
    "indicating the ranges for the coefficients over which the optimal solution remains optimal. Exceeding the range will change the optimal solution.\n",
    "</font>"
   ]
  },
  {
   "cell_type": "markdown",
   "metadata": {
    "heading_collapsed": true
   },
   "source": [
    "# **P1.6** - Conclusion"
   ]
  },
  {
   "cell_type": "markdown",
   "metadata": {
    "hidden": true
   },
   "source": [
    "Briefly summarize the main conclusion of this project, state what you see as any limitations of the methods used here, and suggest other possible methods of addressing the maximizing of airfare in this problem scenario."
   ]
  },
  {
   "cell_type": "markdown",
   "metadata": {
    "hidden": true
   },
   "source": [
    "<font color = \"blue\"> *** 7 points -  answer in cell below *** (don't delete this cell) </font>"
   ]
  },
  {
   "cell_type": "markdown",
   "metadata": {
    "hidden": true
   },
   "source": [
    "<font color = \"green\">\n",
    "<p>The model suggests an optimal value of 1.14 for average number of coupons, the maximum value allowed for the Herfindel Index (4000), and the maximum value allowed for distance between endpoint airports (8000). Using these parameters will yield a new average fare of \\$203.55. The improvement over the previous average fare in the provided data (\\$160.88) is substantial.\n",
    "</p>\n",
    "<p>\n",
    "An increase in average fare does not guarantee an increase in total profit. A more comprehensive study should be conducted factoring in the opportunity cost of servicing only routes yielding a maximum average fare, taking into consideration operating costs and overhead. It may not be reasonable to only operate on routes between airports that are 1000 miles apart or have the optimal Herfindel Index. This model is likely an oversimplification of the business needs, and should be refactored to incorporate more constraints informed by domain expertise. \n",
    "    </p>\n",
    "</font>"
   ]
  },
  {
   "cell_type": "markdown",
   "metadata": {
    "heading_collapsed": true
   },
   "source": [
    "# **P1.7** - Appendix"
   ]
  },
  {
   "cell_type": "markdown",
   "metadata": {
    "hidden": true
   },
   "source": [
    "Show the mathematical formulation for the linear programming problem used in this project."
   ]
  },
  {
   "cell_type": "markdown",
   "metadata": {
    "hidden": true
   },
   "source": [
    "You can either use LaTeX and markdown or take a clean, cropped picture of neatly handwritten equations and drag-n-drop it here.\n",
    "\n",
    "<font color = \"blue\"> *** 5 points -  answer in cell below *** (don't delete this cell) </font>"
   ]
  },
  {
   "cell_type": "markdown",
   "metadata": {
    "hidden": true
   },
   "source": [
    "<font color = \"green\">\n",
    "Let $a_1$, $a_2$, $a_3$ = the coefficients generated from the linear regression model predicting FARE for COUPON, HI, and DISTANCE, respectively.<br><br>\n",
    "Let $b_1$, $b_2$, $b_3$ = the coefficients generated from the linear regression model predicting PAX for COUPON, HI, and DISTANCE, respectively.<br><br>\n",
    "Let $c_1$, $c_2$, $c_3$ = the coefficients generated from the linear regression model predicting S_INCOME for COUPON, HI, and DISTANCE, respectively.<br><br>\n",
    "Let $d_1$, $d_2$, $d_3$ = the coefficients generated from the linear regression model predicting E_INCOME for COUPON, HI, and DISTANCE, respectively.<br><br>\n",
    "Let $C$ = COUPON<br>\n",
    "Let $H$ = HI<br>\n",
    "Let $D$ = DISTANCE<br>\n",
    "Let $Z$ = Maximum average fare<br>\n",
    "    \n",
    "---\n",
    "    \n",
    "Objective:\n",
    "    \n",
    "Maximize $Z = a_1C + a_2H + a_3D$ \n",
    "\n",
    "subject to \n",
    "\n",
    "$ b_1C + b_2H + b_3D \\leq 20000$\n",
    "    \n",
    "$ c_1C + c_2H + c_3D \\leq 30000$\n",
    "\n",
    "$ d_1C + d_2H + d_3D \\geq 30000$\n",
    "    \n",
    "COUPON $\\leq 1.5$\n",
    "    \n",
    "$4000 \\leq$ HI $\\leq 8000$\n",
    "    \n",
    "$500 \\leq$ DISTANCE $\\leq 1000$\n",
    "    \n",
    "and $C, H, D \\geq 0$\n",
    "</font>"
   ]
  },
  {
   "cell_type": "code",
   "execution_count": null,
   "metadata": {
    "collapsed": false,
    "hidden": true,
    "jupyter": {
     "outputs_hidden": false
    }
   },
   "outputs": [],
   "source": []
  }
 ],
 "metadata": {
  "kernelspec": {
   "display_name": "Python 3 (system-wide)",
   "language": "python",
   "name": "python3"
  },
  "language_info": {
   "codemirror_mode": {
    "name": "ipython",
    "version": 3
   },
   "file_extension": ".py",
   "mimetype": "text/x-python",
   "name": "python",
   "nbconvert_exporter": "python",
   "pygments_lexer": "ipython3",
   "version": "3.8.5"
  },
  "toc": {
   "base_numbering": 1,
   "nav_menu": {},
   "number_sections": true,
   "sideBar": true,
   "skip_h1_title": false,
   "title_cell": "Table of Contents",
   "title_sidebar": "Contents",
   "toc_cell": false,
   "toc_position": {},
   "toc_section_display": true,
   "toc_window_display": true
  }
 },
 "nbformat": 4,
 "nbformat_minor": 4
}
