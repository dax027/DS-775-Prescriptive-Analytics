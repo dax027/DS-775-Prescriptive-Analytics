{
 "cells": [
  {
   "cell_type": "code",
   "execution_count": 1,
   "metadata": {
    "code_folding": [
     0
    ],
    "collapsed": false,
    "jupyter": {
     "outputs_hidden": false
    }
   },
   "outputs": [],
   "source": [
    "# execute to import notebook styling for tables and width etc.\n",
    "from IPython.core.display import HTML\n",
    "import urllib.request\n",
    "response = urllib.request.urlopen('https://raw.githubusercontent.com/DataScienceUWL/DS775v2/master/ds755.css')\n",
    "HTML(response.read().decode(\"utf-8\"));"
   ]
  },
  {
   "cell_type": "markdown",
   "metadata": {},
   "source": [
    "<font size=18>Homework 04: Quadratic Programming and Local Optimization</font>"
   ]
  },
  {
   "cell_type": "markdown",
   "metadata": {
    "heading_collapsed": true
   },
   "source": [
    "# **HW4.1** - Textbook 13-7.2"
   ]
  },
  {
   "cell_type": "markdown",
   "metadata": {
    "hidden": true
   },
   "source": [
    "Consider the following quadratic programming problem:\n",
    "\n",
    "Maximize $f(x_1, x_2) = 8x_1 - x_1^2 + 4x_2 - x_2^2,$\n",
    "\n",
    "subject to $x_1 + x_2 \\leq 2, x_1 \\geq 0, x_2 \\geq 0.$\n",
    "\n",
    "Use Pyomo with the `ipopt` solver to find the solution.  Include nicely formatted output.\n",
    "\n",
    "<font color = \"blue\"> *** 4 points -  code in cell below *** (don't delete this cell) </font>"
   ]
  },
  {
   "cell_type": "code",
   "execution_count": 2,
   "metadata": {
    "collapsed": false,
    "hidden": true,
    "jupyter": {
     "outputs_hidden": false
    }
   },
   "outputs": [
    {
     "name": "stdout",
     "output_type": "stream",
     "text": [
      "Optimal solution: 12\n",
      "at (x1, x2) = (2, 0)\n"
     ]
    }
   ],
   "source": [
    "import pyomo.environ as pyo\n",
    "\n",
    "# Concrete Model\n",
    "model = pyo.ConcreteModel()\n",
    "\n",
    "model.x1 = pyo.Var(domain=pyo.NonNegativeReals)\n",
    "model.x2 = pyo.Var(domain=pyo.NonNegativeReals)\n",
    "\n",
    "# Objective\n",
    "model.max = pyo.Objective(expr=8 * model.x1 - model.x1**2 + 4 * model.x2 - model.x2**2,\n",
    "                         sense=pyo.maximize)\n",
    "\n",
    "# Constraints\n",
    "model.Constraint1 = pyo.Constraint(expr= model.x1 + model.x2 <= 2)\n",
    "\n",
    "# Solve\n",
    "solver = pyo.SolverFactory('ipopt')\n",
    "solver.solve(model)\n",
    "\n",
    "# display solution\n",
    "print(f\"Optimal solution: {model.max():,.0f}\")\n",
    "print(f\"at (x1, x2) = ({model.x1():,.0f}, {model.x2():,.0f})\")\n"
   ]
  },
  {
   "cell_type": "markdown",
   "metadata": {
    "heading_collapsed": true
   },
   "source": [
    "# **HW4.2** - Textbook 13.7-7"
   ]
  },
  {
   "cell_type": "markdown",
   "metadata": {
    "hidden": true
   },
   "source": [
    "The management of the Albert Hanson Company is trying to determine the best product mix for two new products. Because these products would share the same production facilities, the total number of units produced of the two products combined cannot exceed two per hour. Because of uncertainty about how well these products will sell, the profit from producing each product provides decreasing marginal returns as the production rate is increased. In particular, with a production rate of $R_1$ units per hour, it is estimated that Product 1 would provide a profit (in dollars per hour) of $200 R_1 - 100 R_1^2.$ If the production rate of product 2 is $R_2$ units per hour, its estimated profit (in dollars per hour) would be $300 R_2 - 100 R_2^2.$  \n",
    "\n",
    "**HW4.2a** - Formulate a quadratic programming model in algebraic form for determining the product mix that maximizes the total profit per hour.  We are allowing fractional solutions here so this is not an integer programming problem (more about those soon).  Include LaTeX or neat handwritten solution.\n",
    "\n",
    "<font color = \"blue\"> *** 4 points -  answer in cell below *** (don't delete this cell) </font>"
   ]
  },
  {
   "cell_type": "markdown",
   "metadata": {
    "hidden": true
   },
   "source": [
    "<font color = \"green\">\n",
    "Maximize $Z = 200R_1 - 100R_1^2 + 300R_2 - 100R_2^2,$\n",
    "\n",
    "subject to $R_1 + R_2 \\leq 2, R_1 \\geq 0, R_2 \\geq 0.$\n",
    "\n",
    "</font>"
   ]
  },
  {
   "cell_type": "markdown",
   "metadata": {
    "hidden": true
   },
   "source": [
    "**HW4.2b** - Use quadratic programming in Pyomo with the ipopt solver to solve this model.\n",
    "\n",
    "<font color = \"blue\"> *** 4 points -  code in cell below *** (don't delete this cell) </font>"
   ]
  },
  {
   "cell_type": "code",
   "execution_count": 3,
   "metadata": {
    "collapsed": false,
    "hidden": true,
    "jupyter": {
     "outputs_hidden": false
    }
   },
   "outputs": [
    {
     "name": "stdout",
     "output_type": "stream",
     "text": [
      "Max Profit = $312.50 / hour\n",
      "R1 = $0.75 / hour\n",
      "R2 = $1.25 / hour\n"
     ]
    }
   ],
   "source": [
    "# Concrete Model\n",
    "model = pyo.ConcreteModel()\n",
    "\n",
    "model.R1 = pyo.Var(domain=pyo.NonNegativeReals)\n",
    "model.R2 = pyo.Var(domain=pyo.NonNegativeReals)\n",
    "\n",
    "# Objective\n",
    "model.profit = pyo.Objective(expr=200 * model.R1 - 100 * model.R1**2 + 300 * model.R2 - 100 * model.R2**2,\n",
    "                         sense=pyo.maximize)\n",
    "\n",
    "# Constraints\n",
    "model.Constraint1 = pyo.Constraint(expr= model.R1 + model.R2 <= 2)\n",
    "\n",
    "# Solve\n",
    "solver = pyo.SolverFactory('ipopt')\n",
    "solver.solve(model)\n",
    "\n",
    "# display solution\n",
    "import babel.numbers as numbers\n",
    "print(f\"Max Profit = ${model.profit():,.2f} / hour\")\n",
    "\n",
    "print(f\"R1 = ${model.R1():,.2f} / hour\")\n",
    "print(f\"R2 = ${model.R2():,.2f} / hour\")\n"
   ]
  },
  {
   "cell_type": "markdown",
   "metadata": {},
   "source": [
    "# **HW4.3** - Textbook Problem 13.10-5"
   ]
  },
  {
   "cell_type": "markdown",
   "metadata": {},
   "source": [
    "For the nonconvex profit function $$p(x) = 100x^6 - 1359x^5 + 6836 x^4 - 15670 x^3 + 15870 x^2 - 5095 x$$\n",
    "with $0 \\leq x \\leq 5.$ Graph the function on the interval and find all of the local maxima and minima.\n",
    "\n",
    "**HW4.3a** - Graph the function in the range $0 \\leq x \\leq 5$:\n",
    "\n",
    "<font color = \"blue\"> *** 2 points -  code in cell below *** (don't delete this cell) </font>"
   ]
  },
  {
   "cell_type": "code",
   "execution_count": 4,
   "metadata": {
    "collapsed": false,
    "jupyter": {
     "outputs_hidden": false
    }
   },
   "outputs": [
    {
     "data": {
      "image/png": "[encoded data removed]",
      "text/plain": [
       "<Figure size 864x504 with 1 Axes>"
      ]
     },
     "metadata": {
      "image/png": {
       "height": 424,
       "width": 738
      },
      "needs_background": "light"
     },
     "output_type": "display_data"
    }
   ],
   "source": [
    "import matplotlib.pyplot as plt\n",
    "import numpy as np\n",
    "\n",
    "x = np.linspace(0, 5, num=100)\n",
    "P = lambda x:100 * x**6 - 1359 * x**5 + 6836 * x**4 - 15670 * x**3 + 15870 * x**2 - 5095 * x\n",
    "\n",
    "plt.plot(x,P(x))\n",
    "plt.axvline(color=\"black\")\n",
    "plt.axhline(color=\"black\")\n",
    "plt.xlabel('x');\n",
    "plt.ylabel('y');\n",
    "plt.grid()\n",
    "plt.show()"
   ]
  },
  {
   "cell_type": "markdown",
   "metadata": {},
   "source": [
    "**HW4.3b** -Find all of the local minima and maxima.  Your code should display nicely formatted output.  Include both the location ($x$) and the value of the profit ($p(x)$) for each extrema.\n",
    "\n",
    "<font color = \"blue\"> *** 4 points -  code in cell below *** (don't delete this cell) </font>"
   ]
  },
  {
   "cell_type": "code",
   "execution_count": 5,
   "metadata": {
    "collapsed": false,
    "jupyter": {
     "outputs_hidden": false
    }
   },
   "outputs": [
    {
     "name": "stdout",
     "output_type": "stream",
     "text": [
      "There is a local minimum value of -504.75 at x = 0.23\n",
      "There is a local minimum value of 183.07 at x = 2.16\n",
      "There is a local minimum value of -3719.64 at x = 4.57\n",
      "There is a local maximum value of 753.45 at x = 1.19\n",
      "There is a local maximum value of 906.90 at x = 3.18\n"
     ]
    }
   ],
   "source": [
    "from scipy.optimize import minimize\n",
    "\n",
    "# find minima first\n",
    "x0_min = [0,2,4.5]\n",
    "for x0 in x0_min:\n",
    "    result = minimize( P, x0, bounds = [(-.9,5.1)])\n",
    "    print(f\"There is a local minimum value of {result.fun[0]:.2f} at x = {result.x[0]:.2f}\")\n",
    "    \n",
    "# now maxima\n",
    "neg_p = lambda x:-P(x)\n",
    "x0_max = [1, 3]\n",
    "for x0 in x0_max:\n",
    "    result = minimize( neg_p, x0, bounds = [(1,4)])\n",
    "    print(f\"There is a local maximum value of {-result.fun[0]:.2f} at x = {result.x[0]:.2f}\")"
   ]
  },
  {
   "cell_type": "markdown",
   "metadata": {},
   "source": [
    "**HW4.3c** - Write a multistart procedure that starts from uniform randomly sampled points in $[0,5]$ to locate the absolute maximum value of profit.\n",
    "\n",
    "<font color = \"blue\"> *** 4 points -  code in cell below *** (don't delete this cell) </font>"
   ]
  },
  {
   "cell_type": "code",
   "execution_count": 6,
   "metadata": {
    "collapsed": false,
    "jupyter": {
     "outputs_hidden": false
    }
   },
   "outputs": [
    {
     "name": "stdout",
     "output_type": "stream",
     "text": [
      "Global maximum: 906.90 at x = 3.18\n"
     ]
    }
   ],
   "source": [
    "P = lambda x:100 * x**6 - 1359 * x**5 + 6836 * x**4 - 15670 * x**3 + 15870 * x**2 - 5095 * x\n",
    "neg_p = lambda x:-P(x)\n",
    "\n",
    "def multistart(dim, num_local_searches):\n",
    "    maximum = 0\n",
    "    for i in range(num_local_searches):\n",
    "        x_initial = np.random.uniform(0, 5, dim)\n",
    "        result = minimize(neg_p, x_initial, bounds = [(0,5)])\n",
    "        if -result.fun > maximum:\n",
    "            maximum = -result.fun[0]\n",
    "            max_X = result.x[0]\n",
    "    return maximum, max_X\n",
    "    \n",
    "dim = 1\n",
    "num_local_searches = 50\n",
    "max_value = multistart(dim,num_local_searches)\n",
    "print(f\"Global maximum: {max_value[0]:,.2f} at x = {max_value[1]:,.2f}\")\n",
    "\n"
   ]
  },
  {
   "cell_type": "markdown",
   "metadata": {},
   "source": [
    "# **HW4.4** - Simple Linear Regression"
   ]
  },
  {
   "cell_type": "markdown",
   "metadata": {},
   "source": [
    "To find the line of least squares fit of the form $\\hat{y} = b_0 + b_1 x$ to fit data of the form $(x_1,y_1), (x_2,y_2),\\ldots,(x_n,y_n)$ we minimize a loss function.  The loss function is the sum of the squares residuals and only depends on $b_0$ and $b_1$ for fixed $xy$-data:\n",
    "\n",
    "$$ SS(b_0,b_1) = \\sum_{i=1}^{n} \\left( y_i - \\hat{y}_i \\right)^2 = \\sum_{i=1}^{n} \\left( y_i - (b_0 + b_1 x_i) \\right)^2 $$.\n",
    "\n",
    "The file age_height.csv contains ages (years) and heights (inches) for 7 children. Write Python code to evaluate the loss function  and use `minimize` to identify the coefficients of the line of least squares fit for predicting height ($y$) from ($age$).  Include a scatter plot of the data that includes a plot of the line. Your solution will be similar to the logistic regression example but take care to adjust the objective function to minimize the sum of squares written above.\n",
    "\n",
    "<font color = \"blue\"> *** 8 points -  answer in cell below *** (don't delete this cell) </font>"
   ]
  },
  {
   "cell_type": "code",
   "execution_count": 7,
   "metadata": {
    "collapsed": false,
    "jupyter": {
     "outputs_hidden": false
    }
   },
   "outputs": [
    {
     "name": "stdout",
     "output_type": "stream",
     "text": [
      "\n",
      "Slope is: 2.9375\n",
      "Intercept is: 25.6250\n",
      "Model is: Y = 2.9375 X + 25.6250\n",
      "\n"
     ]
    },
    {
     "data": {
      "image/png": "[encoded data removed]",
      "text/plain": [
       "<Figure size 864x504 with 1 Axes>"
      ]
     },
     "metadata": {
      "image/png": {
       "height": 428,
       "width": 723
      },
      "needs_background": "light"
     },
     "output_type": "display_data"
    }
   ],
   "source": [
    "import pandas as pd\n",
    "from sklearn.linear_model import LinearRegression\n",
    "\n",
    "# read in data\n",
    "data = pd.read_csv(\"./data/age_height.csv\")\n",
    "age = np.array(data['age'])\n",
    "height = np.array(data['height'])\n",
    "\n",
    "\n",
    "# loss function\n",
    "def neg_LR_loss( coef, *args):\n",
    "    b0 = coef[0]\n",
    "    b1 = coef[1]\n",
    "    x = args[0]\n",
    "    y = args[1]\n",
    "    LR = sum((y - (b0 + b1 * x))**2)\n",
    "    return(LR)\n",
    "\n",
    "# minimize\n",
    "result = minimize(neg_LR_loss,[0,0],args=(age, height))\n",
    "b0 = result.x[0]\n",
    "b1 = result.x[1]\n",
    "\n",
    "# validate in sklearn\n",
    "# model = LinearRegression(fit_intercept = True)\n",
    "# model.fit(age.reshape(-1,1), height)\n",
    "\n",
    "# output\n",
    "print(f\"\\nSlope is: {b1:.4f}\")\n",
    "print(f\"Intercept is: {b0:.4f}\")\n",
    "print(f\"Model is: Y = {b1:,.4f} X + {b0:,.4f}\\n\")\n",
    "\n",
    "# plot\n",
    "matplotlib.pyplot.scatter(age, height)\n",
    "plt.xlabel(\"age\")\n",
    "plt.ylabel(\"height\")\n",
    "plt.xlim(0,10)\n",
    "plt.ylim(0,60)\n",
    "plt.grid()\n",
    "plt.plot(np.linspace(0,10,100), (b1 * np.linspace(0,10,100) + b0))\n",
    "plt.show()\n"
   ]
  },
  {
   "cell_type": "markdown",
   "metadata": {},
   "source": [
    "# **HW4.5** - Knapsack Optimization"
   ]
  },
  {
   "cell_type": "markdown",
   "metadata": {},
   "source": [
    "The knapsack problem is a classical combinatorial optimization problem that will be good for practicing with the ideas of discrete local search and multistart.  Given a set of items, each with a weight and a value, determine which items to include in a collection so that the total weight is less than or equal to a given limit and the total value is as large as possible.  In the 0-1 version of the knapsack problem, the decision variables are binary (or boolean) and represent whether or not to include each item in the collection.  We'll start with 20 items and you need to determine the collection of items that maximizes the value and keeps the total weight up to 50 (that is $\\leq 50$)."
   ]
  },
  {
   "cell_type": "code",
   "execution_count": 8,
   "metadata": {
    "collapsed": false,
    "jupyter": {
     "outputs_hidden": false
    }
   },
   "outputs": [],
   "source": [
    "# generate random weights and values for a knapsack problem\n",
    "import numpy as np\n",
    "num_items = 20\n",
    "np.random.seed(seed=123)\n",
    "values = np.random.randint(low=5, high=50, size=num_items)\n",
    "weights = np.random.randint(low=1, high=10, size=num_items)\n",
    "max_weight = 50\n",
    "np.random.seed() # use system clock to reset the seed so future random numbers will appear random"
   ]
  },
  {
   "cell_type": "markdown",
   "metadata": {},
   "source": [
    "The variables will be a vector of booleans of length `num_items`.  We could initialize a vector like this and then set the vector to include the 1st, 3rd, and 5th items:"
   ]
  },
  {
   "cell_type": "code",
   "execution_count": 9,
   "metadata": {
    "collapsed": false,
    "jupyter": {
     "outputs_hidden": false
    }
   },
   "outputs": [
    {
     "data": {
      "text/plain": [
       "array([ True, False,  True, False,  True, False, False, False, False,\n",
       "       False, False, False, False, False, False, False, False, False,\n",
       "       False, False])"
      ]
     },
     "execution_count": 9,
     "metadata": {},
     "output_type": "execute_result"
    }
   ],
   "source": [
    "x = np.zeros(num_items, dtype = bool)  # all false\n",
    "x[[0,2,4]] = True\n",
    "x"
   ]
  },
  {
   "cell_type": "markdown",
   "metadata": {},
   "source": [
    "The total weight of the items included in the collection:"
   ]
  },
  {
   "cell_type": "code",
   "execution_count": 10,
   "metadata": {
    "collapsed": false,
    "jupyter": {
     "outputs_hidden": false
    }
   },
   "outputs": [
    {
     "data": {
      "text/plain": [
       "11"
      ]
     },
     "execution_count": 10,
     "metadata": {},
     "output_type": "execute_result"
    }
   ],
   "source": [
    "tot_weight = sum( weights[x] )\n",
    "tot_weight"
   ]
  },
  {
   "cell_type": "markdown",
   "metadata": {},
   "source": [
    "The total value of the items included in the collection:"
   ]
  },
  {
   "cell_type": "code",
   "execution_count": 11,
   "metadata": {
    "collapsed": false,
    "jupyter": {
     "outputs_hidden": false
    }
   },
   "outputs": [
    {
     "data": {
      "text/plain": [
       "68"
      ]
     },
     "execution_count": 11,
     "metadata": {},
     "output_type": "execute_result"
    }
   ],
   "source": [
    "tot_value = sum( values[x] )\n",
    "tot_value"
   ]
  },
  {
   "cell_type": "markdown",
   "metadata": {},
   "source": [
    "Implement a local search where the search starts with no items included in the collection and generates new states (moves) by randomly choosing one of the booleans in the state vector and toggling it.  Like this:"
   ]
  },
  {
   "cell_type": "code",
   "execution_count": 12,
   "metadata": {
    "collapsed": false,
    "jupyter": {
     "outputs_hidden": false
    }
   },
   "outputs": [
    {
     "data": {
      "text/plain": [
       "array([ True, False,  True, False,  True, False, False, False, False,\n",
       "       False, False, False, False, False, False, False, False, False,\n",
       "        True, False])"
      ]
     },
     "execution_count": 12,
     "metadata": {},
     "output_type": "execute_result"
    }
   ],
   "source": [
    "# try executing this cell a few times and watch x change\n",
    "bit_to_flip = np.random.randint(num_items)\n",
    "x[bit_to_flip] = ~x[bit_to_flip]\n",
    "x"
   ]
  },
  {
   "cell_type": "markdown",
   "metadata": {},
   "source": [
    "Accept the state if the total weight is is $\\leq 50$ and maximize the value by moving uphill\n",
    "\n",
    "**HW4.5a** - Write a local search algorithm that moves uphill  until no improvements have been made in the last 1000 iterations.  Write the algorithm as a function with the values and weights as inputs and returns the best collection of items to include as well as the value and weight of that collection.\n",
    "\n",
    "<font color = \"blue\"> *** 5 points -  answer in cell below *** (don't delete this cell) </font>"
   ]
  },
  {
   "cell_type": "code",
   "execution_count": 13,
   "metadata": {
    "collapsed": false,
    "jupyter": {
     "outputs_hidden": false
    }
   },
   "outputs": [
    {
     "data": {
      "text/plain": [
       "(391, 49, array([ True, False, False,  True, False,  True, False, False, False,\n",
       "         True,  True,  True, False, False, False, False,  True,  True,\n",
       "         True,  True]))"
      ]
     },
     "execution_count": 13,
     "metadata": {},
     "output_type": "execute_result"
    }
   ],
   "source": [
    "def knapsack_local(weights,values):\n",
    "    # initialize\n",
    "    bag = np.zeros(num_items, dtype = bool) \n",
    "    iterations = 0\n",
    "    tot_weight = sum(weights[bag])\n",
    "    tot_value = sum(values[bag])\n",
    "    new_bag = bag\n",
    "\n",
    "    while (iterations < 1000):\n",
    "        \n",
    "        bit_to_flip = np.random.randint(num_items)\n",
    "        new_bag[bit_to_flip] = ~new_bag[bit_to_flip]\n",
    "        new_weight = sum(weights[new_bag])\n",
    "        new_value = sum(values[new_bag])\n",
    "        \n",
    "        if (new_weight <= 50 and new_value > tot_value):\n",
    "            bag = new_bag\n",
    "            iterations = 0\n",
    "            tot_weight = sum(weights[bag])\n",
    "            tot_value = sum(values[bag])\n",
    "            keep_bag = new_bag\n",
    "        else:\n",
    "            iterations += 1\n",
    "            new_bag = bag\n",
    "           \n",
    "    return tot_value, tot_weight, keep_bag\n",
    "\n",
    "knapsack_local(weights, values)\n"
   ]
  },
  {
   "cell_type": "markdown",
   "metadata": {},
   "source": [
    "**HW4.5b** - Now write a loop to do this 100 local searches (each with random moves starting from a collection with no items in it.  Clearly identify the best overall solution.  Next week we'll see some alternative search tecniques that will generally enable us to find better solutions.\n",
    "\n",
    "<font color = \"blue\"> *** 5 points -  answer in cell below *** (don't delete this cell) </font>"
   ]
  },
  {
   "cell_type": "code",
   "execution_count": 14,
   "metadata": {},
   "outputs": [],
   "source": [
    "cluster_bomb = [knapsack_local(weights, values) for i in range(100)]"
   ]
  },
  {
   "cell_type": "code",
   "execution_count": 15,
   "metadata": {},
   "outputs": [
    {
     "name": "stdout",
     "output_type": "stream",
     "text": [
      "Best result:\n",
      "Value: 419, Weight: 50, \n",
      "Knapsack Booleans: [False False  True  True  True False  True False False  True  True  True\n",
      " False False  True  True False  True False  True]\n"
     ]
    }
   ],
   "source": [
    "best_result = cluster_bomb[0]\n",
    "for bomb in cluster_bomb:\n",
    "    if bomb[0] > best_result[0]:\n",
    "        best_result = bomb\n",
    "    elif bomb[0] == best_result[0]:\n",
    "        if bomb[1] < best_result[1]:\n",
    "            best_result = bomb\n",
    "print(f\"Best result:\\nValue: {best_result[0]}, Weight: {best_result[1]}, \\nKnapsack Booleans: {best_result[2]}\")\n",
    "    "
   ]
  },
  {
   "cell_type": "markdown",
   "metadata": {},
   "source": [
    "# **HW4.6** - Object Oriented Solution to Gerrymandering Problem\n",
    "\n",
    "The Gerrymandering Problem was a Self_Assessment problem near the end of the Lesson_04 notebook.  You can see our solution in the Self_Assessement_Soln notebook.  Use the locsearch package in this directory to find a local solution to the Gerrymandering problem.  You can follow the example at the end of Lesson_04, but note that the locsearch package minimizes a function and the Gerrymandering Problem is a maximization problem so you'll have negate the output of the fitness function.  Notes:  you should include `cities` and `num_districts` in your `__init__` constructor since the objective function needs both of those extra arguments; in your `move()` method you'll have to figure out `num_cities`\n",
    "\n",
    "We've copied the set up code from the lesson for your convenience.  Use `summarize_districts()` to display your final result."
   ]
  },
  {
   "cell_type": "code",
   "execution_count": 5,
   "metadata": {
    "collapsed": false,
    "jupyter": {
     "outputs_hidden": false
    }
   },
   "outputs": [],
   "source": [
    "import numpy as np\n",
    "import pandas as pd\n",
    "\n",
    "# load the data + random assignment\n",
    "num_districts = 10\n",
    "min_voters_in_district = 150\n",
    "max_voters_in_district = 350\n",
    "\n",
    "dems = [152,81,75,34,62,38,48,74,98,66,83,86,72,28,112,45,93,72]\n",
    "reps = [62,59,83,52,87,87,69,49,62,72,75,82,83,53,98,82,68,98]\n",
    "cities = pd.DataFrame( data = {'dems':dems, 'reps':reps})\n",
    "\n",
    "# initial assignment\n",
    "assign = np.random.randint(low=0,high=num_districts,size = 18)\n",
    "\n",
    "# ***maximize*** this function\n",
    "def fitness_districts(assign, cities, num_districts):\n",
    "    df = cities.groupby(assign).sum()\n",
    "    fitness = sum(df['reps'] > df['dems'])\n",
    "    total_voters = np.zeros(num_districts, dtype=np.int32)\n",
    "    total_voters[df.index] = df.sum(axis=1)\n",
    "    fitness -= np.abs(\n",
    "        np.minimum(np.maximum(total_voters, 150), 350) - total_voters).sum()\n",
    "    return -(fitness)\n",
    "\n",
    "# to display output, not used in optimization\n",
    "def summarize_districts(assign, cities):\n",
    "    reps = np.zeros(num_districts, dtype=np.int32)\n",
    "    dems = np.zeros(num_districts, dtype=np.int32)\n",
    "    df = cities.groupby(assign).sum()\n",
    "    reps[df.index] = df['reps']\n",
    "    dems[df.index] = df['dems']\n",
    "    total = reps + dems\n",
    "    delta = np.minimum(np.maximum(total, min_voters_in_district),\n",
    "                       max_voters_in_district) - total\n",
    "    rep_win = reps > dems\n",
    "    dict = {'reps': reps, 'dems': dems, 'total': total, 'rep_win': rep_win}\n",
    "    return (pd.DataFrame(data=dict))"
   ]
  },
  {
   "cell_type": "code",
   "execution_count": 6,
   "metadata": {},
   "outputs": [
    {
     "data": {
      "text/plain": [
       "1177"
      ]
     },
     "execution_count": 6,
     "metadata": {},
     "output_type": "execute_result"
    }
   ],
   "source": [
    "fitness_districts(assign, cities, num_districts)"
   ]
  },
  {
   "cell_type": "markdown",
   "metadata": {},
   "source": [
    "<font color = \"blue\"> *** 10 points -  answer in cell below *** (don't delete this cell) </font>"
   ]
  },
  {
   "cell_type": "code",
   "execution_count": 11,
   "metadata": {
    "collapsed": false,
    "jupyter": {
     "outputs_hidden": false
    }
   },
   "outputs": [
    {
     "ename": "TypeError",
     "evalue": "objective() missing 1 required positional argument: 'num_districts'",
     "output_type": "error",
     "traceback": [
      "\u001b[0;31m---------------------------------------------------------------------------\u001b[0m",
      "\u001b[0;31mTypeError\u001b[0m                                 Traceback (most recent call last)",
      "\u001b[0;32m<ipython-input-11-77c2ce09bbc7>\u001b[0m in \u001b[0;36m<module>\u001b[0;34m\u001b[0m\n\u001b[1;32m     23\u001b[0m \u001b[0;34m\u001b[0m\u001b[0m\n\u001b[1;32m     24\u001b[0m \u001b[0mgm\u001b[0m \u001b[0;34m=\u001b[0m \u001b[0mGerryMandering\u001b[0m\u001b[0;34m(\u001b[0m\u001b[0mcities\u001b[0m\u001b[0;34m)\u001b[0m\u001b[0;34m\u001b[0m\u001b[0;34m\u001b[0m\u001b[0m\n\u001b[0;32m---> 25\u001b[0;31m \u001b[0mgm\u001b[0m\u001b[0;34m.\u001b[0m\u001b[0mlocalsearch\u001b[0m\u001b[0;34m(\u001b[0m\u001b[0;34m)\u001b[0m\u001b[0;34m\u001b[0m\u001b[0;34m\u001b[0m\u001b[0m\n\u001b[0m",
      "\u001b[0;32m~/Homework/Lesson 04 Homework - QP NP/locsearch/ls.py\u001b[0m in \u001b[0;36mlocalsearch\u001b[0;34m(self)\u001b[0m\n\u001b[1;32m     89\u001b[0m         \u001b[0;31m# set initial state and compute initial objective value\u001b[0m\u001b[0;34m\u001b[0m\u001b[0;34m\u001b[0m\u001b[0;34m\u001b[0m\u001b[0m\n\u001b[1;32m     90\u001b[0m         \u001b[0mself\u001b[0m\u001b[0;34m.\u001b[0m\u001b[0mbest_x\u001b[0m \u001b[0;34m=\u001b[0m \u001b[0mself\u001b[0m\u001b[0;34m.\u001b[0m\u001b[0mcopy_state\u001b[0m\u001b[0;34m(\u001b[0m\u001b[0mself\u001b[0m\u001b[0;34m.\u001b[0m\u001b[0mstate\u001b[0m\u001b[0;34m)\u001b[0m\u001b[0;34m\u001b[0m\u001b[0;34m\u001b[0m\u001b[0m\n\u001b[0;32m---> 91\u001b[0;31m         \u001b[0mself\u001b[0m\u001b[0;34m.\u001b[0m\u001b[0mbest_f\u001b[0m \u001b[0;34m=\u001b[0m \u001b[0mself\u001b[0m\u001b[0;34m.\u001b[0m\u001b[0mobjective\u001b[0m\u001b[0;34m(\u001b[0m\u001b[0;34m)\u001b[0m\u001b[0;34m\u001b[0m\u001b[0;34m\u001b[0m\u001b[0m\n\u001b[0m\u001b[1;32m     92\u001b[0m         \u001b[0mself\u001b[0m\u001b[0;34m.\u001b[0m\u001b[0mupdate\u001b[0m\u001b[0;34m(\u001b[0m\u001b[0;34m)\u001b[0m\u001b[0;34m\u001b[0m\u001b[0;34m\u001b[0m\u001b[0m\n\u001b[1;32m     93\u001b[0m \u001b[0;34m\u001b[0m\u001b[0m\n",
      "\u001b[0;31mTypeError\u001b[0m: objective() missing 1 required positional argument: 'num_districts'"
     ]
    }
   ],
   "source": [
    "def move_one_city(assign, num_districts):\n",
    "    num_cities = assign.shape[0] # or len(assign)\n",
    "    new_assign = assign.copy()\n",
    "    switch_city = np.random.randint(num_cities) # which city to assign new random district\n",
    "    while new_assign[switch_city] == assign[switch_city]: # loops until new and old are different\n",
    "        new_assign[ switch_city] = np.random.randint(num_districts)\n",
    "    return new_assign\n",
    "\n",
    "from locsearch import LocalSearcher\n",
    "\n",
    "class GerryMandering(LocalSearcher):\n",
    "    \n",
    "    # pass extra data (the distance matrix) into the constructor\n",
    "#     def __init__(self, state, num_districts):\n",
    "#         self.num_districts = num_districts\n",
    "#         super(GerryMandering, self).__init__(state)  # important!\n",
    "        \n",
    "    def move(self):\n",
    "        self.state = move_one_city(self.state, state)\n",
    "        \n",
    "    def objective(self):\n",
    "        return fitness_districts(self.state, num_districts)\n",
    "    \n",
    "gm = GerryMandering(cities)\n",
    "gm.localsearch()\n",
    "\n",
    "\n",
    "# ran out of time and stamina on this one...   "
   ]
  }
 ],
 "metadata": {
  "kernelspec": {
   "display_name": "Python 3 (system-wide)",
   "language": "python",
   "name": "python3"
  },
  "language_info": {
   "codemirror_mode": {
    "name": "ipython",
    "version": 3
   },
   "file_extension": ".py",
   "mimetype": "text/x-python",
   "name": "python",
   "nbconvert_exporter": "python",
   "pygments_lexer": "ipython3",
   "version": "3.8.5"
  },
  "toc": {
   "base_numbering": 1,
   "nav_menu": {},
   "number_sections": true,
   "sideBar": true,
   "skip_h1_title": false,
   "title_cell": "Table of Contents",
   "title_sidebar": "Contents",
   "toc_cell": false,
   "toc_position": {
    "height": "calc(100% - 180px)",
    "left": "10px",
    "top": "150px",
    "width": "275.824px"
   },
   "toc_section_display": true,
   "toc_window_display": false
  },
  "varInspector": {
   "cols": {
    "lenName": 16,
    "lenType": 16,
    "lenVar": 40
   },
   "kernels_config": {
    "python": {
     "delete_cmd_postfix": "",
     "delete_cmd_prefix": "del ",
     "library": "var_list.py",
     "varRefreshCmd": "print(var_dic_list())"
    },
    "r": {
     "delete_cmd_postfix": ") ",
     "delete_cmd_prefix": "rm(",
     "library": "var_list.r",
     "varRefreshCmd": "cat(var_dic_list()) "
    }
   },
   "types_to_exclude": [
    "module",
    "function",
    "builtin_function_or_method",
    "instance",
    "_Feature"
   ],
   "window_display": false
  }
 },
 "nbformat": 4,
 "nbformat_minor": 4
}
