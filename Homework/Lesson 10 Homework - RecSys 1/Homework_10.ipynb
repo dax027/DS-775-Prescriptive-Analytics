{
 "cells": [
  {
   "cell_type": "code",
   "execution_count": 1,
   "metadata": {
    "code_folding": [
     0
    ],
    "collapsed": false,
    "jupyter": {
     "outputs_hidden": false
    }
   },
   "outputs": [],
   "source": [
    "# execute to import notebook styling for tables and width etc.\n",
    "from IPython.core.display import HTML\n",
    "import urllib.request\n",
    "response = urllib.request.urlopen('https://raw.githubusercontent.com/DataScienceUWL/DS775v2/master/ds755.css')\n",
    "HTML(response.read().decode(\"utf-8\"));"
   ]
  },
  {
   "cell_type": "markdown",
   "metadata": {},
   "source": [
    "<font size=18>Lesson 10 Homework</font>"
   ]
  },
  {
   "cell_type": "markdown",
   "metadata": {},
   "source": [
    "# **HW10.1** - Build a Simple Recommender for Low-Budget Films"
   ]
  },
  {
   "cell_type": "markdown",
   "metadata": {},
   "source": [
    "You will be using the data set **tmdb_5000_movies.csv** to build three simple recommender systems, computing your score three different ways. The point to this problem is to demonstrate that when you apply filters and when you calculate m and C matters, though there is no one right way to do it. \n",
    "\n",
    "For each piece of this problem, you'll start with all of the movies.\n",
    "\n",
    "For each piece of this problem, you will apply the following filters, but at different times. In your prep work, we recommend that you create a function that takes in a dataframe, applies the following filters, and returns a dataframe. This is not required, but it will make your code easier.\n",
    "- movies with runtime of 200 minutes or less\n",
    "- movies with a budget between (and exclusive of) \\\\$0 million and \\\\$3 million\n",
    "- movies by any production company except Universal Pictures or Warner Bros.\n",
    "\n",
    "Note that most movies are by more than one production company.\n",
    "\n",
    "This data set can be found in the data folder in the same folder as this notebook. \n",
    "\n",
    "**You will need to use the option encoding = \"ISO-8859-1\" in the read_csv function in order to open this file.** Use the examples given in the lesson and Banik's book as a guide. (Do not explode. Use the lesson approach.)\n",
    "\n",
    "For each of the resulting dataframes, output the top ten movies in order, based on the weighted rating. Display only the movie title, vote_count, vote_average, and weighted rating.\n",
    "\n"
   ]
  },
  {
   "cell_type": "markdown",
   "metadata": {},
   "source": [
    "## Prep Work\n",
    "\n",
    "* Do your imports.\n",
    "* Create your weighted_rating function.\n",
    "* Optionally create an apply_filters function.\n",
    "* Read in the tmdb_5000_movies.csv. The only columns you will need are title, runtime, budget, production_companies, vote_count, and vote_average. (<a href=\"https://pandas.pydata.org/pandas-docs/stable/reference/api/pandas.read_csv.html\" target=\"_new\">Pandas has a handy parameter called \"usecols\" that you can use to read in just the needed columns.</a>)\n",
    "* Prep the production_companies column for filtering (similar to how we handed genres in the lesson - reminder: do not explode).\n",
    "* Print the total number of movies in the dataframe.\n",
    "* <a href=\"https://pandas.pydata.org/pandas-docs/stable/reference/api/pandas.DataFrame.copy.html\" target=\"_new\">Make 3 copies of this dataframe</a> - movies1, movies2, movies3.\n",
    "\n",
    "<font color = \"blue\"> *** 4 points -  answer in cell below *** (don't delete this cell) </font>\n"
   ]
  },
  {
   "cell_type": "code",
   "execution_count": 2,
   "metadata": {
    "collapsed": false,
    "jupyter": {
     "outputs_hidden": false
    }
   },
   "outputs": [
    {
     "name": "stdout",
     "output_type": "stream",
     "text": [
      "There are 4803 movies in the dataframe.\n",
      "\n"
     ]
    }
   ],
   "source": [
    "# Use this cell to prep\n",
    "# packages\n",
    "import pandas as pd\n",
    "import numpy as np\n",
    "from ast import literal_eval\n",
    "from sklearn.feature_extraction.text import CountVectorizer\n",
    "from sklearn.metrics.pairwise import cosine_similarity\n",
    "from sklearn.feature_extraction.text import TfidfVectorizer\n",
    "from sklearn.metrics.pairwise import linear_kernel\n",
    "\n",
    "# returns IMDB's weighted rating\n",
    "def weighted_rating(x, m, C):\n",
    "    v = x['vote_count']\n",
    "    R = x['vote_average']\n",
    "    # Compute the weighted score\n",
    "    return (v/(v+m) * R) + (m/(m+v) * C)\n",
    "\n",
    "# applies filters\n",
    "def apply_filters(df):\n",
    "    df = df[(df['runtime'] <= 200) & (df['budget'] >= 0) & (df['budget'] <= 3000000)]\n",
    "    df = df[df['production_companies'].apply(lambda x: \"Universal Pictures\" not in x)]\n",
    "    df = df[df['production_companies'].apply(lambda x: \"Warner Bros.\" not in x)]\n",
    "    return df\n",
    "\n",
    "# import data\n",
    "df = pd.read_csv('data/tmdb_5000_movies.csv', usecols=['title', 'runtime', 'budget', 'production_companies', 'vote_count', 'vote_average'])\n",
    "\n",
    "# format column\n",
    "df['production_companies'] = df['production_companies'].fillna('[]').apply(literal_eval).apply(lambda x: [i['name'] for i in x] if isinstance(x, list) else [])\n",
    "\n",
    "# Save three copies of the dataframe\n",
    "movies1, movies2, movies3 = df, df, df\n",
    "\n",
    "# Print the number of movies in the dataframe\n",
    "print(f\"There are {df.shape[0]} movies in the dataframe.\\n\")\n"
   ]
  },
  {
   "cell_type": "markdown",
   "metadata": {},
   "source": [
    "## **HW10.1a** - Score, Then Filter\n",
    "In this approach, you will score the entire movies1 dataset, then you will filter the results.\n",
    "\n",
    "### Step-by-Step\n",
    "Using movies1...\n",
    "\n",
    "- Compute m as the movies that have a vote_count >= the 80th percentile. \n",
    "- Compute C as the mean of the vote average of all movies.\n",
    "- Calculate the weighted_rating score for each movie, adding a weighted_rating column to the dataframe.\n",
    "* Apply the following **filters**:\n",
    "    - movies with runtime of 200 minutes or less\n",
    "    - movies with a budget between (and exclusive of) \\\\$0 million and \\\\$3 million\n",
    "    - movies by any production company except Universal Pictures or Warner Bros.\n",
    "\n",
    "- Print m and C.\n",
    "- Print the total number of movies left at the end of this problem.\n",
    "- Display your top 10 results.\n",
    "\n",
    "<font color = \"blue\"> *** 3 points -  answer in cell below *** (don't delete this cell) </font>"
   ]
  },
  {
   "cell_type": "code",
   "execution_count": 3,
   "metadata": {
    "collapsed": false,
    "jupyter": {
     "outputs_hidden": false
    }
   },
   "outputs": [
    {
     "name": "stdout",
     "output_type": "stream",
     "text": [
      "m = 957.6000000000004\n",
      "C = 6.092171559442011\n",
      "\n",
      "There are 1449 movies in the dataframe after applying the criteria.\n",
      "\n",
      "                                                  title  vote_count  \\\n",
      "4300                                     Reservoir Dogs        3697   \n",
      "4602                                       12 Angry Men        2078   \n",
      "4302                     The Good, the Bad and the Ugly        2311   \n",
      "4337                                        Taxi Driver        2535   \n",
      "3940                                             Oldboy        1945   \n",
      "2862                                         About Time        2067   \n",
      "4173  Dr. Strangelove or: How I Learned to Stop Worr...        1442   \n",
      "4579                    Monty Python and the Holy Grail        1708   \n",
      "4238                                       Modern Times         856   \n",
      "4333                                              Rocky        1791   \n",
      "\n",
      "      vote_average    score1  \n",
      "4300           8.0  7.607499  \n",
      "4602           8.2  7.535072  \n",
      "4302           8.1  7.511768  \n",
      "4337           8.0  7.476912  \n",
      "3940           8.0  7.370586  \n",
      "2862           7.8  7.259295  \n",
      "4173           8.0  7.238650  \n",
      "4579           7.8  7.186473  \n",
      "4238           8.1  7.039845  \n",
      "4333           7.5  7.009519  \n"
     ]
    }
   ],
   "source": [
    "#fetch m from the whole dataset\n",
    "m = movies1['vote_count'].quantile(.8)\n",
    "\n",
    "#fetch C from the whole dataset\n",
    "C = movies1['vote_average'].mean()\n",
    "\n",
    "#compute weighted score\n",
    "movies1['score1'] = movies1.apply(weighted_rating, args=(m,C), axis=1)\n",
    "\n",
    "#apply filters\n",
    "movies1 = apply_filters(movies1)\n",
    "\n",
    "print(f\"m = {m}\\nC = {C}\\n\")\n",
    "print(f\"There are {movies1.shape[0]} movies in the dataframe after applying the criteria.\\n\")\n",
    "\n",
    "# sort and display\n",
    "movies1 = movies1.sort_values('score1', ascending=False)\n",
    "movies1 = movies1[['title','vote_count','vote_average','score1']]\n",
    "print(movies1.head(10))"
   ]
  },
  {
   "cell_type": "markdown",
   "metadata": {},
   "source": [
    "## **HW10.1b** - Filter, Then Score\n",
    "In this approach, we'll first filter, and then score the movies.\n",
    "\n",
    "### Step-By-Step\n",
    "Starting with movies2...\n",
    "\n",
    "- Apply the following **filters**:\n",
    "    - movies with runtime of 200 minutes or less\n",
    "    - movies with a budget between (and exclusive of) \\\\$0 million and \\\\$3 million\n",
    "    - movies by any production company except Universal Pictures or Warner Bros.\n",
    "- Compute m as the movies that have a vote_count >= the 80th percentile, out of the remaining movies. \n",
    "- Compute C as the mean of the vote_average of the remaining movies.\n",
    "\n",
    "- Calculate the weighted rating score.\n",
    "- Print m and C.\n",
    "- Print the total number of movies left.\n",
    "- Display your top 10 results.\n",
    "\n",
    "<font color = \"blue\"> *** 3 points -  answer in cell below *** (don't delete this cell) </font>"
   ]
  },
  {
   "cell_type": "code",
   "execution_count": 4,
   "metadata": {
    "collapsed": false,
    "jupyter": {
     "outputs_hidden": false
    }
   },
   "outputs": [
    {
     "name": "stdout",
     "output_type": "stream",
     "text": [
      "m = 167.4000000000001\n",
      "C = 5.7636991028295395\n",
      "\n",
      "There are 1449 movies in the dataframe after applying the criteria.\n",
      "\n",
      "                                                  title  vote_count  \\\n",
      "4602                                       12 Angry Men        2078   \n",
      "4302                     The Good, the Bad and the Ugly        2311   \n",
      "4300                                     Reservoir Dogs        3697   \n",
      "4337                                        Taxi Driver        2535   \n",
      "3940                                             Oldboy        1945   \n",
      "4173  Dr. Strangelove or: How I Learned to Stop Worr...        1442   \n",
      "4238                                       Modern Times         856   \n",
      "2862                                         About Time        2067   \n",
      "4579                    Monty Python and the Holy Grail        1708   \n",
      "3984                                   Some Like It Hot         808   \n",
      "\n",
      "      vote_average    score2  \n",
      "4602           8.2  8.018368  \n",
      "4302           8.1  7.942198  \n",
      "4300           8.0  7.903127  \n",
      "4337           8.0  7.861472  \n",
      "3940           8.0  7.822781  \n",
      "4173           8.0  7.767394  \n",
      "4238           8.1  7.717846  \n",
      "2862           7.8  7.647441  \n",
      "4579           7.8  7.618238  \n",
      "3984           8.0  7.616202  \n"
     ]
    }
   ],
   "source": [
    "#apply filters\n",
    "movies2 = apply_filters(movies2)\n",
    "\n",
    "#fetch m \n",
    "m = movies2['vote_count'].quantile(.8)\n",
    "\n",
    "#fetch C \n",
    "C = movies2['vote_average'].mean()\n",
    "\n",
    "#compute weighted score\n",
    "movies2['score2'] = movies2.apply(weighted_rating, args=(m,C), axis=1)\n",
    "\n",
    "print(f\"m = {m}\\nC = {C}\\n\")\n",
    "\n",
    "print(f\"There are {movies2.shape[0]} movies in the dataframe after applying the criteria.\\n\")\n",
    "\n",
    "# sort and display\n",
    "movies2 = movies2.sort_values('score2', ascending=False)\n",
    "movies2 = movies2[['title','vote_count','vote_average','score2']]\n",
    "print(movies2.head(10))\n"
   ]
  },
  {
   "cell_type": "markdown",
   "metadata": {},
   "source": [
    "## **HW10.1c** - Popular Movies Only\n",
    "In this approach, you're going to first filter to the top 20% of all movies, then filter to our critera, then compute m and C.\n",
    "\n",
    "### Step-by-Step\n",
    "Starting with movies3...\n",
    "\n",
    "* Filter movies3 to the top 20% of vote_count.\n",
    "* Apply the following **filters**:\n",
    "    - movies with runtime of 200 minutes or less\n",
    "    - movies with a budget between (and exclusive of) \\\\$0 million and \\\\$3 million\n",
    "    - movies by any production company except Universal Pictures or Warner Bros.\n",
    "* Compute m as the movies that have a vote_count >= the 80th percentile, out of the remaining movies.\n",
    "* Compute C as the mean of the vote_average out of the remaining movies.\n",
    "* Calculate the weighted rating score.\n",
    "* Print m and C.\n",
    "* Print the total number of remaining movies.\n",
    "* Display your top 10 results.\n",
    "\n",
    "<font color = \"blue\"> *** 3 points -  answer in cell below *** (don't delete this cell) </font>\n"
   ]
  },
  {
   "cell_type": "code",
   "execution_count": 5,
   "metadata": {
    "collapsed": false,
    "jupyter": {
     "outputs_hidden": false
    }
   },
   "outputs": [
    {
     "name": "stdout",
     "output_type": "stream",
     "text": [
      "m = 1914.0\n",
      "C = 7.169444444444447\n",
      "\n",
      "There are 36 movies in the dataframe after applying the criteria.\n",
      "\n",
      "                                                  title  vote_count  \\\n",
      "4300                                     Reservoir Dogs        3697   \n",
      "4602                                       12 Angry Men        2078   \n",
      "4302                     The Good, the Bad and the Ugly        2311   \n",
      "4337                                        Taxi Driver        2535   \n",
      "3940                                             Oldboy        1945   \n",
      "4173  Dr. Strangelove or: How I Learned to Stop Worr...        1442   \n",
      "2862                                         About Time        2067   \n",
      "4579                    Monty Python and the Holy Grail        1708   \n",
      "4081                                The Lives of Others         958   \n",
      "4017                                     Before Sunrise         959   \n",
      "\n",
      "      vote_average    score3  \n",
      "4300           8.0  7.716684  \n",
      "4602           8.2  7.705891  \n",
      "4302           8.1  7.678442  \n",
      "4337           8.0  7.642687  \n",
      "3940           8.0  7.588058  \n",
      "4173           8.0  7.526316  \n",
      "2862           7.8  7.496839  \n",
      "4579           7.8  7.466791  \n",
      "4081           7.9  7.413133  \n",
      "4017           7.7  7.346543  \n"
     ]
    }
   ],
   "source": [
    "m = movies3['vote_count'].quantile(.8)\n",
    "movies3 = movies3[movies3['vote_count'] >= m]\n",
    "\n",
    "#apply filters\n",
    "movies3 = apply_filters(movies3)\n",
    "\n",
    "m = movies3['vote_count'].quantile(.8)\n",
    "C = movies3['vote_average'].mean()\n",
    "\n",
    "#compute weighted score\n",
    "movies3['score3'] = movies3.apply(weighted_rating, args=(m,C), axis=1)\n",
    "\n",
    "print(f\"m = {m}\\nC = {C}\\n\")\n",
    "\n",
    "print(f\"There are {movies3.shape[0]} movies in the dataframe after applying the criteria.\\n\")\n",
    "\n",
    "# sort and display\n",
    "movies3 = movies3.sort_values('score3', ascending=False)\n",
    "movies3 = movies3[['title','vote_count','vote_average','score3']]\n",
    "print(movies3.head(10))\n"
   ]
  },
  {
   "cell_type": "markdown",
   "metadata": {},
   "source": [
    "## **HW10.1d** - Which version of the score would you use? Why?\n",
    "\n",
    "Talk briefly about which approach you would take if you were recommending low-budget movies. \n",
    "\n",
    "<font color = \"blue\"> *** 2 point -  answer in cell below *** (don't delete this cell) </font>"
   ]
  },
  {
   "cell_type": "markdown",
   "metadata": {},
   "source": [
    "<font color = \"green\">\n",
    "I feel like the second approach makes the most sense for this use case. The first approach scores the movies against the entire population and then filters down to the target.  The third approach filters to the movies with the most votes first and then scores them. I assume that low budget films will tend to have fewer viewers on the whole. The second approach narrows the population down to the appropriate criteria before applying the ranking, and seems to be appropriate for this case.\n",
    "</font>"
   ]
  },
  {
   "cell_type": "markdown",
   "metadata": {},
   "source": [
    "# **HW10.2** - Build a Knowledge-Based Recommender"
   ]
  },
  {
   "cell_type": "markdown",
   "metadata": {},
   "source": [
    "Use the data set **tmdb_5000_movies.csv** to build a knowledge-based recommender system that solicits the following information listed below and then ranks the movies according to the IMDB weighted rating formula. Use all available movies to begin with (*i.e.* don't restrict it to just the top 20%, for example) Print the top 5 highest rated movies for this recommendation. \n",
    "\n",
    "Ask the user to enter answers to the following questions:\n",
    "\n",
    "- Enter a preferred genre. (Print a list of genres for the user to choose from before asking for their inputs.)\n",
    "- Enter another preferred genre.\n",
    "- Enter a minimum runtime (in minutes).\n",
    "- Enter a maximum runtime (in minutes).\n",
    "    \n",
    "Create the recommender to select movies with either genre entered. Be inclusive of the minimum (>=) and maximum (<=) runtimes.\n",
    "\n",
    "Calculate m (80th percentile) and C (mean of the vote_aveage) from your filtered dataset.\n",
    "\n",
    "Test your recommender by calling the function and having it give recommendations for genres \"crime\" and \"drama\" between of 50 and 120 minutes long and display only the movie title and the requested characteristics as well as the vote count, vote average, and IMDB weighted rating with your recommendations.\n",
    "\n",
    "Use the examples given in the lesson as a guide. (Do not explode.)\n",
    "\n",
    "Provide your code and a demonstration of the recommender below.  We may run your code as well.\n",
    "\n",
    "<font color = \"blue\"> *** 15 points -  answer in cell below *** (don't delete this cell) </font>"
   ]
  },
  {
   "cell_type": "code",
   "execution_count": 6,
   "metadata": {
    "collapsed": false,
    "jupyter": {
     "outputs_hidden": false
    }
   },
   "outputs": [
    {
     "name": "stdout",
     "output_type": "stream",
     "text": [
      "Input preferred genre\n"
     ]
    },
    {
     "name": "stdin",
     "output_type": "stream",
     "text": [
      " Science Fiction\n"
     ]
    },
    {
     "name": "stdout",
     "output_type": "stream",
     "text": [
      "Input another preferred genre\n"
     ]
    },
    {
     "name": "stdin",
     "output_type": "stream",
     "text": [
      " Fantasy\n"
     ]
    },
    {
     "name": "stdout",
     "output_type": "stream",
     "text": [
      "Input longest duration\n"
     ]
    },
    {
     "name": "stdin",
     "output_type": "stream",
     "text": [
      " 120\n"
     ]
    },
    {
     "name": "stdout",
     "output_type": "stream",
     "text": [
      "Input lowest duration\n"
     ]
    },
    {
     "name": "stdin",
     "output_type": "stream",
     "text": [
      " 50\n"
     ]
    },
    {
     "name": "stdout",
     "output_type": "stream",
     "text": [
      "                                      title  \\\n",
      "2285                     Back to the Future   \n",
      "3158                                  Alien   \n",
      "2152  Eternal Sunshine of the Spotless Mind   \n",
      "1725                           Blade Runner   \n",
      "1987                   Howl's Moving Castle   \n",
      "\n",
      "                                            genres  runtime  vote_count  \\\n",
      "2285  [Adventure, Comedy, Science Fiction, Family]    116.0        6079   \n",
      "3158   [Horror, Action, Thriller, Science Fiction]    117.0        4470   \n",
      "2152             [Science Fiction, Drama, Romance]    108.0        3652   \n",
      "1725            [Science Fiction, Drama, Thriller]    117.0        3509   \n",
      "1987               [Fantasy, Animation, Adventure]    119.0        1991   \n",
      "\n",
      "      vote_average     score  \n",
      "2285           8.0  7.570388  \n",
      "3158           7.9  7.381918  \n",
      "2152           7.9  7.300754  \n",
      "1725           7.9  7.283880  \n",
      "1987           8.2  7.188955  \n"
     ]
    }
   ],
   "source": [
    "def build_chart(gen_df, percentile=0.8):\n",
    "    \n",
    "    #Ask for preferred genres\n",
    "    print(\"Input preferred genre\")\n",
    "    genre = input()\n",
    "    \n",
    "    #Ask for preferred genres\n",
    "    print(\"Input another preferred genre\")\n",
    "    genre2 = input()\n",
    "    \n",
    "    #Ask for upper limit of duration\n",
    "    print(\"Input longest duration\")\n",
    "    high_time = int(input())\n",
    "    \n",
    "    #Ask for lower limit of duration\n",
    "    print(\"Input lowest duration\")\n",
    "    low_time = int(input())\n",
    "    \n",
    "    #Define a new movies variable to store the preferred movies. Copy the contents of gen_df to movies\n",
    "    movies = gen_df.copy()\n",
    "    \n",
    "    #Filter based on the condition\n",
    "    movies = movies[(movies['genres'].apply(lambda x: genre in x) | movies['genres'].apply(lambda x: genre2 in x)) & #updated filtering based on a list.\n",
    "                    (movies['runtime'] >= low_time) & \n",
    "                    (movies['runtime'] <= high_time)]\n",
    "                        \n",
    "    #Compute the values of C and m for the movies\n",
    "    C = movies['vote_average'].mean()\n",
    "    m = movies['vote_count'].quantile(percentile)\n",
    "                    \n",
    "    #Calculate score using the IMDB formula\n",
    "    movies['score'] = movies.apply(lambda x: (x['vote_count']/(x['vote_count']+m) * x['vote_average']) \n",
    "                                       + (m/(m+x['vote_count']) * C)\n",
    "                                       ,axis=1)\n",
    "                    \n",
    "    # return only requested columns\n",
    "    movies = movies[['title', 'genres', 'runtime', 'vote_count', 'vote_average', 'score']]\n",
    "                    \n",
    "    #Sort movies in descending order of their scores\n",
    "    movies = movies.sort_values('score', ascending=False)\n",
    "                    \n",
    "    return movies\n",
    "                    \n",
    "\n",
    "df = pd.read_csv('data/tmdb_5000_movies.csv', usecols=['title', 'runtime', 'genres', 'vote_count', 'vote_average'])\n",
    "df['genres'] = df['genres'].fillna('[]').apply(literal_eval).apply(lambda x: [i['name'] for i in x] if isinstance(x, list) else [])\n",
    "\n",
    "out_movies = build_chart(df, .8)\n",
    "print(out_movies.head(5))"
   ]
  },
  {
   "cell_type": "markdown",
   "metadata": {},
   "source": [
    "# **HW10.3** - Build a Content-Based Recommender"
   ]
  },
  {
   "cell_type": "markdown",
   "metadata": {},
   "source": [
    "Use the data set **tmdb_5000_movies.csv** to build a meta-data based recommender by creating a \"soup\" based on the \n",
    "\n",
    "- all genres\n",
    "- top three keywords (Hint: Review page 55 of the book.)\n",
    "- top three production companies (Hint: Review page 55 of the book.)\n",
    "- overview\n",
    "\n",
    "Generate a similarity matrix using cosine similarity with the **CountVectorizer**. \n",
    "\n",
    "Be sure to delete the passed-in movie from the row of similarity scores before sorting the score tuples. (See the lesson, not the book.)\n",
    "\n",
    "**HW10.3a** - Put your code in the cell below, then answer the follow up questions.  Use the examples given in the lesson and Banik's book as a guide.\n",
    "\n",
    "<font color = \"blue\"> *** 10 points -  answer in cell below *** (don't delete this cell) </font>"
   ]
  },
  {
   "cell_type": "code",
   "execution_count": 7,
   "metadata": {
    "collapsed": false,
    "jupyter": {
     "outputs_hidden": false
    }
   },
   "outputs": [],
   "source": [
    "df = pd.read_csv('data/tmdb_5000_movies.csv')\n",
    "df['overview'] = df['overview'].fillna('')\n",
    "df['genres'] = df['genres'].fillna('[]').apply(literal_eval).apply(lambda x: [i['name'] for i in x] if isinstance(x, list) else [])\n",
    "df['keywords'] = df['keywords'].fillna('[]').apply(literal_eval).apply(lambda x: [i['name'] for i in x] if isinstance(x, list) else [])\n",
    "df['production_companies'] = df['production_companies'].fillna('[]').apply(literal_eval).apply(lambda x: [i['name'] for i in x] if isinstance(x, list) else [])\n",
    "\n",
    "def content_recommender(df, title, cosine_sim, indices, topN=2): \n",
    "    # Obtain the index of the movie that matches the title\n",
    "    idx = indices[title]\n",
    "    # Get the pairwsie similarity scores of all movies with that movie and convert to tuples\n",
    "    sim_scores = list(enumerate(cosine_sim[idx]))\n",
    "    #delete the movie that was passed in\n",
    "    del sim_scores[idx]\n",
    "    \n",
    "    # Sort the movies based on the cosine similarity scores\n",
    "    sim_scores = sorted(sim_scores, key=lambda x: x[1], reverse=True)\n",
    "    \n",
    "    # Get the scores of the top-n most similar movies.\n",
    "    sim_scores = sim_scores[:topN]\n",
    "    \n",
    "    # Get the movie indices\n",
    "    movie_indices = [i[0] for i in sim_scores]\n",
    "    \n",
    "    df = df[['title', 'genres']]\n",
    "    \n",
    "    # Return the top 10 most similar movies\n",
    "    return df.iloc[movie_indices]\n",
    "\n",
    "# Returns the list top 3 elements or entire list; whichever is more.\n",
    "def generate_list(x):\n",
    "    if isinstance(x, list):\n",
    "        names = [ele for ele in x]\n",
    "        \n",
    "        if len(names) > 3:\n",
    "            names = names[:3]\n",
    "        return names\n",
    "    \n",
    "    return []\n",
    "\n",
    "df['keywords'] = df['keywords'].apply(generate_list)\n",
    "df['production_companies'] = df['production_companies'].apply(generate_list)\n",
    "\n",
    "#Function that creates a soup out of the desired metadata\n",
    "def create_soup(x):\n",
    "    return ' '.join(x['genres']) + \" \" + ' '.join(x['keywords']) + \" \" + ' '.join(x['production_companies']) + \" \" + x['overview']\n",
    "\n",
    "df['soup'] = df.apply(create_soup, axis=1)\n",
    "\n",
    "count = CountVectorizer(stop_words='english')\n",
    "count_matrix = count.fit_transform(df['soup'])\n",
    "\n",
    "#create the reverse mapping\n",
    "indices = pd.Series(df.index, index=df['title']).drop_duplicates()\n",
    "\n",
    "#Compute the cosine similarity score \n",
    "cosine_sim = cosine_similarity(count_matrix, count_matrix)\n",
    "\n"
   ]
  },
  {
   "cell_type": "markdown",
   "metadata": {},
   "source": [
    "**HW10.3b** -  After you have constructed it, print the \"soup\" for the first entry (the 0 entry).\n",
    "\n",
    "<font color = \"blue\"> *** 4 points -  answer in cell below *** (don't delete this cell) </font>"
   ]
  },
  {
   "cell_type": "code",
   "execution_count": 8,
   "metadata": {
    "collapsed": false,
    "jupyter": {
     "outputs_hidden": false
    }
   },
   "outputs": [
    {
     "name": "stdout",
     "output_type": "stream",
     "text": [
      "Action Adventure Fantasy Science Fiction culture clash future space war Ingenious Film Partners Twentieth Century Fox Film Corporation Dune Entertainment In the 22nd century, a paraplegic Marine is dispatched to the moon Pandora on a unique mission, but becomes torn between following orders and protecting an alien civilization.\n"
     ]
    }
   ],
   "source": [
    "print(df['soup'][0])"
   ]
  },
  {
   "cell_type": "markdown",
   "metadata": {},
   "source": [
    "**HW103.** List the top 10 recommended movies that go with the movie Halloween. Display only the movie titles and genres of your recommendations.\n",
    "\n",
    "<font color = \"blue\"> *** 6 points -  answer in cell below *** (don't delete this cell) </font>"
   ]
  },
  {
   "cell_type": "code",
   "execution_count": 9,
   "metadata": {
    "collapsed": false,
    "jupyter": {
     "outputs_hidden": false
    }
   },
   "outputs": [
    {
     "data": {
      "text/html": [
       "<div>\n",
       "<style scoped>\n",
       "    .dataframe tbody tr th:only-of-type {\n",
       "        vertical-align: middle;\n",
       "    }\n",
       "\n",
       "    .dataframe tbody tr th {\n",
       "        vertical-align: top;\n",
       "    }\n",
       "\n",
       "    .dataframe thead th {\n",
       "        text-align: right;\n",
       "    }\n",
       "</style>\n",
       "<table border=\"1\" class=\"dataframe\">\n",
       "  <thead>\n",
       "    <tr style=\"text-align: right;\">\n",
       "      <th></th>\n",
       "      <th>title</th>\n",
       "      <th>genres</th>\n",
       "    </tr>\n",
       "  </thead>\n",
       "  <tbody>\n",
       "    <tr>\n",
       "      <th>3746</th>\n",
       "      <td>The Boy Next Door</td>\n",
       "      <td>[Thriller]</td>\n",
       "    </tr>\n",
       "    <tr>\n",
       "      <th>4415</th>\n",
       "      <td>Snow White: A Deadly Summer</td>\n",
       "      <td>[Horror, Thriller]</td>\n",
       "    </tr>\n",
       "    <tr>\n",
       "      <th>4134</th>\n",
       "      <td>Lesbian Vampire Killers</td>\n",
       "      <td>[Horror, Comedy]</td>\n",
       "    </tr>\n",
       "    <tr>\n",
       "      <th>4190</th>\n",
       "      <td>May</td>\n",
       "      <td>[Drama, Horror, Thriller, Romance]</td>\n",
       "    </tr>\n",
       "    <tr>\n",
       "      <th>3175</th>\n",
       "      <td>Black Christmas</td>\n",
       "      <td>[Horror, Thriller]</td>\n",
       "    </tr>\n",
       "    <tr>\n",
       "      <th>3050</th>\n",
       "      <td>Body Double</td>\n",
       "      <td>[Crime, Mystery, Horror, Thriller]</td>\n",
       "    </tr>\n",
       "    <tr>\n",
       "      <th>2551</th>\n",
       "      <td>Halloween II</td>\n",
       "      <td>[Horror]</td>\n",
       "    </tr>\n",
       "    <tr>\n",
       "      <th>3920</th>\n",
       "      <td>Phantasm II</td>\n",
       "      <td>[Action, Horror, Science Fiction, Thriller]</td>\n",
       "    </tr>\n",
       "    <tr>\n",
       "      <th>3383</th>\n",
       "      <td>Losin' It</td>\n",
       "      <td>[Comedy]</td>\n",
       "    </tr>\n",
       "    <tr>\n",
       "      <th>3586</th>\n",
       "      <td>As Above, So Below</td>\n",
       "      <td>[Horror, Thriller]</td>\n",
       "    </tr>\n",
       "  </tbody>\n",
       "</table>\n",
       "</div>"
      ],
      "text/plain": [
       "                            title                                       genres\n",
       "3746            The Boy Next Door                                   [Thriller]\n",
       "4415  Snow White: A Deadly Summer                           [Horror, Thriller]\n",
       "4134      Lesbian Vampire Killers                             [Horror, Comedy]\n",
       "4190                          May           [Drama, Horror, Thriller, Romance]\n",
       "3175              Black Christmas                           [Horror, Thriller]\n",
       "3050                  Body Double           [Crime, Mystery, Horror, Thriller]\n",
       "2551                 Halloween II                                     [Horror]\n",
       "3920                  Phantasm II  [Action, Horror, Science Fiction, Thriller]\n",
       "3383                    Losin' It                                     [Comedy]\n",
       "3586           As Above, So Below                           [Horror, Thriller]"
      ]
     },
     "execution_count": 9,
     "metadata": {},
     "output_type": "execute_result"
    }
   ],
   "source": [
    "content_recommender(df, 'Halloween', cosine_sim, indices, 10)"
   ]
  }
 ],
 "metadata": {
  "kernelspec": {
   "display_name": "Python 3 (system-wide)",
   "language": "python",
   "name": "python3"
  },
  "language_info": {
   "codemirror_mode": {
    "name": "ipython",
    "version": 3
   },
   "file_extension": ".py",
   "mimetype": "text/x-python",
   "name": "python",
   "nbconvert_exporter": "python",
   "pygments_lexer": "ipython3",
   "version": "3.8.5"
  },
  "toc": {
   "base_numbering": 1,
   "nav_menu": {},
   "number_sections": true,
   "sideBar": true,
   "skip_h1_title": false,
   "title_cell": "Table of Contents",
   "title_sidebar": "Contents",
   "toc_cell": false,
   "toc_position": {
    "height": "calc(100% - 180px)",
    "left": "10px",
    "top": "150px",
    "width": "260.509px"
   },
   "toc_section_display": true,
   "toc_window_display": true
  },
  "varInspector": {
   "cols": {
    "lenName": 16,
    "lenType": 16,
    "lenVar": 40
   },
   "kernels_config": {
    "python": {
     "delete_cmd_postfix": "",
     "delete_cmd_prefix": "del ",
     "library": "var_list.py",
     "varRefreshCmd": "print(var_dic_list())"
    },
    "r": {
     "delete_cmd_postfix": ") ",
     "delete_cmd_prefix": "rm(",
     "library": "var_list.r",
     "varRefreshCmd": "cat(var_dic_list()) "
    }
   },
   "types_to_exclude": [
    "module",
    "function",
    "builtin_function_or_method",
    "instance",
    "_Feature"
   ],
   "window_display": false
  }
 },
 "nbformat": 4,
 "nbformat_minor": 4
}
