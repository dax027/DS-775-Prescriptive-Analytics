{
 "cells": [
  {
   "cell_type": "code",
   "execution_count": 1,
   "metadata": {
    "code_folding": [],
    "collapsed": false,
    "jupyter": {
     "outputs_hidden": false
    }
   },
   "outputs": [],
   "source": [
    "# execute to import notebook styling for tables and width etc.\n",
    "from IPython.core.display import HTML\n",
    "import urllib.request\n",
    "response = urllib.request.urlopen('https://raw.githubusercontent.com/DataScienceUWL/DS775v2/master/ds755.css')\n",
    "HTML(response.read().decode(\"utf-8\"));"
   ]
  },
  {
   "cell_type": "markdown",
   "metadata": {},
   "source": [
    "<font size=18>Lesson 02 Homework</font>"
   ]
  },
  {
   "cell_type": "markdown",
   "metadata": {},
   "source": [
    "# **HW2.1** - Sensitive Parameter"
   ]
  },
  {
   "cell_type": "markdown",
   "metadata": {},
   "source": [
    "A “sensitive parameter” is a parameter\n",
    "\n",
    "a.    that can be set outside of  its allowable range.\n",
    "\n",
    "b.    that satisfies the certainty assumption.\n",
    "\n",
    "c.    whose value must be estimated.\n",
    "\n",
    "d.      is a constraint boundary that can be changed without affecting the optimal solution.    \n",
    "\n",
    "e.    whose values cannot be changed without changing the optimal solution."
   ]
  },
  {
   "cell_type": "markdown",
   "metadata": {},
   "source": [
    "<font color = \"blue\"> *** 2 points -  answer in cell below *** (don't delete this cell) </font>"
   ]
  },
  {
   "cell_type": "markdown",
   "metadata": {},
   "source": [
    "<font color = \"green\">\n",
    "e.\n",
    "</font>"
   ]
  },
  {
   "cell_type": "markdown",
   "metadata": {},
   "source": [
    "# HW2.2 - Shadow Price"
   ]
  },
  {
   "cell_type": "markdown",
   "metadata": {},
   "source": [
    "The shadow price for a resource is\n",
    "\n",
    "\n",
    "a.  the amount the objective function Z increases for each one unit  increase in the amount of the resource available when it goes beyond its allowable range.\n",
    "\n",
    "b.     the amount the objective function Z increases for each one unit  increase in the amount of the resource available, provided that is stays within its allowable range.\n",
    "\n",
    "c.  the range of values for the right-hand side over which the current optimal solution remains feasible.  \n",
    "\n",
    "d.  a constraint that must be satisfied.  \n",
    "\n",
    "e.  a constraint boundary that can be characterized by a random variable. "
   ]
  },
  {
   "cell_type": "markdown",
   "metadata": {},
   "source": [
    "<font color = \"blue\"> *** 2 points -  answer in cell below *** (don't delete this cell) </font>"
   ]
  },
  {
   "cell_type": "markdown",
   "metadata": {},
   "source": [
    "<font color = \"green\">\n",
    "b.\n",
    "</font>"
   ]
  },
  {
   "cell_type": "markdown",
   "metadata": {},
   "source": [
    "# HW2.3 - Giapetto Interactive Widget Problem"
   ]
  },
  {
   "cell_type": "markdown",
   "metadata": {},
   "source": [
    "Giapetto's Woodcarving, Inc., manufactures two types of wooden toys: soldiers and trains.\n",
    "\n",
    "A soldier sells for \\$27 and uses \\$10 worth of raw materials. Each soldier that is manufactured increases Giapetto’s variable labor and overhead costs by \\$14 (so think about what the unit profit would be). A train sells for \\$21 and uses \\$9 worth of raw materials. Each train built increases Giapetto’s variable labor and overhead costs by \\$10. The manufacture of wooden soldiers and trains requires two types of skilled labor: carpentry and finishing. A soldier requires 2 hours of finishing labor and 1 hour of carpentry labor. A train requires 1 hour of finishing labor and 1 hour of carpentry labor. Each week, Giapetto can obtain all the needed raw material but only 80 carpentry hours and 100 finishing hours. Demand for trains ($x_2$) is unlimited, but at most 40 soldiers ($x_1$) are bought each week. Giapetto wants to maximize weekly profit (revenues-costs). (This example is from the textbook \"Operations Research\" by Wayne L. Winston.)\n",
    "\n",
    "The model formulation that can be used to maximize Giapetto’s weekly profit is:\n",
    "\n",
    "Maximize $Z = 3x_1 + 2x_2,$ \n",
    "\n",
    "subject to \n",
    "\n",
    "$\n",
    "\\begin{array}{rcrcr}\n",
    "x_1 & + & x_2 & \\leq & 80 \\\\\n",
    "2x_1 & + & x_2 & \\leq & 100 \\\\\n",
    " x_1        &         &  & \\leq & 40 \n",
    "\\end{array}\n",
    "$\n",
    "\n",
    "and $x_1 \\geq 0, x_2 \\geq 0.$\n",
    "\n",
    "**Use the widget below** to answer the following questions (after the widget) about Giapetto's production of wooden soldiers and trains.  Do not use other methods to find the answers."
   ]
  },
  {
   "cell_type": "code",
   "execution_count": 2,
   "metadata": {
    "code_folding": [],
    "collapsed": false,
    "jupyter": {
     "outputs_hidden": false
    }
   },
   "outputs": [
    {
     "data": {
      "application/vnd.jupyter.widget-view+json": {
       "model_id": "e293bad422d348b38155cce7987e5ff5",
       "version_major": 2,
       "version_minor": 0
      },
      "text/plain": [
       "interactive(children=(FloatSlider(value=0.5, description='profScl', max=1.5, min=0.5, step=0.05), FloatSlider(…"
      ]
     },
     "execution_count": 2,
     "metadata": {},
     "output_type": "execute_result"
    }
   ],
   "source": [
    "# run this cell for interactive widget, code details not important\n",
    "%matplotlib inline\n",
    "%run scripts/Giapetto_Interact\n",
    "GiapettoInteractiveGraph(True,True)"
   ]
  },
  {
   "cell_type": "markdown",
   "metadata": {},
   "source": [
    "**HW2.3a** - Find and interpret the shadow price for the weekly carpentry hours."
   ]
  },
  {
   "cell_type": "markdown",
   "metadata": {},
   "source": [
    "<font color = \"blue\"> *** 2 points -  answer in cell below *** (don't delete this cell) </font>"
   ]
  },
  {
   "cell_type": "markdown",
   "metadata": {},
   "source": [
    "<font color = \"green\">\n",
    "The shadow price for b1 is 1.\n",
    "</font>"
   ]
  },
  {
   "cell_type": "markdown",
   "metadata": {},
   "source": [
    "**HW2.3b** - Find and interpret the allowable range for the weekly finishing hours."
   ]
  },
  {
   "cell_type": "markdown",
   "metadata": {},
   "source": [
    "<font color = \"blue\"> *** 1 points -  answer in cell below *** (don't delete this cell) </font>"
   ]
  },
  {
   "cell_type": "markdown",
   "metadata": {},
   "source": [
    "<font color = \"green\">\n",
    "The allowable range is 80 to 121.\n",
    "</font>"
   ]
  },
  {
   "cell_type": "markdown",
   "metadata": {},
   "source": [
    "**HW2.3c** - If everything else stays the same as in the initial problem, how far could the demand for toy soldiers drop before the demand becomes a sensitive parameter?"
   ]
  },
  {
   "cell_type": "markdown",
   "metadata": {},
   "source": [
    "<font color = \"blue\"> *** 1 points -  answer in cell below *** (don't delete this cell) </font>"
   ]
  },
  {
   "cell_type": "markdown",
   "metadata": {},
   "source": [
    "<font color = \"green\">\n",
    "Demand could drop by 20 before becoming a sensitive parameter.\n",
    "</font>"
   ]
  },
  {
   "cell_type": "markdown",
   "metadata": {},
   "source": [
    "**HW2.3d** - If everything else stayed the same, but the price of selling the soldier increased to \\$28.50,\n",
    "\n",
    "    (i) what would be the maximum profit? "
   ]
  },
  {
   "cell_type": "markdown",
   "metadata": {},
   "source": [
    "<font color = \"blue\"> *** 1 points -  answer in cell below *** (don't delete this cell) </font>"
   ]
  },
  {
   "cell_type": "markdown",
   "metadata": {},
   "source": [
    "<font color = \"green\">\n",
    "Increasing the unit profit by 1.5 yields a maximum profit of 220.\n",
    "</font>"
   ]
  },
  {
   "cell_type": "markdown",
   "metadata": {},
   "source": [
    "    (ii) how many of each toy should be produced to achieve it,"
   ]
  },
  {
   "cell_type": "markdown",
   "metadata": {},
   "source": [
    "<font color = \"blue\"> *** 1 points -  answer in cell below *** (don't delete this cell) </font>"
   ]
  },
  {
   "cell_type": "markdown",
   "metadata": {},
   "source": [
    "<font color = \"green\">\n",
    "40 soldiers and 20 trains\n",
    "</font>"
   ]
  },
  {
   "cell_type": "markdown",
   "metadata": {},
   "source": [
    "    (iii) and what is the new shadow price for weekly carpentry hours?  Why is this the new shadow price?"
   ]
  },
  {
   "cell_type": "markdown",
   "metadata": {},
   "source": [
    "<font color = \"blue\"> *** 2 points -  answer in cell below *** (don't delete this cell) </font>"
   ]
  },
  {
   "cell_type": "markdown",
   "metadata": {},
   "source": [
    "<font color = \"green\">\n",
    "The new shadow price is 0 because the constraint is not sensitive in the new model. Profit does not change with a change in that parameter.\n",
    "</font>"
   ]
  },
  {
   "cell_type": "markdown",
   "metadata": {},
   "source": [
    "# **HW2.4** - Textbook Problem 4.7-3"
   ]
  },
  {
   "cell_type": "markdown",
   "metadata": {},
   "source": [
    "You are given the following linear programming problem: \n",
    "\n",
    "Maximize $Z = 4x_1 + 2x_2,$ \n",
    "\n",
    "subject to \n",
    "\n",
    "$\n",
    "\\begin{array}{rcrcr}\n",
    "2x_1 & & & \\leq & 16 \\\\\n",
    "x_1 & + & 3x_2 & \\leq & 17 \\\\\n",
    "         &         & x_2 & \\leq & 5 \n",
    "\\end{array}\n",
    "$\n",
    "\n",
    "and $x_1 \\geq 0, x_2 \\geq 0.$\n",
    "\n",
    "**HW2.4a** Solve this problem graphically and include a screenshot here."
   ]
  },
  {
   "cell_type": "markdown",
   "metadata": {},
   "source": [
    "<font color = \"blue\"> *** 2 points -  answer in cell below *** (don't delete this cell) </font>"
   ]
  },
  {
   "cell_type": "markdown",
   "metadata": {},
   "source": [
    "<img src=\"./images/2.4a.png\" width=800/>\n",
    "<img src=\"./images/2.4a2.png\" width=800/>\n",
    "<font color = \"green\">\n",
    "The optimal $Z$ of $38$ occurs when $x_1 = 8$ and $x_2 = 3$.\n",
    "</font>"
   ]
  },
  {
   "cell_type": "markdown",
   "metadata": {},
   "source": [
    "**HW2.4b** Use graphical analysis to find the shadow prices for the\n",
    "  resources.  Use PHPSimplex.com/en, DESMOS.com, or graph by hand.  Include a screenshot or image of your work, put it in the images folder and use an HTML image tag to include it in the notebook.  Make sure to clearly identify the shadow prices."
   ]
  },
  {
   "cell_type": "markdown",
   "metadata": {},
   "source": [
    "<font color = \"blue\"> *** 2 points -  answer in cell below *** (don't delete this cell) </font>"
   ]
  },
  {
   "cell_type": "markdown",
   "metadata": {},
   "source": [
    "<img src=\"./images/2.4b1.png\" width=800/>\n",
    "<img src=\"./images/2.4b2.png\" width=800/>\n",
    "<font color = \"green\">\n",
    "$Z$ increases by $1.67$. The shadow price for the first constraint is $1.67$.\n",
    "</font>\n",
    "\n",
    "---\n",
    "\n",
    "<img src=\"./images/2.4b3.png\" width=800/>\n",
    "<img src=\"./images/2.4b4.png\" width=800/>\n",
    "<font color = \"green\">\n",
    "$Z$ increases by $0.67$.  The shadow price for the second constraint is $0.67$.\n",
    "</font>\n",
    "\n",
    "---\n",
    "\n",
    "<img src=\"./images/2.4b5.png\" width=800/>\n",
    "<img src=\"./images/2.4b6.png\" width=800/>\n",
    "<font color = \"green\">\n",
    "$Z$ is unchanged. The shadow price for the third constraint is $0$.\n",
    "</font>\n",
    "\n",
    "---"
   ]
  },
  {
   "cell_type": "markdown",
   "metadata": {},
   "source": [
    "**HW2.4c** Determine how many additional units of resource 1 would need to\n",
    "increase the optimal value of $Z$ by 15."
   ]
  },
  {
   "cell_type": "markdown",
   "metadata": {},
   "source": [
    "<font color = \"blue\"> *** 2 points -  answer in cell below *** (don't delete this cell) </font>"
   ]
  },
  {
   "cell_type": "markdown",
   "metadata": {},
   "source": [
    "<img src=\"./images/2.4c1.png\" width=800/>\n",
    "<img src=\"./images/2.4c2.png\" width=800/>\n",
    "<font color = \"green\">\n",
    "Increasing resource $1$ by $9$ yields a $Z$ of $53$.\n",
    "</font>"
   ]
  },
  {
   "cell_type": "markdown",
   "metadata": {},
   "source": [
    "# **HW2.5** - Textbook Problem 3.5-5"
   ]
  },
  {
   "cell_type": "markdown",
   "metadata": {},
   "source": [
    "Fred Jonasson manages a family-owned farm. To supplement several food products grown on the farm, Fred also raises pigs for market. He now wishes to determine the quantities of the available types of feed (corn, tankage, and alfalfa) that should be given to each pig. Since pigs will eat any mix of these feed types, the objective is to determine which mix will meet certain nutritional requirements at a minimum cost. The number of units of each type of basic nutritional ingredient contained within a kilogram of each feed type is given in the following table, along with the daily nutritional requirements and feed costs:\n",
    "\n",
    "<table>\n",
    "    <tr>\n",
    "        <th style=\"border-right:thin solid;border-bottom:thin solid;\"> &nbsp; <br> Nutrional <br> Ingredient </th>\n",
    "        <th style=\"border-bottom:thin solid;\"> Kilogram <br> of<br> Corn </th>\n",
    "        <th style=\"border-bottom:thin solid;\"> Kilogram <br> of <br> Tankage </th>\n",
    "        <th style=\"border-bottom:thin solid;\"> Kilogram<br>of<br>Alfalfa</th>\n",
    "        <th style=\"border-left: thin solid;border-bottom:thin solid;\"> Minimum<br>Daily<br>Requirement </th>\n",
    "    </tr>\n",
    "    <tr>\n",
    "        <td style=\"border-right:thin solid;\"> Carbohydrates </td>\n",
    "        <td> 90 </td>\n",
    "        <td> 20 </td>\n",
    "        <td> 40 </td>\n",
    "        <td style=\"border-left:thin solid;\"> 200 </td>\n",
    "    </tr>\n",
    "    <tr>\n",
    "        <td style=\"border-right:thin solid;\"> Protein </td>\n",
    "        <td> 30 </td>\n",
    "        <td> 80 </td>\n",
    "        <td> 60 </td>\n",
    "        <td style=\"border-left:thin solid;\"> 180 </td>\n",
    "    </tr>\n",
    "    <tr>\n",
    "        <td style=\"border-right:thin solid;\"> Vitamins </td>\n",
    "        <td> 10 </td>\n",
    "        <td> 20 </td>\n",
    "        <td> 60 </td>\n",
    "        <td style=\"border-left:thin solid;\"> 150 </td>\n",
    "    </tr>        \n",
    "    <tr>\n",
    "        <td style=\"border-top:thin solid;border-right:thin solid\"> Cost </td>\n",
    "        <td style=\"border-top:thin solid;\"> \\$2.10 </td>\n",
    "        <td style=\"border-top:thin solid;\"> \\$1.80 </td>\n",
    "        <td style=\"border-top:thin solid;\"> \\$1.50 </td>\n",
    "        <td style=\"border-left:thin solid; border-top:thin solid;\"> &nbsp; </td>\n",
    "    </tr>\n",
    "</table>"
   ]
  },
  {
   "cell_type": "markdown",
   "metadata": {},
   "source": [
    "**HW2.5a** - Formulate a linear programming model for this problem.  LaTeX or handwritten with picture."
   ]
  },
  {
   "cell_type": "markdown",
   "metadata": {},
   "source": [
    "<font color = \"blue\"> *** 2 points -  answer in cell below *** (don't delete this cell) </font>"
   ]
  },
  {
   "cell_type": "markdown",
   "metadata": {},
   "source": [
    "<font color = \"green\">\n",
    "\n",
    "**Concrete Model:**\n",
    "    \n",
    "Minimize $Z = 2.10x_1 + 1.80x_2 + 1.50x_3,$ \n",
    "\n",
    "subject to \n",
    "\n",
    "$\n",
    "\\begin{array}{rcrcr}\n",
    "90x_1 & + & 20x_2 & + & 40x_3 & \\geq & 200 \\\\\n",
    "30x_1 & + & 80x_2 & + & 60x_3 & \\geq & 180 \\\\\n",
    "10x_1 & + & 20x_2 & + & 60x_3 & \\geq & 150 \n",
    "\\end{array}\n",
    "$\n",
    "\n",
    "and $x_1 \\geq 0, x_2 \\geq 0, x_3 \\geq 0.$\n",
    "\n",
    "---    \n",
    "    \n",
    "**Abstract Model:**\n",
    "    \n",
    "Let $FT$ represent the set of feed types.  $FT = \\{ \\mbox{corn}, \\mbox{tankage}, \\mbox{alfalfa} \\}$.  \n",
    "\n",
    "Let $NI$ represent the set of nutritional ingredients. $NI = \\{ \\mbox{carbohydrates}, \\mbox{protein}, \\mbox{vitamins} \\}.$\n",
    "    \n",
    "For each product $ft$ let $x_{ft}$ be the amount of that feed type to give to the pigs and let $c_{ft}$ be the cost of $ft$.\n",
    "    \n",
    "Let $t_{ni,ft}$ represent the amount of nutrient $ni$ in feed type $ft$ and let $r_{ni}$ represent the minimum daily requirement of that nutrient.\n",
    "\n",
    "    \n",
    "Objective function:\n",
    "\n",
    "\n",
    "$$\\mbox{Minimize} \\ Z = \\sum_{ft \\in FT} c_{ft} x_{ft}.$$\n",
    "    \n",
    "subject to\n",
    "    \n",
    "$$ \\sum_{ft \\in FT} t_{ni,ft} x_{ft} \\geq r_{ni},\\mbox{ for each } ni \\in NI$$\n",
    "$$\\mbox{and} \\ x_{ft} \\geq 0, \\mbox{ for each } ft \\in FT$$ \n",
    "\n",
    "    \n",
    "</font>"
   ]
  },
  {
   "cell_type": "markdown",
   "metadata": {},
   "source": [
    "**HW2.5b** - Use Pyomo to solve this problem. Your solution should include all necessary code and inputs and it should produce formatted output.  For credit, you must use the abstract approach as we did in the lesson."
   ]
  },
  {
   "cell_type": "markdown",
   "metadata": {},
   "source": [
    "<font color = \"blue\"> *** 6 points -  answer in cell below *** (don't delete this cell) </font>"
   ]
  },
  {
   "cell_type": "code",
   "execution_count": 3,
   "metadata": {
    "collapsed": false,
    "jupyter": {
     "outputs_hidden": false
    }
   },
   "outputs": [
    {
     "name": "stdout",
     "output_type": "stream",
     "text": [
      "Solution:\n",
      "1.14 kilograms of corn\n",
      "0.00 kilograms of tankage\n",
      "2.43 kilograms of alfalfa\n",
      "Daily cost (objective): $6.04\n"
     ]
    }
   ],
   "source": [
    "from pyomo.environ import *\n",
    "\n",
    "# abstract \n",
    "feed_types = ['corn', 'tankage', 'alfalfa']\n",
    "nutrients = ['carbohydrates', 'protein', 'vitamins']\n",
    "costs = {'corn': 2.10, 'tankage': 1.80, 'alfalfa':1.50}\n",
    "minimum_requirements = {'carbohydrates': 200, 'protein': 180, 'vitamins': 150}\n",
    "ni_per_ft = {\n",
    "    'carbohydrates': {\n",
    "        'corn': 90,\n",
    "        'tankage': 20,\n",
    "        'alfalfa': 40\n",
    "    },\n",
    "    'protein': {\n",
    "        'corn': 30,\n",
    "        'tankage': 80,\n",
    "        'alfalfa': 60\n",
    "    },\n",
    "    'vitamins': {\n",
    "        'corn': 10,\n",
    "        'tankage': 20,\n",
    "        'alfalfa': 60\n",
    "    }\n",
    "}\n",
    "\n",
    "#Concrete Model\n",
    "model = ConcreteModel()\n",
    "\n",
    "#Decision Variables\n",
    "model.daily_feed = Var(feed_types, domain=NonNegativeReals)\n",
    "\n",
    "#Objective\n",
    "model.cost = Objective(expr=sum(costs[ft] * model.daily_feed[ft]\n",
    "                               for ft in feed_types),\n",
    "                      sense=minimize)\n",
    "\n",
    "model.capacity = ConstraintList()\n",
    "for ni in nutrients:\n",
    "    model.capacity.add(\n",
    "        sum(ni_per_ft[ni][ft] * model.daily_feed[ft]\n",
    "            for ft in feed_types) >= minimum_requirements[ni])\n",
    "\n",
    "# Solve\n",
    "solver = SolverFactory('glpk')\n",
    "solver.solve(model)\n",
    "\n",
    "# display solution (again, we've changed to f-strings)\n",
    "print(\"Solution:\")\n",
    "for j in feed_types:\n",
    "    print(f\"{model.daily_feed[j]():.2f} kilograms of {j}\")\n",
    "\n",
    "print(f\"Daily cost (objective): ${model.cost():,.2f}\")\n",
    "\n"
   ]
  },
  {
   "cell_type": "markdown",
   "metadata": {},
   "source": [
    "# **HW2.6** - Textbook Problem 3.4-15 Revisited"
   ]
  },
  {
   "cell_type": "markdown",
   "metadata": {},
   "source": [
    "Oxbridge University maintains a powerful mainframe computer\n",
    "  for research use by its faculty, Ph.D. students, and research\n",
    "  associates. During all working hours, an operator must be available\n",
    "  to operate and maintain the computer, as well as to perform some\n",
    "  programming services. Beryl Ingram, the director of the computer\n",
    "  facility, oversees the operation.  \n",
    "\n",
    "  It is now the beginning of the\n",
    "  fall semester, and Beryl is confronted with the problem of assigning\n",
    "  different working hours to her operators. Because all the operators\n",
    "  are currently enrolled in the university, they are available to work\n",
    "  only a limited number of hours\n",
    "  each day, as shown in the following table: \n",
    "  \n",
    "  <img src=\"images/screen-problem5.png\" width=\"440\">\n",
    "  \n",
    "  There are six operators (four undergraduate students and two\n",
    "  graduate students). They all have different wage rates because of\n",
    "  differences in their experience with computers and in their pro-\n",
    "  gramming ability. The above table shows their wage rates, along with\n",
    "  the maximum number of hours that each can work each day.  \n",
    "\n",
    "  Each\n",
    "  operator is guaranteed a certain minimum number of hours per week\n",
    "  that will maintain an adequate knowledge of the operation. This\n",
    "  level is set arbitrarily at 8 hours per week for the undergraduate\n",
    "  students (K. C., D. H., H. B., and S. C.) and 7 hours per week for\n",
    "  the graduate students (K. S. and N. K.).\n",
    "\n",
    "  The computer facility is to be open for operation from 8 A.M. to 10\n",
    "  P.M. Monday through Friday with exactly one operator on duty during\n",
    "  these hours. On Saturdays and Sundays, the computer is to be\n",
    "  operated by other staff.  Because of a tight budget, Beryl has to\n",
    "  minimize cost. She wishes to determine the number of hours she\n",
    "  should assign to each operator on each day.\n",
    "\n",
    "  Because of a tight budget, Beryl has to minimize cost. She wishes to\n",
    "  determine the number of hours she should assign to each operator on\n",
    "  each day.\n",
    "\n",
    "**HW2.6a** - Formulate an abstract linear programming model for this problem that can be generalized to any number of workers and days.  This is very similar to the \"Supply and Demand\" self-assessment problem:\n",
    "- \"supply\" is the weekly hours worked by each worker, but it's possible for workers to work more than the guaranteed minimum hours each week\n",
    "- \"demand\" is the daily hours that must be staffed\n",
    "- you'll need additional constraints that reflect that each worker has limited availability on each day, on some days they have zero availability\n",
    "\n",
    "You can either write out the mathematical notation or pseudocode for how Include your mathematical model here.  You can typeset the model with LaTeX or include a clean, cropped picture of your handwritten equations."
   ]
  },
  {
   "cell_type": "markdown",
   "metadata": {},
   "source": [
    "<font color = \"blue\"> *** 4 points -  answer in cell below *** (don't delete this cell) </font>"
   ]
  },
  {
   "cell_type": "markdown",
   "metadata": {},
   "source": [
    "<font color = \"green\">\n",
    "Let $O$ be the set of operators and let $D$ be the set of days of the week.\n",
    "    \n",
    "Decision variables: let $x_{o,d}$ be the number of hours scheduled for the operator $o \\in O$ on day $d \\in D$.\n",
    "    \n",
    "Constants:\n",
    "- $w_o$ is the hourly wage paid to the operator $o \\in O$.\n",
    "- $h_o$ is the minimum weekly hours guaranteed to the operator $o \\in O$.\n",
    "- $h_d$ is the maximum daily hours able to be worked for operator $o \\in O$.\n",
    "    \n",
    "Objective Function:  Minimize $ Z = \\displaystyle \\sum_{o \\in O} \\sum_{d \\in D} w_o x_{o,d}$\n",
    "\n",
    "Constraints:\n",
    "- Lab hours: $ \\displaystyle \\sum_{o \\in O} x_{o,d} = 14, \\mbox{ for each } d \\in D$\n",
    "- Minimum hours: $ \\displaystyle \\sum_{d \\in D} x_{o,d} \\geq h_o \\mbox{ for each } o \\in O$\n",
    "- Maximum hours: $ x_{o,d} \\leq h_d \\mbox{ for each } o \\in O, d \\in D$\n",
    "- Nonnegativity: $x_{o,d} \\geq 0$ for each $d \\in D$\n",
    "\n",
    "\n",
    "</font>"
   ]
  },
  {
   "cell_type": "markdown",
   "metadata": {},
   "source": [
    "**HW2.6b** - Solve this model using Pyomo, coding the data and model separately as done, for example, in the \"Supply and Demand\" Self Assessment problem. For credit, you must use the abstract approach as in the lesson. Your solution should include all necessary code and inputs and it should produce formatted output."
   ]
  },
  {
   "cell_type": "markdown",
   "metadata": {},
   "source": [
    "<font color = \"blue\"> *** 4 points -  answer in cell below *** (don't delete this cell) </font>"
   ]
  },
  {
   "cell_type": "code",
   "execution_count": 4,
   "metadata": {
    "collapsed": false,
    "jupyter": {
     "outputs_hidden": false
    }
   },
   "outputs": [
    {
     "name": "stdout",
     "output_type": "stream",
     "text": [
      "Total Wages for Recommended Schedule: $1,755.00\n",
      "\n",
      "Recommended Schedule:\n",
      "\n",
      "      Monday  Tuesday  Wednesday  Thursday  Friday\n",
      "K.C.     2.0      0.0        4.0       0.0     3.0\n",
      "D.H.     0.0      2.0        0.0       6.0     0.0\n",
      "H.B.     4.0      7.0        4.0       0.0     4.0\n",
      "S.C.     5.0      5.0        5.0       0.0     5.0\n",
      "K.S.     3.0      0.0        1.0       3.0     0.0\n",
      "N.K.     0.0      0.0        0.0       5.0     2.0\n"
     ]
    }
   ],
   "source": [
    "from pyomo.environ import *\n",
    "import pandas as pd\n",
    "\n",
    "# definitions and constants\n",
    "days = ['Monday','Tuesday','Wednesday','Thursday','Friday']\n",
    "\n",
    "maxAvailability = {}\n",
    "wages = {}\n",
    "minWeeklyHours = {}\n",
    "\n",
    "def enterData(operator, hours, wage, minHours):\n",
    "    maxAvailability[operator] = dict(zip(days,hours))\n",
    "    wages[operator] = wage\n",
    "    minWeeklyHours[operator] = minHours\n",
    "    \n",
    "enterData('K.C.', [6,0,6,0,6], 25, 8)\n",
    "enterData('D.H.', [0,6,0,6,0], 26, 8)\n",
    "enterData('H.B.', [4,8,4,0,4], 24, 8)\n",
    "enterData('S.C.', [5,5,5,0,5], 23, 8)\n",
    "enterData('K.S.', [3,0,3,8,0], 28, 7)\n",
    "enterData('N.K.', [0,0,0,6,2], 30, 7)\n",
    "\n",
    "operators = [key for key in maxAvailability.keys()]\n",
    "\n",
    "# Construct model\n",
    "model = ConcreteModel(name=\"oxbridgeAbstract\")\n",
    "\n",
    "# decision variable\n",
    "model.sched = Var(operators, days, domain=NonNegativeReals)\n",
    "\n",
    "# objective function\n",
    "model.totalWages = Objective(expr=sum(model.sched[o,d] * wages[o] for d in days for o in operators),sense=minimize)\n",
    "\n",
    "# constraints\n",
    "model.minHours = ConstraintList()\n",
    "for o in operators:\n",
    "    model.minHours.add(sum(model.sched[o,d] for d in days) >= minWeeklyHours[o])\n",
    "    \n",
    "model.openHours = ConstraintList()\n",
    "for d in days:\n",
    "    model.openHours.add(sum(model.sched[o,d] for o in operators) == 14)\n",
    "    \n",
    "model.maxAvail = ConstraintList()\n",
    "for d in days:\n",
    "    for o in operators:\n",
    "        model.maxAvail.add(model.sched[o,d] <= maxAvailability[o][d])\n",
    "        \n",
    "# solve\n",
    "solver = SolverFactory('glpk')\n",
    "solver.solve(model)\n",
    "\n",
    "#display\n",
    "print(f\"Total Wages for Recommended Schedule: ${model.totalWages():,.2f}\\n\")\n",
    "print(\"Recommended Schedule:\\n\")\n",
    "df = pd.DataFrame([[model.sched[o,d]() for d in days]for o in operators], index=operators, columns=days)\n",
    "print(df)\n"
   ]
  },
  {
   "cell_type": "markdown",
   "metadata": {},
   "source": [
    "**HW2.6c** - Produce the sensitivity report in Python."
   ]
  },
  {
   "cell_type": "markdown",
   "metadata": {},
   "source": [
    "<font color = \"blue\"> *** 1 point -  answer in cell below *** (don't delete this cell) </font>"
   ]
  },
  {
   "cell_type": "code",
   "execution_count": 5,
   "metadata": {
    "collapsed": false,
    "jupyter": {
     "outputs_hidden": false
    }
   },
   "outputs": [
    {
     "name": "stdout",
     "output_type": "stream",
     "text": [
      "GLPSOL: GLPK LP/MIP Solver, v4.65\n",
      "Parameter(s) specified in the command line:\n",
      " -m model.lp --lp --ranges sensit.sen\n",
      "Reading problem data from 'model.lp'...\n",
      "42 rows, 31 columns, 91 non-zeros\n",
      "285 lines were read\n",
      "GLPK Simplex Optimizer, v4.65\n",
      "42 rows, 31 columns, 91 non-zeros\n",
      "Preprocessing...\n",
      "11 rows, 18 columns, 36 non-zeros\n",
      "Scaling...\n",
      " A: min|aij| =  1.000e+00  max|aij| =  1.000e+00  ratio =  1.000e+00\n",
      "Problem data seem to be well scaled\n",
      "Constructing initial basis...\n",
      "Size of triangular part is 11\n",
      "      0: obj =   1.708000000e+03 inf =   7.500e+01 (9)\n",
      "     16: obj =   1.763000000e+03 inf =   0.000e+00 (0)\n",
      "*    17: obj =   1.755000000e+03 inf =   0.000e+00 (0)\n",
      "OPTIMAL LP SOLUTION FOUND\n",
      "Time used:   0.0 secs\n",
      "Memory used: 0.1 Mb (56584 bytes)\n",
      "Write sensitivity analysis report to 'sensit.sen'...\n"
     ]
    }
   ],
   "source": [
    "# write the model to a sensitivity report\n",
    "model.write('model.lp', io_options={'symbolic_solver_labels': True})\n",
    "!glpsol -m model.lp --lp --ranges sensit.sen\n"
   ]
  },
  {
   "cell_type": "code",
   "execution_count": 6,
   "metadata": {
    "collapsed": false,
    "jupyter": {
     "outputs_hidden": false
    }
   },
   "outputs": [
    {
     "name": "stdout",
     "output_type": "stream",
     "text": [
      "GLPK 4.65 - SENSITIVITY ANALYSIS REPORT                                                                         Page   1\n",
      "\n",
      "Problem:    \n",
      "Objective:  totalWages = 1755 (MINimum)\n",
      "\n",
      "   No. Row name     St      Activity         Slack   Lower bound       Activity      Obj coef  Obj value at Limiting\n",
      "                                          Marginal   Upper bound          range         range   break point variable\n",
      "------ ------------ -- ------------- ------------- -------------  ------------- ------------- ------------- ------------\n",
      "     1 c_l_minHours(1)_\n",
      "                    BS       9.00000      -1.00000       8.00000        9.00000      -1.00000    1746.00000 c_u_maxAvail(2)_\n",
      "                                            .               +Inf        8.00000       3.00000    1782.00000 c_l_minHours(5)_\n",
      "\n",
      "     2 c_l_minHours(2)_\n",
      "                    NL       8.00000        .            8.00000        7.00000      -2.00000    1753.00000 c_u_maxAvail(9)_\n",
      "                                           2.00000          +Inf       12.00000          +Inf    1763.00000 c_u_maxAvail(8)_\n",
      "\n",
      "     3 c_l_minHours(3)_\n",
      "                    BS      19.00000     -11.00000       8.00000       20.00000      -1.00000    1736.00000 c_u_maxAvail(10)_\n",
      "                                            .               +Inf       19.00000       1.00000    1774.00000 c_u_maxAvail(2)_\n",
      "\n",
      "     4 c_l_minHours(4)_\n",
      "                    BS      20.00000     -12.00000       8.00000       20.00000          -Inf          -Inf\n",
      "                                            .               +Inf       19.00000       1.00000    1775.00000 c_u_maxAvail(10)_\n",
      "\n",
      "     5 c_l_minHours(5)_\n",
      "                    NL       7.00000        .            7.00000        5.00000      -3.00000    1749.00000 sched(K_S__Monday)\n",
      "                                           3.00000          +Inf        8.00000          +Inf    1758.00000 c_l_minHours(1)_\n",
      "\n",
      "     6 c_l_minHours(6)_\n",
      "                    NL       7.00000        .            7.00000        6.00000      -5.00000    1750.00000 sched(N_K__Friday)\n",
      "                                           5.00000          +Inf        8.00000          +Inf    1760.00000 c_l_minHours(1)_\n",
      "\n",
      "     7 c_e_openHours(1)_\n",
      "                    NS      14.00000        .           14.00000       13.00000          -Inf    1730.00000 c_l_minHours(1)_\n",
      "                                          25.00000      14.00000       17.00000          +Inf    1830.00000 c_u_maxAvail(1)_\n",
      "\n",
      "     8 c_e_openHours(2)_\n",
      "                    NS      14.00000        .           14.00000        7.00000          -Inf    1587.00000 sched(H_B__Tuesday)\n",
      "                                          24.00000      14.00000       15.00000          +Inf    1779.00000 c_u_maxAvail(9)_\n",
      "\n",
      "     9 c_e_openHours(3)_\n",
      "                    NS      14.00000        .           14.00000       13.00000          -Inf    1730.00000 c_l_minHours(1)_\n",
      "                                          25.00000      14.00000       18.00000          +Inf    1855.00000 c_u_maxAvail(13)_\n",
      "\n",
      "    10 c_e_openHours(4)_\n",
      "                    NS      14.00000        .           14.00000       13.00000          -Inf    1730.00000 c_l_minHours(1)_\n",
      "                                          25.00000      14.00000       16.00000          +Inf    1805.00000 sched(K_S__Monday)\n",
      "\n",
      "GLPK 4.65 - SENSITIVITY ANALYSIS REPORT                                                                         Page   2\n",
      "\n",
      "Problem:    \n",
      "Objective:  totalWages = 1755 (MINimum)\n",
      "\n",
      "   No. Row name     St      Activity         Slack   Lower bound       Activity      Obj coef  Obj value at Limiting\n",
      "                                          Marginal   Upper bound          range         range   break point variable\n",
      "------ ------------ -- ------------- ------------- -------------  ------------- ------------- ------------- ------------\n",
      "    11 c_e_openHours(5)_\n",
      "                    NS      14.00000        .           14.00000       13.00000          -Inf    1730.00000 c_l_minHours(1)_\n",
      "                                          25.00000      14.00000       16.00000          +Inf    1805.00000 c_u_maxAvail(25)_\n",
      "\n",
      "    12 c_u_maxAvail(1)_\n",
      "                    BS       3.00000       3.00000          -Inf        3.00000        .         1755.00000 c_u_maxAvail(6)_\n",
      "                                            .            6.00000        2.00000        .         1755.00000 c_u_maxAvail(17)_\n",
      "\n",
      "    13 c_u_maxAvail(2)_\n",
      "                    NU        .             .               -Inf         .               -Inf    1755.00000 sched(D_H__Monday)\n",
      "                                          -1.00000        .             1.00000       1.00000    1754.00000 c_l_minHours(1)_\n",
      "\n",
      "    14 c_u_maxAvail(3)_\n",
      "                    NU       4.00000        .               -Inf        1.00000          -Inf    1758.00000 c_u_maxAvail(1)_\n",
      "                                          -1.00000       4.00000        5.00000       1.00000    1754.00000 c_l_minHours(1)_\n",
      "\n",
      "    15 c_u_maxAvail(4)_\n",
      "                    NU       5.00000        .               -Inf        2.00000          -Inf    1761.00000 c_u_maxAvail(1)_\n",
      "                                          -2.00000       5.00000        6.00000       2.00000    1753.00000 c_l_minHours(1)_\n",
      "\n",
      "    16 c_u_maxAvail(5)_\n",
      "                    BS       2.00000       1.00000          -Inf        5.00000        .         1755.00000 c_u_maxAvail(17)_\n",
      "                                            .            3.00000        2.00000        .         1755.00000 c_u_maxAvail(19)_\n",
      "\n",
      "    17 c_u_maxAvail(6)_\n",
      "                    NU        .             .               -Inf         .               -Inf    1755.00000 sched(N_K__Monday)\n",
      "                                            .             .             1.00000        .         1755.00000 sched(N_K__Friday)\n",
      "\n",
      "    18 c_u_maxAvail(7)_\n",
      "                    BS        .             .               -Inf        7.00000      -1.00000    1755.00000 sched(K_C__Tuesday)\n",
      "                                            .             .              .               +Inf    1755.00000\n",
      "\n",
      "    19 c_u_maxAvail(8)_\n",
      "                    BS       2.00000       4.00000          -Inf        2.00000      -1.00000    1753.00000 c_u_maxAvail(2)_\n",
      "                                            .            6.00000        2.00000          +Inf          +Inf\n",
      "\n",
      "    20 c_u_maxAvail(9)_\n",
      "                    BS       7.00000       1.00000          -Inf       12.00000      -1.00000    1748.00000 c_u_maxAvail(10)_\n",
      "                                            .            8.00000        7.00000       1.00000    1762.00000 c_u_maxAvail(2)_\n",
      "\n",
      "GLPK 4.65 - SENSITIVITY ANALYSIS REPORT                                                                         Page   3\n",
      "\n",
      "Problem:    \n",
      "Objective:  totalWages = 1755 (MINimum)\n",
      "\n",
      "   No. Row name     St      Activity         Slack   Lower bound       Activity      Obj coef  Obj value at Limiting\n",
      "                                          Marginal   Upper bound          range         range   break point variable\n",
      "------ ------------ -- ------------- ------------- -------------  ------------- ------------- ------------- ------------\n",
      "    21 c_u_maxAvail(10)_\n",
      "                    NU       5.00000        .               -Inf        4.00000          -Inf    1756.00000 c_u_maxAvail(9)_\n",
      "                                          -1.00000       5.00000       12.00000       1.00000    1748.00000 sched(H_B__Tuesday)\n",
      "\n",
      "    22 c_u_maxAvail(11)_\n",
      "                    BS        .             .               -Inf        2.00000      -1.00000    1755.00000 sched(K_S__Tuesday)\n",
      "                                            .             .              .               +Inf    1755.00000\n",
      "\n",
      "    23 c_u_maxAvail(12)_\n",
      "                    BS        .             .               -Inf        1.00000      -1.00000    1755.00000 sched(N_K__Tuesday)\n",
      "                                            .             .              .               +Inf    1755.00000\n",
      "\n",
      "    24 c_u_maxAvail(13)_\n",
      "                    BS       2.00000       4.00000          -Inf        3.00000        .         1755.00000 c_u_maxAvail(17)_\n",
      "                                            .            6.00000        2.00000          +Inf          +Inf\n",
      "\n",
      "    25 c_u_maxAvail(14)_\n",
      "                    NU        .             .               -Inf         .               -Inf    1755.00000 sched(D_H__Wednesday)\n",
      "                                          -1.00000        .             1.00000       1.00000    1754.00000 c_l_minHours(1)_\n",
      "\n",
      "    26 c_u_maxAvail(15)_\n",
      "                    NU       4.00000        .               -Inf         .               -Inf    1759.00000 c_u_maxAvail(13)_\n",
      "                                          -1.00000       4.00000        5.00000       1.00000    1754.00000 c_l_minHours(1)_\n",
      "\n",
      "    27 c_u_maxAvail(16)_\n",
      "                    NU       5.00000        .               -Inf        1.00000          -Inf    1763.00000 c_u_maxAvail(13)_\n",
      "                                          -2.00000       5.00000        6.00000       2.00000    1753.00000 c_l_minHours(1)_\n",
      "\n",
      "    28 c_u_maxAvail(17)_\n",
      "                    NU       3.00000        .               -Inf        2.00000          -Inf    1755.00000 c_u_maxAvail(5)_\n",
      "                                            .            3.00000        5.00000        .         1755.00000 sched(K_C__Wednesday)\n",
      "\n",
      "    29 c_u_maxAvail(18)_\n",
      "                    NU        .             .               -Inf         .               -Inf    1755.00000 sched(N_K__Wednesday)\n",
      "                                            .             .             1.00000        .         1755.00000 sched(N_K__Friday)\n",
      "\n",
      "    30 c_u_maxAvail(19)_\n",
      "                    NU        .             .               -Inf         .               -Inf    1755.00000 sched(K_C__Thursday)\n",
      "                                            .             .             1.00000        .         1755.00000 c_u_maxAvail(5)_\n",
      "\n",
      "GLPK 4.65 - SENSITIVITY ANALYSIS REPORT                                                                         Page   4\n",
      "\n",
      "Problem:    \n",
      "Objective:  totalWages = 1755 (MINimum)\n",
      "\n",
      "   No. Row name     St      Activity         Slack   Lower bound       Activity      Obj coef  Obj value at Limiting\n",
      "                                          Marginal   Upper bound          range         range   break point variable\n",
      "------ ------------ -- ------------- ------------- -------------  ------------- ------------- ------------- ------------\n",
      "    31 c_u_maxAvail(20)_\n",
      "                    NU       6.00000        .               -Inf        4.00000          -Inf    1757.00000 sched(K_S__Monday)\n",
      "                                          -1.00000       6.00000        7.00000       1.00000    1754.00000 c_l_minHours(1)_\n",
      "\n",
      "    32 c_u_maxAvail(21)_\n",
      "                    NU        .             .               -Inf         .               -Inf    1755.00000 sched(H_B__Thursday)\n",
      "                                          -1.00000        .             1.00000       1.00000    1754.00000 c_l_minHours(1)_\n",
      "\n",
      "    33 c_u_maxAvail(22)_\n",
      "                    NU        .             .               -Inf         .               -Inf    1755.00000 sched(S_C__Thursday)\n",
      "                                          -2.00000        .             1.00000       2.00000    1753.00000 c_l_minHours(1)_\n",
      "\n",
      "    34 c_u_maxAvail(23)_\n",
      "                    BS       2.00000       6.00000          -Inf        2.00000        .         1755.00000 c_u_maxAvail(19)_\n",
      "                                            .            8.00000        2.00000          +Inf          +Inf\n",
      "\n",
      "    35 c_u_maxAvail(24)_\n",
      "                    NU       6.00000        .               -Inf        5.00000          -Inf    1755.00000 c_u_maxAvail(30)_\n",
      "                                            .            6.00000        7.00000        .         1755.00000 c_u_maxAvail(5)_\n",
      "\n",
      "    36 c_u_maxAvail(25)_\n",
      "                    BS       4.00000       2.00000          -Inf        4.00000        .         1755.00000 c_u_maxAvail(29)_\n",
      "                                            .            6.00000        4.00000        .         1755.00000 c_u_maxAvail(6)_\n",
      "\n",
      "    37 c_u_maxAvail(26)_\n",
      "                    NU        .             .               -Inf         .               -Inf    1755.00000 sched(D_H__Friday)\n",
      "                                          -1.00000        .             1.00000       1.00000    1754.00000 c_l_minHours(1)_\n",
      "\n",
      "    38 c_u_maxAvail(27)_\n",
      "                    NU       4.00000        .               -Inf        2.00000          -Inf    1757.00000 c_u_maxAvail(25)_\n",
      "                                          -1.00000       4.00000        5.00000       1.00000    1754.00000 c_l_minHours(1)_\n",
      "\n",
      "    39 c_u_maxAvail(28)_\n",
      "                    NU       5.00000        .               -Inf        3.00000          -Inf    1759.00000 c_u_maxAvail(25)_\n",
      "                                          -2.00000       5.00000        6.00000       2.00000    1753.00000 c_l_minHours(1)_\n",
      "\n",
      "    40 c_u_maxAvail(29)_\n",
      "                    NU        .             .               -Inf         .               -Inf    1755.00000 sched(K_S__Friday)\n",
      "                                            .             .             2.00000        .         1755.00000 sched(K_S__Monday)\n",
      "\n",
      "GLPK 4.65 - SENSITIVITY ANALYSIS REPORT                                                                         Page   5\n",
      "\n",
      "Problem:    \n",
      "Objective:  totalWages = 1755 (MINimum)\n",
      "\n",
      "   No. Row name     St      Activity         Slack   Lower bound       Activity      Obj coef  Obj value at Limiting\n",
      "                                          Marginal   Upper bound          range         range   break point variable\n",
      "------ ------------ -- ------------- ------------- -------------  ------------- ------------- ------------- ------------\n",
      "    41 c_u_maxAvail(30)_\n",
      "                    BS       1.00000       1.00000          -Inf        1.00000        .         1755.00000 c_u_maxAvail(6)_\n",
      "                                            .            2.00000        1.00000       1.00000    1756.00000 sched(N_K__Tuesday)\n",
      "\n",
      "    42 c_e_ONE_VAR_CONSTANT\n",
      "                    NS       1.00000        .            1.00000         .               -Inf    1755.00000 ONE_VAR_CONSTANT\n",
      "                                            .            1.00000           +Inf          +Inf    1755.00000\n",
      "\n",
      "GLPK 4.65 - SENSITIVITY ANALYSIS REPORT                                                                         Page   6\n",
      "\n",
      "Problem:    \n",
      "Objective:  totalWages = 1755 (MINimum)\n",
      "\n",
      "   No. Column name  St      Activity      Obj coef   Lower bound       Activity      Obj coef  Obj value at Limiting\n",
      "                                          Marginal   Upper bound          range         range   break point variable\n",
      "------ ------------ -- ------------- ------------- -------------  ------------- ------------- ------------- ------------\n",
      "     1 sched(D_H__Friday)\n",
      "                    BS        .           26.00000        .              .               -Inf    1755.00000\n",
      "                                            .               +Inf       -2.00000      27.00000    1755.00000 c_u_maxAvail(26)_\n",
      "\n",
      "     2 sched(D_H__Monday)\n",
      "                    BS        .           26.00000        .              .               -Inf    1755.00000\n",
      "                                            .               +Inf       -3.00000      27.00000    1755.00000 c_u_maxAvail(2)_\n",
      "\n",
      "     3 sched(D_H__Thursday)\n",
      "                    BS       6.00000      26.00000        .             6.00000          -Inf          -Inf\n",
      "                                            .               +Inf        4.00000      27.00000    1761.00000 c_u_maxAvail(20)_\n",
      "\n",
      "     4 sched(D_H__Tuesday)\n",
      "                    BS       2.00000      26.00000        .             2.00000      25.00000    1753.00000 c_u_maxAvail(2)_\n",
      "                                            .               +Inf        2.00000          +Inf          +Inf\n",
      "\n",
      "     5 sched(D_H__Wednesday)\n",
      "                    BS        .           26.00000        .              .               -Inf    1755.00000\n",
      "                                            .               +Inf       -4.00000      27.00000    1755.00000 c_u_maxAvail(14)_\n",
      "\n",
      "     6 sched(H_B__Friday)\n",
      "                    BS       4.00000      24.00000        .             4.00000          -Inf          -Inf\n",
      "                                            .               +Inf        2.00000      25.00000    1759.00000 c_u_maxAvail(27)_\n",
      "\n",
      "     7 sched(H_B__Monday)\n",
      "                    BS       4.00000      24.00000        .             4.00000          -Inf          -Inf\n",
      "                                            .               +Inf        1.00000      25.00000    1759.00000 c_u_maxAvail(3)_\n",
      "\n",
      "     8 sched(H_B__Thursday)\n",
      "                    BS        .           24.00000        .              .               -Inf    1755.00000\n",
      "                                            .               +Inf       -2.00000      25.00000    1755.00000 c_u_maxAvail(21)_\n",
      "\n",
      "     9 sched(H_B__Tuesday)\n",
      "                    BS       7.00000      24.00000        .             8.00000      23.00000    1748.00000 c_u_maxAvail(10)_\n",
      "                                            .               +Inf        7.00000      25.00000    1762.00000 c_u_maxAvail(2)_\n",
      "\n",
      "    10 sched(H_B__Wednesday)\n",
      "                    BS       4.00000      24.00000        .             4.00000          -Inf          -Inf\n",
      "                                            .               +Inf         .           25.00000    1759.00000 c_u_maxAvail(15)_\n",
      "\n",
      "GLPK 4.65 - SENSITIVITY ANALYSIS REPORT                                                                         Page   7\n",
      "\n",
      "Problem:    \n",
      "Objective:  totalWages = 1755 (MINimum)\n",
      "\n",
      "   No. Column name  St      Activity      Obj coef   Lower bound       Activity      Obj coef  Obj value at Limiting\n",
      "                                          Marginal   Upper bound          range         range   break point variable\n",
      "------ ------------ -- ------------- ------------- -------------  ------------- ------------- ------------- ------------\n",
      "    11 sched(K_C__Friday)\n",
      "                    BS       4.00000      25.00000        .             4.00000      25.00000    1755.00000 c_u_maxAvail(29)_\n",
      "                                            .               +Inf        4.00000      25.00000    1755.00000 c_u_maxAvail(6)_\n",
      "\n",
      "    12 sched(K_C__Monday)\n",
      "                    BS       3.00000      25.00000        .             3.00000      25.00000    1755.00000 c_u_maxAvail(6)_\n",
      "                                            .               +Inf        2.00000      25.00000    1755.00000 c_u_maxAvail(17)_\n",
      "\n",
      "    13 sched(K_C__Thursday)\n",
      "                    BS        .           25.00000        .              .               -Inf    1755.00000\n",
      "                                            .               +Inf       -2.00000      25.00000    1755.00000 c_u_maxAvail(19)_\n",
      "\n",
      "    14 sched(K_C__Tuesday)\n",
      "                    NL        .           25.00000        .            -1.00000      24.00000    1754.00000 c_l_minHours(1)_\n",
      "                                           1.00000          +Inf         .               +Inf    1755.00000 c_u_maxAvail(7)_\n",
      "\n",
      "    15 sched(K_C__Wednesday)\n",
      "                    BS       2.00000      25.00000        .             3.00000      25.00000    1755.00000 c_u_maxAvail(17)_\n",
      "                                            .               +Inf        2.00000          +Inf          +Inf\n",
      "\n",
      "    16 sched(K_S__Friday)\n",
      "                    BS        .           28.00000        .              .               -Inf    1755.00000\n",
      "                                            .               +Inf       -1.00000      28.00000    1755.00000 c_u_maxAvail(29)_\n",
      "\n",
      "    17 sched(K_S__Monday)\n",
      "                    BS       2.00000      28.00000        .             3.00000      28.00000    1755.00000 c_u_maxAvail(17)_\n",
      "                                            .               +Inf        2.00000      28.00000    1755.00000 c_u_maxAvail(19)_\n",
      "\n",
      "    18 sched(K_S__Thursday)\n",
      "                    BS       2.00000      28.00000        .             2.00000      28.00000    1755.00000 c_u_maxAvail(19)_\n",
      "                                            .               +Inf        2.00000          +Inf          +Inf\n",
      "\n",
      "    19 sched(K_S__Tuesday)\n",
      "                    NL        .           28.00000        .            -1.00000      27.00000    1754.00000 c_l_minHours(1)_\n",
      "                                           1.00000          +Inf         .               +Inf    1755.00000 c_u_maxAvail(11)_\n",
      "\n",
      "    20 sched(K_S__Wednesday)\n",
      "                    BS       3.00000      28.00000        .             3.00000          -Inf          -Inf\n",
      "                                            .               +Inf        2.00000      28.00000    1755.00000 c_u_maxAvail(17)_\n",
      "\n",
      "GLPK 4.65 - SENSITIVITY ANALYSIS REPORT                                                                         Page   8\n",
      "\n",
      "Problem:    \n",
      "Objective:  totalWages = 1755 (MINimum)\n",
      "\n",
      "   No. Column name  St      Activity      Obj coef   Lower bound       Activity      Obj coef  Obj value at Limiting\n",
      "                                          Marginal   Upper bound          range         range   break point variable\n",
      "------ ------------ -- ------------- ------------- -------------  ------------- ------------- ------------- ------------\n",
      "    21 sched(N_K__Friday)\n",
      "                    BS       1.00000      30.00000        .             1.00000      30.00000    1755.00000 c_u_maxAvail(6)_\n",
      "                                            .               +Inf        1.00000      31.00000    1756.00000 sched(N_K__Tuesday)\n",
      "\n",
      "    22 sched(N_K__Monday)\n",
      "                    BS        .           30.00000        .              .               -Inf    1755.00000\n",
      "                                            .               +Inf       -1.00000      30.00000    1755.00000 c_u_maxAvail(6)_\n",
      "\n",
      "    23 sched(N_K__Thursday)\n",
      "                    BS       6.00000      30.00000        .             6.00000          -Inf          -Inf\n",
      "                                            .               +Inf        5.00000      30.00000    1755.00000 c_u_maxAvail(24)_\n",
      "\n",
      "    24 sched(N_K__Tuesday)\n",
      "                    NL        .           30.00000        .            -1.00000      29.00000    1754.00000 c_l_minHours(1)_\n",
      "                                           1.00000          +Inf         .               +Inf    1755.00000 c_u_maxAvail(12)_\n",
      "\n",
      "    25 sched(N_K__Wednesday)\n",
      "                    BS        .           30.00000        .              .               -Inf    1755.00000\n",
      "                                            .               +Inf       -1.00000      30.00000    1755.00000 c_u_maxAvail(18)_\n",
      "\n",
      "    26 sched(S_C__Friday)\n",
      "                    BS       5.00000      23.00000        .             5.00000          -Inf          -Inf\n",
      "                                            .               +Inf        3.00000      25.00000    1765.00000 c_u_maxAvail(28)_\n",
      "\n",
      "    27 sched(S_C__Monday)\n",
      "                    BS       5.00000      23.00000        .             5.00000          -Inf          -Inf\n",
      "                                            .               +Inf        2.00000      25.00000    1765.00000 c_u_maxAvail(4)_\n",
      "\n",
      "    28 sched(S_C__Thursday)\n",
      "                    BS        .           23.00000        .              .               -Inf    1755.00000\n",
      "                                            .               +Inf       -2.00000      25.00000    1755.00000 c_u_maxAvail(22)_\n",
      "\n",
      "    29 sched(S_C__Tuesday)\n",
      "                    BS       5.00000      23.00000        .             5.00000          -Inf          -Inf\n",
      "                                            .               +Inf        4.00000      24.00000    1760.00000 c_u_maxAvail(10)_\n",
      "\n",
      "    30 sched(S_C__Wednesday)\n",
      "                    BS       5.00000      23.00000        .             5.00000          -Inf          -Inf\n",
      "                                            .               +Inf        1.00000      25.00000    1765.00000 c_u_maxAvail(16)_\n",
      "\n",
      "GLPK 4.65 - SENSITIVITY ANALYSIS REPORT                                                                         Page   9\n",
      "\n",
      "Problem:    \n",
      "Objective:  totalWages = 1755 (MINimum)\n",
      "\n",
      "   No. Column name  St      Activity      Obj coef   Lower bound       Activity      Obj coef  Obj value at Limiting\n",
      "                                          Marginal   Upper bound          range         range   break point variable\n",
      "------ ------------ -- ------------- ------------- -------------  ------------- ------------- ------------- ------------\n",
      "    31 ONE_VAR_CONSTANT\n",
      "                    BS       1.00000        .             .             1.00000          -Inf          -Inf\n",
      "                                            .               +Inf        1.00000          +Inf          +Inf\n",
      "\n",
      "End of report\n",
      "\n"
     ]
    }
   ],
   "source": [
    "# widen browser and/or close TOC to see sensitivity report\n",
    "import numpy as np\n",
    "np.set_printoptions(linewidth=110)\n",
    "f = open('sensit.sen', 'r')\n",
    "file_contents = f.read()\n",
    "print(file_contents)\n",
    "f.close()"
   ]
  },
  {
   "cell_type": "markdown",
   "metadata": {},
   "source": [
    "**HW2.6d** - Report and interpret the shadow price for H.B.'s available hours hours for Monday."
   ]
  },
  {
   "cell_type": "markdown",
   "metadata": {},
   "source": [
    "<font color = \"blue\"> *** 1 point -  answer in cell below *** (don't delete this cell) </font>"
   ]
  },
  {
   "cell_type": "markdown",
   "metadata": {},
   "source": [
    "<font color = \"green\">\n",
    "The shadow price for H.B.'s Monday availability is -1.0. This indicates that an increase of 1 hour of maximum availability on Monday would yield a $1.0 decrease in total wages paid for the week.\n",
    "</font>"
   ]
  },
  {
   "cell_type": "markdown",
   "metadata": {},
   "source": [
    "**HW2.6e** Report and interpret the activity range for H.B.'s available hours hours for Monday. (For constraints, the activity range in the Python/GLPK report is equivalent to the allowable range discussed in the textbook.)"
   ]
  },
  {
   "cell_type": "markdown",
   "metadata": {},
   "source": [
    "<font color = \"blue\"> *** 1 point -  answer in cell below *** (don't delete this cell) </font>"
   ]
  },
  {
   "cell_type": "markdown",
   "metadata": {},
   "source": [
    "<font color = \"green\">\n",
    "The activity range is 1.0 to 5.0. This indicates that H.B.'s available hours could decrease to 1 or increase to 5 without changing the optimal solution.\n",
    "</font>"
   ]
  },
  {
   "cell_type": "markdown",
   "metadata": {},
   "source": [
    "# **HW2.7** - Textbook Problem 7.3-7 (parts)"
   ]
  },
  {
   "cell_type": "markdown",
   "metadata": {},
   "source": [
    "This question is based on the material labeled \"Personnel\n",
    "Scheduling\" beginning on page 57 of the textbook.  Table 3.19 is\n",
    "reproduced here for convenience: \n",
    "\n",
    "<img src=\"images/problem5p5.png\" width=\"640\"> \n",
    "\n",
    "Management now is considering increasing the level of service\n",
    "provided to customers by increasing one or more of the numbers in the\n",
    "rightmost column of Table 3.19 for the minimum number of agents needed\n",
    "in the various time periods. To guide them in making this decision,\n",
    "they would like to know what impact this change would have on total\n",
    "cost.  (*Note: the letters (a), (b), etc. do not match the letters in the textbook problem.*)\n",
    "\n",
    "**HW2.7a** - Use Pyomo with the GLPK solver to generate the sensitivity report in preparation for addressing the following questions.  Your Pyomo solution should be written in a general way that can be applied to any number time periods and shifts (use the abstract approach).  In the cell below we've included the problem data to get you started.  Note that the \"rows\" in ```periods_covered``` allow you form the mimimum number of agents constraints.  For instance, based on the second \"row\" we know that the constraint for the 8am - 10am time period is $$ 1 x_{s1} + 1 x_{s2} + 0 x_{s3} + 0 x_{s4} + 0 x_{s5} \\geq 79$$ because only agents in shifts 1 and 2 provide coverage for that time period."
   ]
  },
  {
   "cell_type": "markdown",
   "metadata": {},
   "source": [
    "<font color = \"blue\"> *** 7 points -  answer in cell below *** (don't delete this cell) </font>"
   ]
  },
  {
   "cell_type": "code",
   "execution_count": 7,
   "metadata": {
    "collapsed": false,
    "jupyter": {
     "outputs_hidden": false
    }
   },
   "outputs": [
    {
     "name": "stdout",
     "output_type": "stream",
     "text": [
      "Total Cost for Recommended Schedule: $30,610.00\n",
      "\n",
      "Recommended Staffing:\n",
      "\n",
      "Shift 1: 48\n",
      "Shift 2: 31\n",
      "Shift 3: 39\n",
      "Shift 4: 43\n",
      "Shift 5: 15\n"
     ]
    }
   ],
   "source": [
    "# data for problem 7.3-7\n",
    "periods = [\n",
    "    'p6_8', 'p8_10', 'p10_12', 'p12_14', 'p14_16', 'p16_18', 'p18_20',\n",
    "    'p20_22', 'p22_24', 'p24_6'\n",
    "]\n",
    "shifts = ['s1', 's2', 's3', 's4', 's5']\n",
    "daily_cost_per_agent = dict( zip( shifts, [170, 160, 175, 180, 195] ) )\n",
    "min_agents_per_period = dict( zip( periods, [48, 79, 65, 87, 64, 73, 82, 43, 52, 15] ) )\n",
    "                            \n",
    "pc = [[1, 0, 0, 0, 0], [1, 1, 0, 0, 0], [1, 1, 0, 0, 0], [1, 1, 1, 0, 0],\n",
    "     [0, 1, 1, 0, 0], [0, 0, 1, 1, 0], [0, 0, 1, 1, 0], [0, 0, 0, 1, 0],\n",
    "     [0, 0, 0, 1, 1], [0, 0, 0, 0, 1]]\n",
    "periods_covered = { periods[p]: dict(zip( shifts, pc[p][:])) for p in range(len(periods))}\n",
    "\n",
    "# finish the code here:\n",
    "\n",
    "# Construct model\n",
    "model = ConcreteModel(name=\"personnelScheduling\")\n",
    "\n",
    "# decision variable\n",
    "model.agents = Var(shifts, domain=NonNegativeReals)\n",
    "\n",
    "# objective function\n",
    "model.cost = Objective(expr=sum(model.agents[s] * daily_cost_per_agent[s] for s in shifts),sense=minimize)\n",
    "\n",
    "# constraints\n",
    "model.minAgents = ConstraintList()\n",
    "for p in periods:\n",
    "     model.minAgents.add(sum(model.agents[s] * periods_covered[p][s] for s in shifts) >= min_agents_per_period[p])\n",
    "           \n",
    "# solve\n",
    "solver = SolverFactory('glpk')\n",
    "solver.solve(model)\n",
    "\n",
    "#display\n",
    "print(f\"Total Cost for Recommended Schedule: ${model.cost():,.2f}\\n\")\n",
    "print(\"Recommended Staffing:\\n\")\n",
    "for s in shifts:\n",
    "    print(f\"Shift {s[1:2]}: {model.agents[s]():,.0f}\")\n",
    "# print(df)\n",
    "\n"
   ]
  },
  {
   "cell_type": "markdown",
   "metadata": {},
   "source": [
    "**HW2.7b** - Which of the numbers in\n",
    "the rightmost column of Table 3.19 can be increased without increasing\n",
    "total cost? In each case, indicate how much it can be increased (if it\n",
    "is the only one being changed) without increasing total cost."
   ]
  },
  {
   "cell_type": "markdown",
   "metadata": {},
   "source": [
    "<font color = \"blue\"> *** 2 points -  answer in cell below *** (don't delete this cell) </font>"
   ]
  },
  {
   "cell_type": "markdown",
   "metadata": {},
   "source": [
    "<font color = \"green\">\n",
    "<table> \n",
    "    <tr>\n",
    "        <th>Period</th>\n",
    "        <th>Possible Increase</th>\n",
    "    </tr>\n",
    "    <tr>\n",
    "        <td>3</td>\n",
    "        <td>14</td>\n",
    "    </tr>\n",
    "        <tr>\n",
    "        <td>4</td>\n",
    "        <td>31</td>\n",
    "    </tr>\n",
    "    <tr>\n",
    "        <td>5</td>\n",
    "        <td>6</td>\n",
    "    </tr>\n",
    "        <tr>\n",
    "        <td>6</td>\n",
    "        <td>9</td>\n",
    "    </tr>\n",
    "    <tr>\n",
    "        <td>9</td>\n",
    "        <td>6</td>\n",
    "    </tr>\n",
    "</font>"
   ]
  },
  {
   "cell_type": "code",
   "execution_count": 8,
   "metadata": {
    "collapsed": false,
    "jupyter": {
     "outputs_hidden": false
    }
   },
   "outputs": [
    {
     "name": "stdout",
     "output_type": "stream",
     "text": [
      "GLPSOL: GLPK LP/MIP Solver, v4.65\n",
      "Parameter(s) specified in the command line:\n",
      " -m model2.lp --lp --ranges sensit2.sen\n",
      "Reading problem data from 'model2.lp'...\n",
      "11 rows, 6 columns, 19 non-zeros\n",
      "70 lines were read\n",
      "GLPK Simplex Optimizer, v4.65\n",
      "11 rows, 6 columns, 19 non-zeros\n",
      "Preprocessing...\n",
      "6 rows, 4 columns, 13 non-zeros\n",
      "Scaling...\n",
      " A: min|aij| =  1.000e+00  max|aij| =  1.000e+00  ratio =  1.000e+00\n",
      "Problem data seem to be well scaled\n",
      "Constructing initial basis...\n",
      "Size of triangular part is 6\n",
      "      0: obj =   1.882500000e+04 inf =   2.200e+02 (6)\n",
      "      6: obj =   3.061000000e+04 inf =   0.000e+00 (0)\n",
      "OPTIMAL LP SOLUTION FOUND\n",
      "Time used:   0.0 secs\n",
      "Memory used: 0.0 Mb (40759 bytes)\n",
      "Write sensitivity analysis report to 'sensit2.sen'...\n"
     ]
    }
   ],
   "source": [
    "# write the model to a sensitivity report\n",
    "model.write('model2.lp', io_options={'symbolic_solver_labels': True})\n",
    "!glpsol -m model2.lp --lp --ranges sensit2.sen"
   ]
  },
  {
   "cell_type": "code",
   "execution_count": 9,
   "metadata": {
    "collapsed": false,
    "jupyter": {
     "outputs_hidden": false
    }
   },
   "outputs": [
    {
     "name": "stdout",
     "output_type": "stream",
     "text": [
      "GLPK 4.65 - SENSITIVITY ANALYSIS REPORT                                                                         Page   1\n",
      "\n",
      "Problem:    \n",
      "Objective:  cost = 30610 (MINimum)\n",
      "\n",
      "   No. Row name     St      Activity         Slack   Lower bound       Activity      Obj coef  Obj value at Limiting\n",
      "                                          Marginal   Upper bound          range         range   break point variable\n",
      "------ ------------ -- ------------- ------------- -------------  ------------- ------------- ------------- ------------\n",
      "     1 c_l_minAgents(1)_\n",
      "                    NL      48.00000        .           48.00000         .          -10.00000   30130.00000 agents(s1)\n",
      "                                          10.00000          +Inf       54.00000          +Inf   30670.00000 c_l_minAgents(5)_\n",
      "\n",
      "     2 c_l_minAgents(2)_\n",
      "                    NL      79.00000        .           79.00000       73.00000    -160.00000   29650.00000 c_l_minAgents(5)_\n",
      "                                         160.00000          +Inf           +Inf          +Inf          +Inf\n",
      "\n",
      "     3 c_l_minAgents(3)_\n",
      "                    BS      79.00000     -14.00000      65.00000           +Inf    -160.00000   17970.00000 c_l_minAgents(2)_\n",
      "                                            .               +Inf       79.00000          +Inf          +Inf\n",
      "\n",
      "     4 c_l_minAgents(4)_\n",
      "                    BS     118.00000     -31.00000      87.00000           +Inf    -160.00000   11730.00000 c_l_minAgents(2)_\n",
      "                                            .               +Inf      112.00000       5.00000   31200.00000 c_l_minAgents(8)_\n",
      "\n",
      "     5 c_l_minAgents(5)_\n",
      "                    BS      70.00000      -6.00000      64.00000           +Inf    -160.00000   19410.00000 c_l_minAgents(2)_\n",
      "                                            .               +Inf       39.00000       5.00000   30960.00000 c_l_minAgents(8)_\n",
      "\n",
      "     6 c_l_minAgents(6)_\n",
      "                    BS      82.00000      -9.00000      73.00000           +Inf    -175.00000   16260.00000 c_l_minAgents(7)_\n",
      "                                            .               +Inf       82.00000          +Inf          +Inf\n",
      "\n",
      "     7 c_l_minAgents(7)_\n",
      "                    NL      82.00000        .           82.00000       76.00000    -175.00000   29560.00000 c_l_minAgents(5)_\n",
      "                                         175.00000          +Inf           +Inf          +Inf          +Inf\n",
      "\n",
      "     8 c_l_minAgents(8)_\n",
      "                    NL      43.00000        .           43.00000       37.00000      -5.00000   30580.00000 c_l_minAgents(9)_\n",
      "                                           5.00000          +Inf       49.00000          +Inf   30640.00000 c_l_minAgents(5)_\n",
      "\n",
      "     9 c_l_minAgents(9)_\n",
      "                    BS      58.00000      -6.00000      52.00000       64.00000      -5.00000   30320.00000 c_l_minAgents(8)_\n",
      "                                            .               +Inf       58.00000          +Inf          +Inf\n",
      "\n",
      "    10 c_l_minAgents(10)_\n",
      "                    NL      15.00000        .           15.00000        9.00000    -195.00000   29440.00000 c_l_minAgents(9)_\n",
      "                                         195.00000          +Inf           +Inf          +Inf          +Inf\n",
      "\n",
      "GLPK 4.65 - SENSITIVITY ANALYSIS REPORT                                                                         Page   2\n",
      "\n",
      "Problem:    \n",
      "Objective:  cost = 30610 (MINimum)\n",
      "\n",
      "   No. Row name     St      Activity         Slack   Lower bound       Activity      Obj coef  Obj value at Limiting\n",
      "                                          Marginal   Upper bound          range         range   break point variable\n",
      "------ ------------ -- ------------- ------------- -------------  ------------- ------------- ------------- ------------\n",
      "    11 c_e_ONE_VAR_CONSTANT\n",
      "                    NS       1.00000        .            1.00000         .               -Inf   30610.00000 ONE_VAR_CONSTANT\n",
      "                                            .            1.00000           +Inf          +Inf   30610.00000\n",
      "\n",
      "GLPK 4.65 - SENSITIVITY ANALYSIS REPORT                                                                         Page   3\n",
      "\n",
      "Problem:    \n",
      "Objective:  cost = 30610 (MINimum)\n",
      "\n",
      "   No. Column name  St      Activity      Obj coef   Lower bound       Activity      Obj coef  Obj value at Limiting\n",
      "                                          Marginal   Upper bound          range         range   break point variable\n",
      "------ ------------ -- ------------- ------------- -------------  ------------- ------------- ------------- ------------\n",
      "     1 agents(s1)   BS      48.00000     170.00000        .            54.00000     160.00000   30130.00000 c_l_minAgents(1)_\n",
      "                                            .               +Inf       48.00000          +Inf          +Inf\n",
      "\n",
      "     2 agents(s2)   BS      31.00000     160.00000        .                +Inf        .        25650.00000 c_l_minAgents(2)_\n",
      "                                            .               +Inf       25.00000     170.00000   30920.00000 c_l_minAgents(1)_\n",
      "\n",
      "     3 agents(s3)   BS      39.00000     175.00000        .                +Inf        .        23785.00000 c_l_minAgents(7)_\n",
      "                                            .               +Inf       33.00000     180.00000   30805.00000 c_l_minAgents(8)_\n",
      "\n",
      "     4 agents(s4)   BS      43.00000     180.00000        .            49.00000     175.00000   30395.00000 c_l_minAgents(8)_\n",
      "                                            .               +Inf       43.00000          +Inf          +Inf\n",
      "\n",
      "     5 agents(s5)   BS      15.00000     195.00000        .                +Inf        .        27685.00000 c_l_minAgents(10)_\n",
      "                                            .               +Inf       15.00000          +Inf          +Inf\n",
      "\n",
      "     6 ONE_VAR_CONSTANT\n",
      "                    BS       1.00000        .             .             1.00000          -Inf          -Inf\n",
      "                                            .               +Inf        1.00000          +Inf          +Inf\n",
      "\n",
      "End of report\n",
      "\n"
     ]
    }
   ],
   "source": [
    "# widen browser and/or close TOC to see sensitivity report\n",
    "import numpy as np\n",
    "np.set_printoptions(linewidth=110)\n",
    "f = open('sensit2.sen', 'r')\n",
    "file_contents = f.read()\n",
    "print(file_contents)\n",
    "f.close()"
   ]
  },
  {
   "cell_type": "markdown",
   "metadata": {},
   "source": [
    "**HW2.7c** - For each of the other numbers, how much would the total cost increase per increase of 1 in the number? For each answer, indicate how much the number can be increased (if it is the only one being changed) before the answer is no longer valid."
   ]
  },
  {
   "cell_type": "markdown",
   "metadata": {},
   "source": [
    "<font color = \"blue\"> *** 2 points -  answer in cell below *** (don't delete this cell) </font>"
   ]
  },
  {
   "cell_type": "markdown",
   "metadata": {},
   "source": [
    "<font color = \"green\">\n",
    "<table> \n",
    "    <tr>\n",
    "        <th>Period</th>\n",
    "        <th>Cost Increase</th>\n",
    "        <th>Allowable Increase</th>\n",
    "    </tr>\n",
    "    <tr>\n",
    "        <td>1</td>\n",
    "        <td>10</td>\n",
    "        <td>6</td>\n",
    "    </tr>\n",
    "        <tr>\n",
    "        <td>2</td>\n",
    "        <td>160</td>\n",
    "        <td>Infinity</td>    \n",
    "    </tr>\n",
    "    <tr>\n",
    "        <td>7</td>\n",
    "        <td>175</td>\n",
    "        <td>Infinity</td>\n",
    "    </tr>\n",
    "        <tr>\n",
    "        <td>8</td>\n",
    "        <td>5</td>\n",
    "        <td>6</td>\n",
    "    </tr>\n",
    "    <tr>\n",
    "        <td>10</td>\n",
    "        <td>195</td>\n",
    "        <td>Infinity</td>\n",
    "    </tr>\n",
    "</font>"
   ]
  },
  {
   "cell_type": "markdown",
   "metadata": {},
   "source": [
    "**HW2.7d** - Do your answers in part (c) definitely remain valid if all the numbers considered in part (c) are simultaneously increased by one? (What percent of the allowable increase is an increase of 1 for each RHS? Consider Hillier p. 238)"
   ]
  },
  {
   "cell_type": "markdown",
   "metadata": {},
   "source": [
    "<font color = \"blue\"> *** 2 points -  answer in cell below *** (don't delete this cell) </font>"
   ]
  },
  {
   "cell_type": "markdown",
   "metadata": {},
   "source": [
    "<font color = \"green\">\n",
    "The total percentage of the allowable increases would be less than 100.  The shadow prices will be valid.   \n",
    "</font>"
   ]
  }
 ],
 "metadata": {
  "kernelspec": {
   "display_name": "Python 3 (system-wide)",
   "language": "python",
   "name": "python3"
  },
  "language_info": {
   "codemirror_mode": {
    "name": "ipython",
    "version": 3
   },
   "file_extension": ".py",
   "mimetype": "text/x-python",
   "name": "python",
   "nbconvert_exporter": "python",
   "pygments_lexer": "ipython3",
   "version": "3.8.5"
  },
  "toc": {
   "base_numbering": 1,
   "nav_menu": {},
   "number_sections": true,
   "sideBar": true,
   "skip_h1_title": false,
   "title_cell": "Table of Contents",
   "title_sidebar": "Contents",
   "toc_cell": false,
   "toc_position": {
    "height": "calc(100% - 180px)",
    "left": "10px",
    "top": "150px",
    "width": "204.787px"
   },
   "toc_section_display": true,
   "toc_window_display": false
  },
  "varInspector": {
   "cols": {
    "lenName": 16,
    "lenType": 16,
    "lenVar": 40
   },
   "kernels_config": {
    "python": {
     "delete_cmd_postfix": "",
     "delete_cmd_prefix": "del ",
     "library": "var_list.py",
     "varRefreshCmd": "print(var_dic_list())"
    },
    "r": {
     "delete_cmd_postfix": ") ",
     "delete_cmd_prefix": "rm(",
     "library": "var_list.r",
     "varRefreshCmd": "cat(var_dic_list()) "
    }
   },
   "types_to_exclude": [
    "module",
    "function",
    "builtin_function_or_method",
    "instance",
    "_Feature"
   ],
   "window_display": false
  }
 },
 "nbformat": 4,
 "nbformat_minor": 4
}
