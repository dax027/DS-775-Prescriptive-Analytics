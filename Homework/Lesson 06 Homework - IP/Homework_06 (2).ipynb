{
 "cells": [
  {
   "cell_type": "code",
   "execution_count": 1,
   "metadata": {
    "code_folding": [
     0
    ],
    "collapsed": false,
    "jupyter": {
     "outputs_hidden": false
    }
   },
   "outputs": [],
   "source": [
    "# execute to import notebook styling for tables and width etc.\n",
    "from IPython.core.display import HTML\n",
    "import urllib.request\n",
    "response = urllib.request.urlopen('https://raw.githubusercontent.com/DataScienceUWL/DS775v2/master/ds755.css')\n",
    "HTML(response.read().decode(\"utf-8\"));"
   ]
  },
  {
   "cell_type": "code",
   "execution_count": 2,
   "metadata": {},
   "outputs": [],
   "source": [
    "# imports\n",
    "\n",
    "from pyomo.environ import *\n",
    "import string\n",
    "import pandas as pd"
   ]
  },
  {
   "cell_type": "markdown",
   "metadata": {},
   "source": [
    "<font size=18>Lesson 06 Homework</font>"
   ]
  },
  {
   "cell_type": "markdown",
   "metadata": {},
   "source": [
    "# **HW6.1** - Textbook Problem 12.4-2"
   ]
  },
  {
   "cell_type": "markdown",
   "metadata": {},
   "source": [
    "Reconsider the Wyndor Glass Co. problem presented in Sec. 3.1. Management now has decided that **only one** of the two new products should be produced, and the choice is to be made on the basis of maximizing profit. Introduce auxiliary binary variables to formulate an MIP model for this new version of the problem.\n",
    "\n",
    "The model formulation as a MIP where $d$ and $w$ are the numbers of doors and windows produced, respectively, is:\n",
    "\n",
    "Maximize $Z = 3 d + 5 w$\n",
    "\n",
    "subject to:\n",
    "\n",
    "$\n",
    "\\begin{array}{ccccc}\n",
    " d &   &    & \\leq & 4 \\\\\n",
    "   &   & 2w & \\leq & 12 \\\\\n",
    "3d & + & 2w & \\leq & 18\n",
    "\\end{array}\n",
    "$\n",
    "\n",
    "$d \\geq 0$, $w \\geq 0$\n",
    "\n",
    "**HW6.1a** - Introduce auxiliary binary variables to formulate a mixed BIP model for this problem. Include a picture or LaTeX of the mathematical formulation in the next cell.\n",
    "\n",
    "<font color = \"blue\"> *** 4 points -  answer in cell below *** (don't delete this cell) </font>"
   ]
  },
  {
   "cell_type": "markdown",
   "metadata": {
    "hidden": true
   },
   "source": [
    "<font color = \"green\">\n",
    "Maximize $Z = 3 d + 5 w$\n",
    "\n",
    "subject to:\n",
    "\n",
    "$\n",
    "\\begin{array}{ccccc}\n",
    "   &   &  d & \\leq & 4 \\\\\n",
    "   &   & 2w & \\leq & 12 \\\\\n",
    "3d & + & 2w & \\leq & 18\n",
    "\\end{array}\n",
    "$\n",
    "\n",
    "$d \\geq 0$, $w \\geq 0$\n",
    "\n",
    "$ d \\leq M * y_1$\n",
    "    \n",
    "$ w \\leq M * y_2$\n",
    "\n",
    "$y_1 + y_2 = 1$\n",
    "    \n",
    "$y_1, y_2$ are binary\n",
    "\n",
    "</font>"
   ]
  },
  {
   "cell_type": "markdown",
   "metadata": {},
   "source": [
    "**HW6.1b** - Use Pyomo to solve this model. You can use a concrete or an abstract formulation.\n",
    "\n",
    "<font color = \"blue\"> *** 6 points -  answer in cell below *** (don't delete this cell) </font>"
   ]
  },
  {
   "cell_type": "code",
   "execution_count": 3,
   "metadata": {
    "collapsed": false,
    "jupyter": {
     "outputs_hidden": false
    }
   },
   "outputs": [
    {
     "name": "stdout",
     "output_type": "stream",
     "text": [
      "Maximum Profit = $30,000.00\n",
      "Produce 6.0 windows per week\n"
     ]
    }
   ],
   "source": [
    "m = ConcreteModel(name=\"problem_1\")\n",
    "\n",
    "# Variables\n",
    "m.d = Var(bounds=(0,4))\n",
    "m.w = Var(bounds=(0,6))\n",
    "\n",
    "m.y1 = Var(domain=Boolean)\n",
    "m.y2 = Var(domain=Boolean)\n",
    "\n",
    "# Objective Function\n",
    "m.profit = Objective( expr = 3*m.d + 5*m.w, sense = maximize)\n",
    "\n",
    "# M\n",
    "bigM = 10000\n",
    "\n",
    "# Constraints:\n",
    "m.cts = ConstraintList()\n",
    "m.cts.add( 3 * m.d + 2 * m.w <= 18 )\n",
    "m.cts.add( m.y1 + m.y2 == 1)\n",
    "m.cts.add( m.d <= bigM * m.y1)\n",
    "m.cts.add( m.w <= bigM * m.y2)\n",
    "\n",
    "# Solve\n",
    "solver = SolverFactory('glpk')\n",
    "solver.solve(m)\n",
    "\n",
    "# Output\n",
    "print(f\"Maximum Profit = ${1000*m.profit():,.2f}\")\n",
    "product = {1:\"doors\", 2:\"windows\"}\n",
    "for i,amount in enumerate([m.d(),m.w()]):\n",
    "    if amount > 0:\n",
    "        print(f\"Produce {amount:0.1f} {product[i+1]} per week\")"
   ]
  },
  {
   "cell_type": "markdown",
   "metadata": {},
   "source": [
    "# **HW6.2** - Textbook Problem 12.3-1"
   ]
  },
  {
   "cell_type": "markdown",
   "metadata": {},
   "source": [
    "The Research and Development Division of the Progressive Company has been developing four possible new product lines. Management must now make a decision as to which of these four products actually will be produced and at what levels. Therefore, an operations research study has been requested to find the most profitable product mix.\n",
    "\n",
    "A substantial cost is associated with beginning the production of any product, as given in the first row of the following table. Management’s objective is to find the product mix that maximizes the total profit (total net revenue minus start-up costs).\n",
    "\n",
    "<img src=\"images/screen-prob12_3-1.png\" alt=\"Solution\" width=\"350\" height=\"150\">\n",
    "\n",
    "Let the continuous decision variables $x_1, x_2, x_3,$ and $x_4$ be the production levels of products 1, 2, 3, and 4, respectively. Management has imposed the following policy constraints on these variables:\n",
    "\n",
    "1. No more than two of the products can be produced.\n",
    "\n",
    "2. Either product 3 or 4 can be produced only if either product 1 or 2 is produced.\n",
    "\n",
    "3. Either \n",
    "\n",
    "$$5x_1 + 3x_2 + 6x_3 + 4x_4 \\leq  6,000$$\n",
    "\n",
    "$$\\text{or}$$ \n",
    "\n",
    "$$4x_1 + 6x_2 + 3x_3 + 5x_4 \\leq 6,000 $$.\n",
    "\n",
    "**HW6.2a** - Introduce auxiliary binary variables to formulate a mixed BIP model for this problem.  Include a picture or LaTeX of the mathematical formulation in the next cell.\n",
    "\n",
    "<font color = \"blue\"> *** 6 points -  answer in cell below *** (don't delete this cell) </font>"
   ]
  },
  {
   "cell_type": "markdown",
   "metadata": {},
   "source": [
    "<font color='green'>\n",
    "Maximize $Z = \\sum{c_jx_j - k_jy_j}\n",
    "\\\\$\n",
    "\n",
    "Subject to:\n",
    "\n",
    "$\n",
    "\\begin{array}{l}\n",
    "x_j \\leq My_j \\\\\n",
    "y_1 + y_2 + y_3 + y_4 \\leq 2 \\\\\n",
    "y_5 + y_6 = 1 \\\\\n",
    " y_1 + y_2 + y_3 \\leq 2 \\\\\n",
    "5x_1 + 3x_2 + 6x_3 + 4x_4 \\leq 6000 + M(1 - y_5) \\\\\n",
    "4x_1 + 6x_2 + 3x_3 + 5x_4 \\leq 6000 + M(1 - y_6) \\\\\n",
    "y_3 - y_1 - y_2 \\leq 0 \\\\\n",
    "y_4 - y_1 - y_2 \\leq 0 \\\\\n",
    "x_i \\geq 0, \\text{ for } i=1, 2, 3, 4  \\\\\n",
    "y_i \\text{ binary, for } i=1, 2, 3, 4, 5, 6 \\\\\n",
    "\\\\\n",
    "where \\\\\n",
    "c = \\mbox{marginal cost} \\\\ \n",
    "x = \\mbox{amount of product produced} \\\\ \n",
    "k = \\mbox{startup cost of product} \\\\ \n",
    "y = \\mbox{product was made (binary)} \\\\\n",
    "M = \\mbox{arbitrary large number} \\\\\n",
    "\\end{array}\n",
    "$\n",
    "   \n",
    "</font>"
   ]
  },
  {
   "cell_type": "markdown",
   "metadata": {},
   "source": [
    "**HW6.2b** - Use Pyomo to solve this model. Use an abstract formulation.\n",
    "\n",
    "<font color = \"blue\"> *** 10 points -  answer in cell below *** (don't delete this cell) </font>"
   ]
  },
  {
   "cell_type": "code",
   "execution_count": 4,
   "metadata": {
    "collapsed": false,
    "jupyter": {
     "outputs_hidden": false
    }
   },
   "outputs": [
    {
     "name": "stdout",
     "output_type": "stream",
     "text": [
      "Maximum Profit = $80,000.00\n",
      "\n",
      "Do not produce product 1.\n",
      "Produce product 2 at a rate of 2000 per week.\n",
      "Do not produce product 3.\n",
      "Do not produce product 4.\n",
      "\n",
      "Constraint applied:\n",
      "First\n"
     ]
    }
   ],
   "source": [
    "# Problem set-up\n",
    "products = ['product 1', 'product 2', 'product 3', 'product 4']\n",
    "marg_revenue = dict(zip(products, [70, 60, 90, 80]))\n",
    "start_cost = dict(zip(products, [50000, 40000, 70000, 60000]))\n",
    "choices = ['First','Second'] # y5, y6\n",
    "bigM = 10000\n",
    "coefs = [[5, 3, 6, 4], [4, 6, 3, 5]]\n",
    "ys = [[-1,-1,1,0],[-1,-1,0,1]]\n",
    "rhs = [6000, 6000]\n",
    "max_products = 2\n",
    "num_choices = 1\n",
    "\n",
    "# --------------------------------------------------------\n",
    "# Model\n",
    "M = ConcreteModel(name=\"problem_2\")\n",
    "\n",
    "# --------------------------------------------------------\n",
    "# Decision Variables\n",
    "M.x = Var(products, domain=NonNegativeReals)\n",
    "M.y = Var(products, domain=Boolean)\n",
    "M.choice = Var(choices, domain=Boolean)\n",
    "\n",
    "# --------------------------------------------------------\n",
    "# Objective:  Maximize Profit\n",
    "M.profit = Objective(expr=sum((marg_revenue[pr] * M.x[pr]) - start_cost[pr] * M.y[pr] for pr in products), sense=maximize)\n",
    "\n",
    "\n",
    "# --------------------------------------------------------\n",
    "# Constraints:\n",
    "M.constraints = ConstraintList()\n",
    "\n",
    "# fixed-charge\n",
    "for pr in products:\n",
    "    M.constraints.add(M.x[pr] <= bigM * M.y[pr])\n",
    "\n",
    "# two products max\n",
    "M.constraints.add(sum(M.y[pr] for pr in products) <= max_products)\n",
    "\n",
    "# there can be only one   y5 + y6 == 1\n",
    "M.constraints.add(sum(M.choice[ch] for ch in choices) == num_choices)\n",
    "\n",
    "# the either/or constraint...\n",
    "for i in range(len(choices)): \n",
    "    M.constraints.add(sum(coefs[i][j] * M.x[products[j]] for j in range(len(coefs[i]))) <= rhs[i] + bigM * (1 - M.choice[choices[i]]))\n",
    "\n",
    "# product 3 or 4 can only be produced if either product 1 or 2 is produced\n",
    "for i in range(len(ys)):\n",
    "    M.constraints.add(sum(ys[i][j] * M.y[products[j]] for j in range(len(ys[i]))) <= 0)\n",
    "    \n",
    "# --------------------------------------------------------\n",
    "# Solve\n",
    "solver = SolverFactory('glpk')\n",
    "solver.solve(M)\n",
    "\n",
    "# --------------------------------------------------------\n",
    "# Output\n",
    "print(f\"Maximum Profit = ${M.profit():,.2f}\\n\")\n",
    "for pr in products:\n",
    "    if bool(M.y[pr]()):\n",
    "        print(f\"Produce {pr} at a rate of {M.x[pr]():.0f} per week.\")\n",
    "    else:\n",
    "        print(f\"Do not produce {pr}.\" )\n",
    "# curiosity\n",
    "print(\"\\nConstraint applied:\")\n",
    "for ch in choices:\n",
    "    if M.choice[ch]:\n",
    "        print(ch)"
   ]
  },
  {
   "cell_type": "markdown",
   "metadata": {},
   "source": [
    "# **HW6.3** - Textbook Problem 12.4-6"
   ]
  },
  {
   "cell_type": "markdown",
   "metadata": {},
   "source": [
    "Speedy Delivery provides two-day delivery service of large parcels across the United States. Each morning at each collection center, the parcels that have arrived overnight are loaded onto several trucks for delivery throughout the area. Since the competitive battlefield in this business is speed of delivery, the parcels are divided among the trucks according to their geographical destinations to minimize the average time needed to make the deliveries.\n",
    "\n",
    "On this particular morning, the dispatcher for the Blue River Valley Collection Center, Sharon Lofton, is hard at work. Her three drivers will be arriving in less than an hour to make the day’s deliveries. There are nine parcels to be delivered, all at locations many miles apart. As usual, Sharon has loaded these locations into her computer. She is using her company’s special software package, a decision support system called Dispatcher. The first thing Dispatcher does is use these locations to generate a considerable number of attractive possible routes for the individual delivery trucks. These routes are shown in the following table (where the numbers in each column indicate the order of the deliveries), along with the estimated time required to traverse the route.\n",
    "\n",
    "<img src=\"images/screen-prob12_4-6.png\" alt=\"Solution\" width=\"350\">\n",
    "\n",
    "\n",
    "Dispatcher is an interactive system that shows these routes to Sharon for her approval or modification. (For example, the computer may not know that flooding has made a particular route infeasible.) After Sharon approves these routes as attractive possibilities with reasonable time estimates, Dispatcher next formulates and solves a BIP model for selecting three routes that minimize their total time while including each delivery location on exactly one route. This morning, Sharon does approve all the routes.\n",
    "\n",
    "**HW6.3a** - Formulate this BIP model.  Include a picture or LaTeX of the mathematical formulation in the next cell.\n",
    "\n",
    "<font color = \"blue\"> *** 6 points -  answer in cell below *** (don't delete this cell) </font>"
   ]
  },
  {
   "cell_type": "markdown",
   "metadata": {},
   "source": [
    "<font color = \"green\">\n",
    "Minimize $ Z = \\sum_{j=1}^{10} t_iy_i\n",
    "\\\\$\n",
    "\n",
    "Subject to:\n",
    "\n",
    "$\n",
    "\\begin{array}{l} \n",
    "\\sum_{j=1}^{10}x_{ij}y_i = 1 \\\\\n",
    "y_i \\text{ binary, for } i=A:I \\\\\n",
    "\\\\\n",
    "where \\\\\n",
    "t_i = \\mbox{time (in hours) required to complete route} \\\\\n",
    "i = \\mbox{locations A:I} \\\\\n",
    "j = \\mbox{routes 1:10}\n",
    "\\\\\n",
    "\\end{array}\n",
    "$\n",
    "</font>"
   ]
  },
  {
   "cell_type": "markdown",
   "metadata": {},
   "source": [
    "**HW6.3b** - Use Pyomo solve this model.  Use an abstract formulation.\n",
    "\n",
    "<font color = \"blue\"> *** 10 points -  answer in cell below *** (don't delete this cell) </font>"
   ]
  },
  {
   "cell_type": "code",
   "execution_count": 5,
   "metadata": {
    "collapsed": false,
    "jupyter": {
     "outputs_hidden": false
    }
   },
   "outputs": [
    {
     "name": "stdout",
     "output_type": "stream",
     "text": [
      "Use the following suggested routes:\n",
      "Route 4\n",
      "Route 5\n",
      "Route 8\n",
      "\n",
      "Hours required: 12.00\n"
     ]
    }
   ],
   "source": [
    "# Inputs\n",
    "num_routes = 10\n",
    "num_locations = 9\n",
    "route_times = [6, 4, 7, 5, 4, 6, 5, 3, 7, 6]\n",
    "\n",
    "# Setup\n",
    "routes = [\"Route \" + str(i+1) for i in range(num_routes)]\n",
    "alphabet = string.ascii_uppercase\n",
    "locations = [alphabet[i] for i in range(num_locations)] # didn't end up needing this...\n",
    "times = dict(zip(routes, route_times))\n",
    "route_matrix = [[1,0,0,0,1,0,0,0,1,0],[0,1,0,1,0,1,0,0,1,1],[0,0,1,1,0,0,1,0,1,0],[1,0,0,0,0,1,0,1,0,0],[0,0,1,1,0,1,0,0,0,0],\n",
    "                [0,1,0,0,1,0,0,0,0,0],[1,0,0,0,0,0,1,1,0,1],[0,0,1,0,1,0,0,0,0,1],[0,1,0,1,0,0,1,0,0,0]]\n",
    "\n",
    "# Model\n",
    "m = ConcreteModel(name=\"problem_3\")\n",
    "\n",
    "# Decision Variables\n",
    "m.routes = Var(routes, domain=Boolean)\n",
    "\n",
    "# Objective\n",
    "m.min_times = Objective(expr=sum(times[r] * m.routes[r] for r in routes), sense=minimize)\n",
    "\n",
    "# Constraints\n",
    "m.constraints = ConstraintList()\n",
    "for i in range(len(route_matrix)):\n",
    "      m.constraints.add(expr=sum(route_matrix[i][r] * m.routes[routes[r]] for r in range(len(routes))) == 1)\n",
    "\n",
    "\n",
    "# Solve\n",
    "solver = SolverFactory('glpk')\n",
    "solver.solve(m)\n",
    "\n",
    "# Display\n",
    "print(\"Use the following suggested routes:\")\n",
    "for r in routes:\n",
    "    if m.routes[r]():\n",
    "        print(r)\n",
    "print(f\"\\nHours required: {m.min_times():,.2f}\")"
   ]
  },
  {
   "cell_type": "markdown",
   "metadata": {},
   "source": [
    "# **HW6.4** - Knapsack optimization"
   ]
  },
  {
   "cell_type": "markdown",
   "metadata": {},
   "source": [
    "We'll revisit the Knapsack Optimization problem from Lesson 4 and 5. This time, we'll solve it using integer programming.\n",
    "\n",
    "Given a set of items, each with a weight and a value, use binary variables and Pyomo to determine which items to include in a collection such that the total weight is less than or equal to a given limit and the total value is as large as possible. We will start with 20 items and you need to determine the collection of items that maximizes the value and keeps the total weight less than or equal to 50. \n",
    "\n",
    "Use the problem data as described below:"
   ]
  },
  {
   "cell_type": "code",
   "execution_count": 6,
   "metadata": {
    "collapsed": false,
    "jupyter": {
     "outputs_hidden": false
    }
   },
   "outputs": [],
   "source": [
    "#Problem Data - generate random weights and values for a knapsack problem (do not change)\n",
    "import numpy as np\n",
    "num_items = 20\n",
    "np.random.seed(seed=123)\n",
    "values = np.random.randint(low=5, high=50, size=num_items)\n",
    "weights = np.random.randint(low=1, high=10, size=num_items)\n",
    "np.random.seed() # use system clock to reset the seed so future random numbers will appear random"
   ]
  },
  {
   "cell_type": "markdown",
   "metadata": {},
   "source": [
    "Your Pyomo solution should go in the next cell.  Your code should still work if the number of items is changed to 40 or more.\n",
    "\n",
    "<font color = \"blue\"> *** 8 points -  answer in cell below *** (don't delete this cell) </font>"
   ]
  },
  {
   "cell_type": "code",
   "execution_count": 7,
   "metadata": {
    "collapsed": false,
    "jupyter": {
     "outputs_hidden": false
    }
   },
   "outputs": [
    {
     "name": "stdout",
     "output_type": "stream",
     "text": [
      "Final loadout:  ['Item: 1', 'Item: 3', 'Item: 4', 'Item: 7', 'Item: 8', 'Item: 9', 'Item: 10', 'Item: 12', 'Item: 13', 'Item: 15', 'Item: 17', 'Item: 18', 'Item: 19']\n",
      "\n",
      "Value: 435\n",
      "\n",
      "Weight:  50\n"
     ]
    }
   ],
   "source": [
    "# Model\n",
    "m = ConcreteModel(name=\"problem_4\")\n",
    "\n",
    "# Decision variables\n",
    "m.pack = Var(range(20),domain=Boolean) # <- 0's and 1's\n",
    "\n",
    "# Objective\n",
    "m.tot_value = Objective(expr=sum(m.pack[i] * values[i] for i in range(num_items)), sense=maximize)\n",
    "\n",
    "# Constraints \n",
    "m.constraints = ConstraintList()\n",
    "m.constraints.add(expr=sum(m.pack[i] * weights[i] for i in range(num_items)) <= 50)\n",
    "\n",
    "# Solve\n",
    "solver = SolverFactory('glpk')\n",
    "solver.solve(m)\n",
    "\n",
    "# Display\n",
    "final_loadout = []\n",
    "tot_weight = 0\n",
    "for i in range(num_items):\n",
    "    if m.pack[i]():\n",
    "        final_loadout.append(\"Item: \"+ str(i+1))\n",
    "        tot_weight += weights[i]\n",
    "print(\"Final loadout: \", final_loadout)\n",
    "print(f\"\\nValue: {m.tot_value():.0f}\")\n",
    "print(f\"\\nWeight: \", tot_weight)"
   ]
  }
 ],
 "metadata": {
  "kernelspec": {
   "display_name": "Python 3 (system-wide)",
   "language": "python",
   "name": "python3"
  },
  "language_info": {
   "codemirror_mode": {
    "name": "ipython",
    "version": 3
   },
   "file_extension": ".py",
   "mimetype": "text/x-python",
   "name": "python",
   "nbconvert_exporter": "python",
   "pygments_lexer": "ipython3",
   "version": "3.8.5"
  },
  "toc": {
   "base_numbering": 1,
   "nav_menu": {},
   "number_sections": true,
   "sideBar": true,
   "skip_h1_title": false,
   "title_cell": "Table of Contents",
   "title_sidebar": "Contents",
   "toc_cell": false,
   "toc_position": {
    "height": "calc(100% - 180px)",
    "left": "10px",
    "top": "150px",
    "width": "263.082px"
   },
   "toc_section_display": true,
   "toc_window_display": true
  },
  "varInspector": {
   "cols": {
    "lenName": 16,
    "lenType": 16,
    "lenVar": 40
   },
   "kernels_config": {
    "python": {
     "delete_cmd_postfix": "",
     "delete_cmd_prefix": "del ",
     "library": "var_list.py",
     "varRefreshCmd": "print(var_dic_list())"
    },
    "r": {
     "delete_cmd_postfix": ") ",
     "delete_cmd_prefix": "rm(",
     "library": "var_list.r",
     "varRefreshCmd": "cat(var_dic_list()) "
    }
   },
   "types_to_exclude": [
    "module",
    "function",
    "builtin_function_or_method",
    "instance",
    "_Feature"
   ],
   "window_display": false
  }
 },
 "nbformat": 4,
 "nbformat_minor": 4
}
