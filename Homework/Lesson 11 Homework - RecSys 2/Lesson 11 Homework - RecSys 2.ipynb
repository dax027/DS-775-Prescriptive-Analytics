{
 "cells": [
  {
   "cell_type": "code",
   "execution_count": 66,
   "metadata": {
    "code_folding": [
     0
    ],
    "collapsed": false,
    "jupyter": {
     "outputs_hidden": false
    }
   },
   "outputs": [],
   "source": [
    "# execute to import notebook styling for tables and width etc.\n",
    "from IPython.core.display import HTML\n",
    "import urllib.request\n",
    "response = urllib.request.urlopen('https://raw.githubusercontent.com/DataScienceUWL/DS775v2/master/ds755.css')\n",
    "HTML(response.read().decode(\"utf-8\"));\n",
    "\n",
    "# computational imports\n",
    "import numpy as np\n",
    "import pandas as pd\n",
    "from sklearn.model_selection import train_test_split\n",
    "from sklearn.metrics import mean_squared_error\n",
    "from sklearn.metrics.pairwise import cosine_similarity\n",
    "from surprise import Reader, Dataset, KNNBasic, SVD\n",
    "from surprise.model_selection import cross_validate\n",
    "from ast import literal_eval\n",
    "from sklearn.feature_extraction.text import CountVectorizer\n",
    "from sklearn.feature_extraction.text import TfidfVectorizer\n",
    "from sklearn.metrics.pairwise import linear_kernel\n",
    "\n",
    "# plotting imports\n",
    "import matplotlib.pyplot as plt\n",
    "import seaborn as sns\n",
    "sns.set_style(\"darkgrid\")"
   ]
  },
  {
   "cell_type": "markdown",
   "metadata": {},
   "source": [
    "<font size=18>Homework 11: Recommender Systems 2</font>"
   ]
  },
  {
   "cell_type": "markdown",
   "metadata": {},
   "source": [
    "# **HW11.1** - Build a Baseline Model and Compute the RMSE"
   ]
  },
  {
   "cell_type": "markdown",
   "metadata": {},
   "source": [
    "The file **rating_final.csv** (found in the presentation download for this lesson) contains user ratings for overall, food, and service for various restaurants.   \n",
    "\n",
    "Do the following:\n",
    "\n",
    "* display the first 5 lines of the data (get familiar with the data frame)\n",
    "* For each row, make a a new combined rating by adding the rating, food_rating, and service_rating columns\n",
    "* find the minimum combined restaurant rating\n",
    "* find the maximum combined restaurant rating\n",
    "* adjust the rating scale by shifting up 1 if 0 is included\n",
    "* calculate the mean restaurant rating for all restaurant (just to get an idea)\n",
    "* drop the ratings for food and service so that only the overall combined rating remains (If you did this as an extra column, then drop rating, too. If you overwrote the rating column, then keep it. You should end up with a dataframe that just has userID, placeID, and rating)\n",
    "* split the data set so that 80\\% of a users ratings are in the training set and 20\\% are in the testing set\n",
    "* build a baseline model that assigns the appropriate rating (median of all data) for all predictions and compute the RMSE of these on the testing set\n",
    "* make sure that your score function and models are not using global variables. Pass in all data that you need using \\*args if need be\n",
    "\n",
    "Click <a href = https://www.kaggle.com/uciml/restaurant-data-with-consumer-ratings> here </a> or <a href = https://archive.ics.uci.edu/ml/datasets/Restaurant+%26+consumer+data> here </a> for more details about the data set."
   ]
  },
  {
   "cell_type": "markdown",
   "metadata": {},
   "source": [
    "<font color = \"blue\"> *** 12 points -  answer in cells below *** (don't delete this cell) </font>"
   ]
  },
  {
   "cell_type": "code",
   "execution_count": 45,
   "metadata": {
    "collapsed": false,
    "jupyter": {
     "outputs_hidden": false
    }
   },
   "outputs": [
    {
     "name": "stdout",
     "output_type": "stream",
     "text": [
      "  userID  placeID  rating  food_rating  service_rating  combined\n",
      "0  U1077   135085       2            2               2         6\n",
      "1  U1077   135038       2            2               1         5\n",
      "2  U1077   132825       2            2               2         6\n",
      "3  U1077   135060       1            2               2         5\n",
      "4  U1068   135104       1            1               2         4\n",
      "Minimum combined rating: 0\n",
      "Maximum combined rating: 6\n",
      "\n",
      "Shifted minimum combined rating: 1\n",
      "Shifted maximum combined rating: 7\n",
      "\n",
      "Mean shifted combined rating: 4.505598621877692\n",
      "\n",
      "-------------------------------------------\n",
      "\n",
      "Training set: 928 ratings\n",
      "Test set: 233 ratings\n",
      "\n",
      "The median of this rating range is 4.0\n",
      "\n",
      "Baseline score: 2.135938145091438\n",
      "\n"
     ]
    }
   ],
   "source": [
    "# enter your code here\n",
    "\n",
    "# read in data\n",
    "ratings = pd.read_csv(\"data/restaurant/rating_final.csv\")\n",
    "\n",
    "# combined rating\n",
    "ratings['combined'] = ratings['rating'] + ratings['food_rating'] + ratings['service_rating']\n",
    "\n",
    "# get boundaries\n",
    "min_rating = min(ratings['combined'])\n",
    "max_rating = max(ratings['combined'])\n",
    "print(ratings.head())\n",
    "print(f\"Minimum combined rating: {min_rating}\")\n",
    "print(f\"Maximum combined rating: {max_rating}\")\n",
    "\n",
    "# shift scale to remove 0's\n",
    "ratings[['rating', 'food_rating', 'service_rating', 'combined']] += 1\n",
    "min_rating = min(ratings['combined'])\n",
    "max_rating = max(ratings['combined'])\n",
    "print(f\"\\nShifted minimum combined rating: {min_rating}\")\n",
    "print(f\"Shifted maximum combined rating: {max_rating}\")\n",
    "\n",
    "# Mean combined rating\n",
    "print(f\"\\nMean shifted combined rating: {np.mean(ratings['combined'])}\\n\")\n",
    "\n",
    "# Drop cols\n",
    "ratings = ratings[['userID', 'placeID', 'combined']]\n",
    "\n",
    "print(\"-------------------------------------------\\n\")\n",
    "\n",
    "\n",
    "#Assign X as the original ratings dataframe and y as the userID column of ratings.\n",
    "X = ratings.copy()\n",
    "y = ratings['userID']\n",
    "\n",
    "#Split into training and test datasets, stratified along user_id\n",
    "# Had to keep your Douglas Adams shout-out in there...\n",
    "X_train, X_test, y_train, y_test = train_test_split(X, y, test_size = 0.2, stratify=y, random_state=42)\n",
    "\n",
    "print(f\"Training set: {len(X_train)} ratings\\nTest set: {len(X_test)} ratings\\n\")\n",
    "\n",
    "#first determine the median of our ratings (we could have done this by hand, but numpy does it so well... )\n",
    "print(f\"The median of this rating range is {np.median(np.arange(np.min(ratings['combined']), (np.max(ratings['combined']) + 1)))}\")\n",
    "\n",
    "#define a baseline model to always return the median\n",
    "def baseline(userID, placeID, *args):\n",
    "    return 4.0\n",
    "\n",
    "#Function to compute the RMSE score obtained on the testing set by a model\n",
    "def score(cf_model, X_test, *args):\n",
    "    \n",
    "    #Construct a list of user-restaurant tuples from the testing dataset\n",
    "    id_pairs = zip(X_test['userID'], X_test['placeID'])\n",
    "    \n",
    "    #Predict the rating for every user-restaurant tuple\n",
    "    y_pred = np.array([cf_model(user, place, *args) for (user, place) in id_pairs])\n",
    "    \n",
    "    #Extract the actual ratings given by the users in the test data\n",
    "    y_true = np.array(X_test['combined'])\n",
    "    \n",
    "    #Return the final RMSE score\n",
    "    return mean_squared_error(y_true, y_pred, squared=False)\n",
    "                              \n",
    "#let's test it with our baseline model\n",
    "base_score = score(baseline, X_test)\n",
    "print(f\"\\nBaseline score: {base_score}\\n\")\n"
   ]
  },
  {
   "cell_type": "markdown",
   "metadata": {},
   "source": [
    "# **HW11.2** - Build a Weighted Mean User-Based Filter"
   ]
  },
  {
   "cell_type": "markdown",
   "metadata": {},
   "source": [
    "From data in the file **rating_final.csv**, build a ratings matrix from the data frame of users, places, and restaurant ratings and build a user-based collaborative filtering model that weights mean rank using cosine similarity among users.  Fit the model on the training set and compute the RMSE for this model using the test set and compare it to the RMSE of the baseline model.  Is it better than baseline?  (*i.e.* is the RMSE smaller?)"
   ]
  },
  {
   "cell_type": "markdown",
   "metadata": {},
   "source": [
    "<font color = \"blue\"> *** 12 points -  answer in cells below *** (don't delete this cell) </font>"
   ]
  },
  {
   "cell_type": "code",
   "execution_count": 64,
   "metadata": {
    "collapsed": false,
    "jupyter": {
     "outputs_hidden": false
    }
   },
   "outputs": [
    {
     "data": {
      "text/plain": [
       "2.3135820281130606"
      ]
     },
     "execution_count": 64,
     "metadata": {},
     "output_type": "execute_result"
    }
   ],
   "source": [
    "#Build the ratings matrix using pivot_table function\n",
    "r_matrix = X_train.pivot_table(values='combined', index='userID', columns='placeID')\n",
    "\n",
    "#Create a dummy ratings matrix with all null values imputed to 0\n",
    "r_matrix_dummy = r_matrix.copy().fillna(0)\n",
    "\n",
    "#Compute the cosine similarity matrix using the dummy ratings matrix\n",
    "cosine_sim = cosine_similarity(r_matrix_dummy, r_matrix_dummy)\n",
    "\n",
    "#Convert into pandas dataframe \n",
    "cosine_sim = pd.DataFrame(cosine_sim, index=r_matrix.index, columns=r_matrix.index)\n",
    "\n",
    "#User Based Collaborative Filter using Weighted Mean Ratings\n",
    "def cf_user_wmean(userID, placeID, ratings_matrix, c_sim_matrix):\n",
    "    \n",
    "    #Check if placeID exists in r_matrix\n",
    "    if placeID in ratings_matrix:\n",
    "        \n",
    "        #Get the similarity scores for the user in question with every other user\n",
    "        sim_scores = c_sim_matrix[userID]\n",
    "        \n",
    "        #Get the user ratings for the restaurant in question\n",
    "        r_ratings = ratings_matrix[placeID]\n",
    "        \n",
    "        #Extract the indices containing NaN in the r_ratings series\n",
    "        idx = r_ratings[r_ratings.isnull()].index\n",
    "        \n",
    "        #Drop the NaN values from the r_ratings Series\n",
    "        r_ratings = r_ratings.dropna()\n",
    "        \n",
    "        #Drop the corresponding cosine scores from the sim_scores series\n",
    "        sim_scores = sim_scores.drop(idx)\n",
    "        \n",
    "        #Compute the final weighted mean\n",
    "        if sim_scores.sum() == 0:\n",
    "            wmean_rating = 4.0\n",
    "        else:\n",
    "            wmean_rating = np.dot(sim_scores, r_ratings)/ sim_scores.sum()\n",
    "\n",
    "    else:\n",
    "        #Default to a rating of 4.0 in the absence of any information\n",
    "        wmean_rating = 4.0\n",
    "    \n",
    "    return wmean_rating\n",
    "\n",
    "score(cf_user_wmean, X_test, r_matrix, cosine_sim)"
   ]
  },
  {
   "cell_type": "markdown",
   "metadata": {},
   "source": [
    "# **HW11.3** - Build a kNN-Based Collaborative Filter"
   ]
  },
  {
   "cell_type": "markdown",
   "metadata": {},
   "source": [
    "**Use a np.random seed of 1 for this problem.**\n",
    "\n",
    "From data in the file **rating_final.csv**, use the *surprise* library in Python to build an kNN-based collaborative filtering model for the restaurant ratings.  Use five-fold cross-validation to train the model on the entire dataset using the following values for k:\n",
    "\n",
    "nums = [3, 5, 7, 9, 11, 13, 15, 17, 19, 21, 23, 25, 27, 29, 31, 33, 35, 37]\n",
    "\n",
    "Use matplotlib and seaborn to plot the results of the various k values. (Review Banik's Chapter 5 if this is unfamiliar.)\n",
    "\n",
    "Which value of k should you use for the kNN-Based Collaborative Filter?\n",
    "\n"
   ]
  },
  {
   "cell_type": "markdown",
   "metadata": {},
   "source": [
    "<font color = \"blue\"> *** 12 points -  answer in cells below *** (don't delete this cell) </font>"
   ]
  },
  {
   "cell_type": "code",
   "execution_count": 139,
   "metadata": {
    "collapsed": false,
    "jupyter": {
     "outputs_hidden": false
    }
   },
   "outputs": [
    {
     "name": "stdout",
     "output_type": "stream",
     "text": [
      "The lowest mean RMSE of 2.1108864061121 is obtained when k = 7.\n",
      "\n"
     ]
    },
    {
     "data": {
      "text/plain": [
       "Text(6.4, 2.109, 'k = 7')"
      ]
     },
     "execution_count": 139,
     "metadata": {},
     "output_type": "execute_result"
    },
    {
     "data": {
      "image/png": "[encoded data removed]",
      "text/plain": [
       "<Figure size 864x504 with 1 Axes>"
      ]
     },
     "metadata": {
      "image/png": {
       "height": 426,
       "width": 713
      }
     },
     "output_type": "display_data"
    }
   ],
   "source": [
    "# possible values of k\n",
    "nums = [3, 5, 7, 9, 11, 13, 15, 17, 19, 21, 23, 25, 27, 29, 31, 33, 35, 37]\n",
    "\n",
    "# dict to store k:rmse\n",
    "k_rmse = dict(zip(nums, np.zeros(len(nums))))\n",
    "\n",
    "# Define a Reader object\n",
    "reader = Reader(rating_scale=(1,7))\n",
    "\n",
    "#Create the dataset to be used for building the filter\n",
    "data = Dataset.load_from_df(ratings, reader)\n",
    "\n",
    "for num in nums:\n",
    "   \n",
    "    #define a random seed for consistent results\n",
    "    np.random.seed(1)\n",
    "    \n",
    "    #Define the algorithm object; in this case kNN\n",
    "    knn = KNNBasic(k=num, verbose=False) \n",
    "\n",
    "    # CV\n",
    "    knn_cv = cross_validate(knn, data, measures=['RMSE'], cv=5, verbose=False)\n",
    "    \n",
    "    #to extract the mean RMSE, we need to get the mean of the test_rmse values\n",
    "    knn_RMSE = np.mean(knn_cv['test_rmse'])\n",
    "    \n",
    "    # store k:rmse\n",
    "    k_rmse[num] = knn_RMSE\n",
    "    \n",
    "\n",
    "# Results\n",
    "best_k = min(k_rmse, key=k_rmse.get)\n",
    "best_rmse = k_rmse[best_k]\n",
    "print(f\"The lowest mean RMSE of {best_rmse} is obtained when k = {best_k}.\\n\")\n",
    "\n",
    "# Chart\n",
    "keys = list(k_rmse.keys())\n",
    "vals = [k_rmse[k] for k in k_rmse.keys()]\n",
    "import warnings # come on, seaborn\n",
    "warnings.simplefilter(action=\"ignore\", category=FutureWarning)\n",
    "sns.set_palette(\"dark\")\n",
    "ax = sns.lineplot(keys, vals)\n",
    "ax.set(title = \"RMSE for k\")\n",
    "for k in keys:\n",
    "    if k == 7:\n",
    "        plt.plot(k,k_rmse[k], 'ro')\n",
    "    else:\n",
    "        plt.plot(k,k_rmse[k], 'bo')\n",
    "plt.text(x = 6.4, y = 2.109, s = 'k = 7')\n"
   ]
  },
  {
   "cell_type": "markdown",
   "metadata": {},
   "source": [
    "# **HW11.4** - Build a Hybrid Filter"
   ]
  },
  {
   "cell_type": "markdown",
   "metadata": {},
   "source": [
    "From ratings data you have already loaded (including the merging of ratings and adjustments for zero-base) and **geoplaces2.csv** build a recommender system that is a hybrid of a metadata content-based recommender and a predictive collaborative filter.  Your recommender should do the following:\n",
    "\n",
    "\n",
    "**SETUP**\n",
    "* Retrain the KNN filter using the k-value you found in the previous question.\n",
    "* Train an SVD filter using the same data set you used for the KNN filter.\n",
    "\n",
    "* Create a function that takes in a user ID, restaurant name and any other required data as user input (follow the lesson examples and avoid using global variables).\n",
    "* Use a metadata content-based model to compute the 25 most similar restaurants based on cosine similarity from the following details (create a soup as done for the content-based recommender from Lesson 10)\n",
    "    - price\n",
    "    - dress code\n",
    "    - accessibility\n",
    "    - ambiance\n",
    "    - alcohol\n",
    "    - smoking area\n",
    "* Compute the predicted ratings that the user might give to these 25 restaurants using the passed-in predictive model.\n",
    "* Have your function return the top 10 restaurant recommendations including price, dress code, accessibility, ambiance, alcohol, and smoking area and predicted rating.\n",
    "\n",
    "\n",
    "**Running the code**\n",
    "\n",
    "Call your function the following ways:\n",
    "* user **U1077**, restaurant named **cafe ambar**, using the SVD predictor and the KNN predictor.\n",
    "* user **U1065**, restaurant named **cafe ambar**,  using the SVD predictor and the KNN predictor.\n",
    "\n",
    "(You will call your function 4 times and output 4 dataframes.)\n",
    "\n",
    "Comment on the similarities and differences in the resulting recommendations. \n",
    "\n",
    "**Use a np.random seed of 1 for this problem.**\n",
    "\n",
    "*Note 1: This data set does not have the issue of having two different ID's in separate files for each restaurant like the movie data used in the textbook example, so you won't need to use the cell for mapping ID's to titles.*\n",
    "\n",
    "*Note 2: because of the small number of words in the \"soup\", many of the restaurant pairs have a cosine similarity of 1, which will affect the predicted ratings and recommendations. Make sure you use the demonstrated method of using del to remove the restaurant's own cosine score instead of relying on it being the first item in the sorted array.* "
   ]
  },
  {
   "cell_type": "markdown",
   "metadata": {},
   "source": [
    "<font color = \"blue\"> *** 14 points -  answer in cells below *** (don't delete this cell) </font>"
   ]
  },
  {
   "cell_type": "code",
   "execution_count": 231,
   "metadata": {
    "collapsed": false,
    "jupyter": {
     "outputs_hidden": false
    }
   },
   "outputs": [
    {
     "name": "stdout",
     "output_type": "stream",
     "text": [
      "U1077 - SVD:\n",
      "                                name Price Dress Code     Accessibility  \\\n",
      "24                        Giovannis   low   informal  no_accessibility   \n",
      "107                         Log Yin   low   informal  no_accessibility   \n",
      "1                   puesto de tacos   low   informal        completely   \n",
      "43                          churchs   low   informal        completely   \n",
      "3    little pizza Emilio Portes Gil   low   informal        completely   \n",
      "93               tacos los volcanes   low   informal        completely   \n",
      "73                       palomo tec   low   informal        completely   \n",
      "87                  Rincon Huasteco   low   informal        completely   \n",
      "86    Carreton de Flautas y Migadas   low   informal        completely   \n",
      "29                     don burguers   low   informal  no_accessibility   \n",
      "\n",
      "     Ambiance            Alcohol Smoking Area  Predicted Rating  \n",
      "24   familiar  No_Alcohol_Served         none          5.531467  \n",
      "107  familiar  No_Alcohol_Served         none          5.484846  \n",
      "1    familiar  No_Alcohol_Served         none          5.384799  \n",
      "43   familiar  No_Alcohol_Served         none          5.221220  \n",
      "3    familiar  No_Alcohol_Served         none          5.135689  \n",
      "93      quiet  No_Alcohol_Served         none          5.125116  \n",
      "73   familiar  No_Alcohol_Served         none          5.104148  \n",
      "87   familiar  No_Alcohol_Served         none          5.103250  \n",
      "86   familiar  No_Alcohol_Served    permitted          5.065342  \n",
      "29   familiar  No_Alcohol_Served         none          4.992150  \n",
      "\n",
      "U1077 - k-NN:\n",
      "                                    name Price Dress Code     Accessibility  \\\n",
      "70                          dairy queen   low   informal        completely   \n",
      "93                   tacos los volcanes   low   informal        completely   \n",
      "1                       puesto de tacos   low   informal        completely   \n",
      "29                         don burguers   low   informal  no_accessibility   \n",
      "122                           tacos abi   low   informal        completely   \n",
      "24                            Giovannis   low   informal  no_accessibility   \n",
      "6                    Taqueria EL amigo    low     casual        completely   \n",
      "111  tacos de barbacoa enfrente del Tec   low   informal        completely   \n",
      "86        Carreton de Flautas y Migadas   low   informal        completely   \n",
      "23                                  KFC   low   informal        completely   \n",
      "\n",
      "     Ambiance            Alcohol   Smoking Area  Predicted Rating  \n",
      "70   familiar  No_Alcohol_Served           none          7.000000  \n",
      "93      quiet  No_Alcohol_Served           none          6.683544  \n",
      "1    familiar  No_Alcohol_Served           none          6.604481  \n",
      "29   familiar  No_Alcohol_Served           none          6.174603  \n",
      "122  familiar  No_Alcohol_Served           none          4.515608  \n",
      "24   familiar  No_Alcohol_Served           none          4.515608  \n",
      "6    familiar  No_Alcohol_Served           none          4.515608  \n",
      "111  familiar  No_Alcohol_Served  not permitted          4.515608  \n",
      "86   familiar  No_Alcohol_Served      permitted          4.515608  \n",
      "23   familiar  No_Alcohol_Served  not permitted          4.515608  \n",
      "\n",
      "U1065 - SVD:\n",
      "                                name Price Dress Code     Accessibility  \\\n",
      "24                        Giovannis   low   informal  no_accessibility   \n",
      "3    little pizza Emilio Portes Gil   low   informal        completely   \n",
      "29                     don burguers   low   informal  no_accessibility   \n",
      "87                  Rincon Huasteco   low   informal        completely   \n",
      "107                         Log Yin   low   informal  no_accessibility   \n",
      "93               tacos los volcanes   low   informal        completely   \n",
      "70                      dairy queen   low   informal        completely   \n",
      "43                          churchs   low   informal        completely   \n",
      "86    Carreton de Flautas y Migadas   low   informal        completely   \n",
      "73                       palomo tec   low   informal        completely   \n",
      "\n",
      "     Ambiance            Alcohol Smoking Area  Predicted Rating  \n",
      "24   familiar  No_Alcohol_Served         none          4.847090  \n",
      "3    familiar  No_Alcohol_Served         none          4.722747  \n",
      "29   familiar  No_Alcohol_Served         none          4.670939  \n",
      "87   familiar  No_Alcohol_Served         none          4.648116  \n",
      "107  familiar  No_Alcohol_Served         none          4.601722  \n",
      "93      quiet  No_Alcohol_Served         none          4.597004  \n",
      "70   familiar  No_Alcohol_Served         none          4.594679  \n",
      "43   familiar  No_Alcohol_Served         none          4.556104  \n",
      "86   familiar  No_Alcohol_Served    permitted          4.509229  \n",
      "73   familiar  No_Alcohol_Served         none          4.461507  \n",
      "\n",
      "U1065 - k-NN:\n",
      "                                    name Price Dress Code     Accessibility  \\\n",
      "43                              churchs   low   informal        completely   \n",
      "1                       puesto de tacos   low   informal        completely   \n",
      "122                           tacos abi   low   informal        completely   \n",
      "93                   tacos los volcanes   low   informal        completely   \n",
      "29                         don burguers   low   informal  no_accessibility   \n",
      "24                            Giovannis   low   informal  no_accessibility   \n",
      "6                    Taqueria EL amigo    low     casual        completely   \n",
      "111  tacos de barbacoa enfrente del Tec   low   informal        completely   \n",
      "92                         Cafe Chaires   low   informal        completely   \n",
      "86        Carreton de Flautas y Migadas   low   informal        completely   \n",
      "\n",
      "     Ambiance            Alcohol   Smoking Area  Predicted Rating  \n",
      "43   familiar  No_Alcohol_Served           none          5.000000  \n",
      "1    familiar  No_Alcohol_Served           none          4.515608  \n",
      "122  familiar  No_Alcohol_Served           none          4.515608  \n",
      "93      quiet  No_Alcohol_Served           none          4.515608  \n",
      "29   familiar  No_Alcohol_Served           none          4.515608  \n",
      "24   familiar  No_Alcohol_Served           none          4.515608  \n",
      "6    familiar  No_Alcohol_Served           none          4.515608  \n",
      "111  familiar  No_Alcohol_Served  not permitted          4.515608  \n",
      "92   familiar  No_Alcohol_Served  not permitted          4.515608  \n",
      "86   familiar  No_Alcohol_Served      permitted          4.515608  \n",
      "\n"
     ]
    }
   ],
   "source": [
    "# Define a Reader object\n",
    "reader = Reader(rating_scale=(1,7))\n",
    "\n",
    "#Create the dataset to be used for building the filter\n",
    "data = Dataset.load_from_df(ratings, reader)\n",
    "\n",
    "#######################################\n",
    "#              k-NN                   #\n",
    "#######################################\n",
    "\n",
    "#define a random seed for consistent results\n",
    "np.random.seed(1)\n",
    "\n",
    "#Define the algorithm object; in this case kNN\n",
    "knn = KNNBasic(k=7, verbose=False) \n",
    "\n",
    "# CV\n",
    "knn_cv = cross_validate(knn, data, measures=['RMSE'], cv=5, verbose=False)\n",
    "\n",
    "#to extract the mean RMSE, we need to get the mean of the test_rmse values\n",
    "knn_RMSE = np.mean(knn_cv['test_rmse'])\n",
    "\n",
    "#######################################\n",
    "#                SVD                  #\n",
    "#######################################\n",
    "                   \n",
    "#define a random seed for consistent results\n",
    "np.random.seed(1)\n",
    "\n",
    "#Define the SVD algorithm object\n",
    "svd = SVD()\n",
    "\n",
    "#Evaluate the performance in terms of RMSE\n",
    "svd_cv = cross_validate(svd, data, measures=['RMSE'], cv=5, verbose=False)\n",
    "\n",
    "#to extract the mean RMSE, we need to get the mean of the test_rmse values\n",
    "svd_RMSE = np.mean(svd_cv['test_rmse'])\n",
    "\n",
    "\n",
    "#######################################\n",
    "#          Cosine Similarity          #\n",
    "#######################################\n",
    "\n",
    "# read in data\n",
    "geoplaces = pd.read_csv(\"data/restaurant/geoplaces2.csv\")\n",
    "\n",
    "# drop columns\n",
    "geoplaces['Ambiance'] = geoplaces['Rambience']\n",
    "geoplaces = geoplaces[['placeID', 'name', 'price', 'dress_code', 'accessibility', 'Ambiance', 'alcohol', 'smoking_area']]\n",
    "\n",
    "# make soup\n",
    "geoplaces['soup'] = geoplaces['price'] + \" \" + geoplaces[\"dress_code\"] + \" \" + geoplaces['accessibility'] + \" \" + geoplaces['Ambiance'] + \" \" + geoplaces['alcohol'] + \" \" + geoplaces['smoking_area']\n",
    "\n",
    "# use CountVectorizer to build count matrix from geoplaces and then cosine similarity matrix\n",
    "count = CountVectorizer(stop_words='english')\n",
    "count_matrix = count.fit_transform(geoplaces['soup'])\n",
    "\n",
    "#Compute the cosine similarity score \n",
    "cosine_sim = cosine_similarity(count_matrix, count_matrix)\n",
    "\n",
    "# Convert into pandas dataframe \n",
    "cosine_sim = pd.DataFrame(cosine_sim, index=geoplaces['name'], columns=geoplaces['name'])\n",
    "\n",
    "#######################################\n",
    "#          Hybrid Recommender         #\n",
    "#######################################\n",
    "\n",
    "def hybrid(user_id, name, cosine_matrix, data, predictor):\n",
    "    \n",
    "    #get column index from column name in the cosine_matrix\n",
    "    idx = cosine_matrix.columns.get_loc(name) \n",
    "    \n",
    "    #Extract the similarity scores and their corresponding index for every item from the cosine_sim matrix\n",
    "    sim_scores = list(enumerate(cosine_matrix[name]))\n",
    "    \n",
    "    #excluding the similarity score of the item with itself\n",
    "    del sim_scores[idx]\n",
    "    \n",
    "    #Sort the (index, score) tuples in decreasing order of similarity scores\n",
    "    sim_scores = sorted(sim_scores, key=lambda x: x[1], reverse=True)\n",
    "    \n",
    "    #Select the top 25 tuples\n",
    "    sim_scores = sim_scores[0:25]\n",
    "    \n",
    "    #Store the cosine_sim indices of the top 25 items in a list\n",
    "    item_indices = [i[0] for i in sim_scores]\n",
    "    \n",
    "    #Extract the metadata of the aforementioned items\n",
    "    items = data.iloc[item_indices][['name']]\n",
    "    \n",
    "    items['Price'] = data['price']\n",
    "    items['Dress Code'] = data['dress_code']\n",
    "    items['Accessibility'] = data['accessibility']\n",
    "    items['Ambiance'] = data['Ambiance']\n",
    "    items['Alcohol'] = data['alcohol']\n",
    "    items['Smoking Area'] = data['smoking_area']\n",
    "    \n",
    "    #Compute the predicted ratings using the SVD or k-NN filter\n",
    "    items['Predicted Rating'] = data['placeID'].apply(lambda x: predictor.predict(user_id, x).est)\n",
    "    \n",
    "    #Sort the items in decreasing order of predicted rating\n",
    "    items = items.sort_values('Predicted Rating', ascending=False)\n",
    "    \n",
    "    #Return the top 10 items as recommendations\n",
    "    return items.head(10)\n",
    "\n",
    "print(f\"U1077 - SVD:\\n {hybrid('U1077', 'cafe ambar', cosine_sim, geoplaces, svd)}\\n\")\n",
    "print(f\"U1077 - k-NN:\\n {hybrid('U1077', 'cafe ambar', cosine_sim, geoplaces, knn)}\\n\")\n",
    "print(f\"U1065 - SVD:\\n {hybrid('U1065', 'cafe ambar', cosine_sim, geoplaces, svd)}\\n\")\n",
    "print(f\"U1065 - k-NN:\\n {hybrid('U1065', 'cafe ambar', cosine_sim, geoplaces, knn)}\\n\")\n"
   ]
  },
  {
   "cell_type": "markdown",
   "metadata": {},
   "source": [
    "The recommendations seem reasonable.  There are similarities between the restaurants.  They all seem to be low-price, casual restaurants.  There are differences between the recommendations for each user, indicating that their previous ratings mattered.  I think it worked."
   ]
  }
 ],
 "metadata": {
  "kernelspec": {
   "display_name": "Python 3 (system-wide)",
   "language": "python",
   "name": "python3"
  },
  "language_info": {
   "codemirror_mode": {
    "name": "ipython",
    "version": 3
   },
   "file_extension": ".py",
   "mimetype": "text/x-python",
   "name": "python",
   "nbconvert_exporter": "python",
   "pygments_lexer": "ipython3",
   "version": "3.8.5"
  },
  "toc": {
   "base_numbering": 1,
   "nav_menu": {},
   "number_sections": true,
   "sideBar": true,
   "skip_h1_title": false,
   "title_cell": "Table of Contents",
   "title_sidebar": "Contents",
   "toc_cell": false,
   "toc_position": {
    "height": "calc(100% - 180px)",
    "left": "10px",
    "top": "150px",
    "width": "234.363px"
   },
   "toc_section_display": true,
   "toc_window_display": true
  },
  "varInspector": {
   "cols": {
    "lenName": 16,
    "lenType": 16,
    "lenVar": 40
   },
   "kernels_config": {
    "python": {
     "delete_cmd_postfix": "",
     "delete_cmd_prefix": "del ",
     "library": "var_list.py",
     "varRefreshCmd": "print(var_dic_list())"
    },
    "r": {
     "delete_cmd_postfix": ") ",
     "delete_cmd_prefix": "rm(",
     "library": "var_list.r",
     "varRefreshCmd": "cat(var_dic_list()) "
    }
   },
   "types_to_exclude": [
    "module",
    "function",
    "builtin_function_or_method",
    "instance",
    "_Feature"
   ],
   "window_display": false
  }
 },
 "nbformat": 4,
 "nbformat_minor": 4
}
