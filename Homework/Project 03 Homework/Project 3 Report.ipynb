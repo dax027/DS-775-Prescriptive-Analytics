{
 "cells": [
  {
   "cell_type": "markdown",
   "metadata": {},
   "source": [
    "## Project 3 Report - Scheduling and Decision Analysis with Uncertainty\n",
    "\n",
    "For the final project, we're going to combine concepts from Lesson 7 (Constraint Programming), Lesson 8 (Simulation), and Lesson 9 (Decision Analysis). We'll do this by revisiting the scheduling problem from Lesson 7. But, we're going to make it a little more true-to-life by acknowledging some of the uncertainty in our estimates, and using simulation to help us come up with better estimates. We'll use our estimated profits to construct a payoff table and make a decision about how to proceed with the building project.\n",
    "\n",
    "When we originally created the problem, we used the following estimates for time that each task would take:\n",
    "\n",
    "<img src='images/reliable_table.png' width=\"450\"/>\n",
    "\n",
    "But based on past experience, we know that these are just the most likely estimates of the time needed for each task. Here's our estimated ranges of values (in days instead of weeks) for each task:\n",
    "\n",
    "<img src='images/reliable-estimate-ranges.png' width=\"450\"/>"
   ]
  },
  {
   "cell_type": "markdown",
   "metadata": {},
   "source": [
    "Further, we're going to consider the following factors:\n",
    "\n",
    "* The base amount that Reliable will earn is \\$5.4 million.\n",
    "* If Reliable completes the project in 280 days or less, they will get a bonus of \\$150,000.\n",
    "* If Reliable misses the deadline of 329 days, there will be a \\$25,000 penalty for each day over 329."
   ]
  },
  {
   "cell_type": "markdown",
   "metadata": {},
   "source": [
    "### **P3.1** - Simulation\n",
    "\n",
    "Create a simulation that uses a triangular distribution to estimate the duration for each of the activities. Use the Optimistic Estimate, Most Likely Estimate, and Pessimistic Estimate for the 3 parameters of your triangular distribution.   Use CP-SAT to find the minimal schedule length in each iteration.  Track the total days each simulation takes and the profit for the company.\n",
    "\n",
    "Put your simulation code in the cell below.  Use at least 1000 iterations.  Check your simulation results to make sure the tasks are being executed in the correct order!\n",
    "\n",
    "<font color = \"blue\"> *** 8 points -  answer in cell below *** (don't delete this cell) </font>"
   ]
  },
  {
   "cell_type": "code",
   "execution_count": 1,
   "metadata": {},
   "outputs": [],
   "source": [
    "import numpy as np\n",
    "import pandas as pd\n",
    "from ortools.sat.python import cp_model\n",
    "from IPython.display import Markdown as md\n",
    "from bokeh.io import show, output_notebook\n",
    "from bokeh.models import ColumnDataSource\n",
    "from bokeh.plotting import figure"
   ]
  },
  {
   "cell_type": "code",
   "execution_count": 2,
   "metadata": {
    "collapsed": false,
    "jupyter": {
     "outputs_hidden": false
    }
   },
   "outputs": [],
   "source": [
    "# input\n",
    "estimates = {\n",
    "    'excavate': [7,14,21],\n",
    "    'foundation': [14,21,56],\n",
    "    'rough wall': [42,63,126],\n",
    "    'roof': [28,35,70],\n",
    "    'exterior plumbing': [7,28,35],\n",
    "    'interior plumbing': [28,35,70],\n",
    "    'exterior siding': [35,42,77],\n",
    "    'exterior painting': [35,56,119],\n",
    "    'electrical': [21,49,63],\n",
    "    'wallboard': [21,63,63],\n",
    "    'flooring': [21,28,28],\n",
    "    'interior painting': [7,35,49],\n",
    "    'exterior fixtures': [7,14,21],\n",
    "    'interior fixtures': [35,35,63],\n",
    "}\n",
    "\n",
    "precedence_dict = {\n",
    "    'excavate': ['foundation'],\n",
    "    'foundation': ['rough wall'],\n",
    "    'rough wall': ['roof', 'exterior plumbing', 'electrical'],\n",
    "    'roof': ['exterior siding'],\n",
    "    'exterior plumbing': ['interior plumbing', 'exterior painting'],\n",
    "    'interior plumbing': ['wallboard'],\n",
    "    'exterior siding': ['exterior painting'],\n",
    "    'exterior painting': ['exterior fixtures'],\n",
    "    'electrical': ['wallboard'],\n",
    "    'wallboard': ['flooring', 'interior painting'],\n",
    "    'flooring': ['interior fixtures'],\n",
    "    'interior painting': ['interior fixtures']\n",
    "}\n",
    "task_names = list(estimates.keys())\n",
    "num_tasks = len(task_names)\n",
    "task_name_to_number_dict = dict(zip(task_names, np.arange(0, num_tasks)))\n",
    "base_profit = 5.4\n",
    "bonus = .15\n",
    "penalty = .025\n",
    "extra_cost_flag = False\n",
    "\n",
    "\n",
    "# returns a random integer from a triangle distribution\n",
    "def triangle(estimate):\n",
    "    return int(round(np.random.triangular(left=estimate[0], mode=estimate[1], right=estimate[2]),0))\n",
    "\n",
    "# calculates profit\n",
    "def calcProfit(duration):\n",
    "    # calculate profit\n",
    "    if duration <= 280:\n",
    "        profit = base_profit + bonus\n",
    "    elif duration > 329:\n",
    "        days_past = duration - 329\n",
    "        profit = base_profit - days_past * penalty\n",
    "    else:\n",
    "        profit = base_profit\n",
    "    if extra_cost_flag:\n",
    "        extra_cost = float(np.random.exponential(scale=.1, size=1))\n",
    "    else:\n",
    "        extra_cost = 0\n",
    "    return profit+extra_cost, extra_cost\n",
    "    \n",
    "# calculates minimum viable path for tasks num_sims times\n",
    "def simEstimates(num_sims):\n",
    "    # track project durations, profit, days past deadline\n",
    "    project_durations, profit, extra_costs = [], [], []\n",
    "    days_past, project_profit, proj_extra_cost = 0, 0, 0\n",
    "    \n",
    "    for i in range(num_sims):\n",
    "        durations = [triangle(estimates[estimate]) for estimate in estimates]\n",
    "        horizon = sum(durations)\n",
    "\n",
    "        model = cp_model.CpModel()\n",
    "\n",
    "        start_vars = [model.NewIntVar(0, horizon, name=f'start_{t}') for t in task_names]\n",
    "        end_vars = [model.NewIntVar(0, horizon, name=f'end_{t}') for t in task_names]\n",
    "\n",
    "        # start + duration = end\n",
    "        intervals = [\n",
    "            model.NewIntervalVar(start_vars[i],\n",
    "                                 durations[i],\n",
    "                                 end_vars[i],\n",
    "                                 name=f'interval_{task_names[i]}')\n",
    "            for i in range(num_tasks)\n",
    "        ]\n",
    "\n",
    "        # precedence constraints\n",
    "        for before in list(precedence_dict.keys()):\n",
    "            for after in precedence_dict[before]:\n",
    "                before_index = task_name_to_number_dict[before]\n",
    "                after_index = task_name_to_number_dict[after]\n",
    "                model.Add(end_vars[before_index] <= start_vars[after_index])\n",
    "\n",
    "        obj_var = model.NewIntVar(0, horizon, 'largest_end_time')\n",
    "        model.AddMaxEquality(obj_var, end_vars)\n",
    "        model.Minimize(obj_var)\n",
    "\n",
    "        # solve\n",
    "        solver = cp_model.CpSolver()\n",
    "        status = solver.Solve(model)\n",
    "        \n",
    "        # capture duration\n",
    "        project_duration = solver.ObjectiveValue()\n",
    "        project_durations.append(project_duration)\n",
    "        \n",
    "        # capture profit and extra costs\n",
    "        project_profit, project_extra_cost = calcProfit(project_duration)\n",
    "        profit.append(project_profit)\n",
    "        extra_costs.append(project_extra_cost)\n",
    "    \n",
    "        # Check your simulation results to make sure the tasks are being executed in the correct order!\n",
    "#         print(f'\\nOptimal Schedule Length: {solver.ObjectiveValue()}')\n",
    "#         for i in range(num_tasks):\n",
    "#             print(f'{task_names[i]} start at {solver.Value(start_vars[i])} and end at {solver.Value(end_vars[i])}')\n",
    "#         print(f\"Profit: {project_profit}\")\n",
    "    \n",
    "    return project_durations, profit, extra_costs\n",
    "\n",
    "proj_durations, profit, extra_costs = simEstimates(1000)\n",
    "\n"
   ]
  },
  {
   "cell_type": "markdown",
   "metadata": {},
   "source": [
    "What is the probability that Reliable Company will finish the bid in 280 days or fewer, more than 280 and 329 days or fewer, or more than 329 days? What is their average profit?\n",
    "\n",
    "Include code to answer these questions with output below:\n",
    "\n",
    "<font color = \"blue\"> *** 2 points -  answer in cell below *** (don't delete this cell) </font>"
   ]
  },
  {
   "cell_type": "code",
   "execution_count": 3,
   "metadata": {
    "collapsed": false,
    "jupyter": {
     "outputs_hidden": false
    }
   },
   "outputs": [
    {
     "name": "stdout",
     "output_type": "stream",
     "text": [
      "Probability project complete in 280 days or less: 0.07\n",
      "Probability project complete more than 280 and 329 days or fewer: 0.578\n",
      "Probability project complete greater than 329 days: 0.352\n",
      "Average profit: $5.241 million.\n",
      "Average extra costs: $0.000 million.\n"
     ]
    }
   ],
   "source": [
    "avg_profit = sum(profit)/len(profit)\n",
    "avg_extra_costs = sum(extra_costs)/len(extra_costs)\n",
    "prob_bonus = sum(1 for i in proj_durations if i<=280)/len(proj_durations)\n",
    "prob_on_time = sum(1 for i in proj_durations if 281<=i<=329)/len(proj_durations)\n",
    "prob_late = sum(1 for i in proj_durations if i>329)/len(proj_durations)\n",
    "print(f\"Probability project complete in 280 days or less: {prob_bonus}\")\n",
    "print(f\"Probability project complete more than 280 and 329 days or fewer: {prob_on_time}\")\n",
    "print(f\"Probability project complete greater than 329 days: {prob_late}\")\n",
    "print(f\"Average profit: ${avg_profit:0.3f} million.\")\n",
    "print(f\"Average extra costs: ${avg_extra_costs:0.3f} million.\")"
   ]
  },
  {
   "cell_type": "markdown",
   "metadata": {},
   "source": [
    "### **P3.2** - Add Random Cost\n",
    "From past experience, we know that special artifacts are sometimes found in the area where Reliable Construction is planning this building project.  When special artifacts are found, the excavation phase takes considerably longer and the entire project costs more - sometimes much more. They're never quite sure how much longer it will take, but it peaks around an extra 15 days, and takes at least an extra 7 days. They've seen some sites where relocating the special artifacts took as much as 365 extra days (yes - a whole year)! \n",
    "\n",
    "In addition, there are usually unanticipated costs that include fines and other things.  The accounting departments suggest that we model those costs with an exponential distribution with mean (scale) \\$100,000.\n",
    "\n",
    "\n",
    "Run a second simulation with these new parameters and using at least 1000 iterations.  Note, we are assuming that artifacts were found for this simulation.\n",
    "\n",
    "Put your simulation code in the cell below.\n",
    "\n",
    "<font color = \"blue\"> *** 8 points -  answer in cell below *** (don't delete this cell) </font>"
   ]
  },
  {
   "cell_type": "code",
   "execution_count": 4,
   "metadata": {
    "collapsed": false,
    "jupyter": {
     "outputs_hidden": false
    }
   },
   "outputs": [],
   "source": [
    "# add extra days from discovery of artifacts\n",
    "extra_days = [7, 15, 365]\n",
    "for i in range(len(estimates['excavate'])):\n",
    "    estimates['excavate'][i] += extra_days[i]\n",
    "\n",
    "# add random extra costs\n",
    "extra_cost_flag = True\n",
    "\n",
    "art_proj_durations, art_profit, art_extra_costs = simEstimates(1000)"
   ]
  },
  {
   "cell_type": "markdown",
   "metadata": {},
   "source": [
    "When artifacts are found, what is the probability that Reliable Company will finish the bid in 280 days or fewer, more than 280 and 329 days or fewer, or more than 329 days? What is their average profit?\n",
    "\n",
    "Include code to answer these questions with output below:\n",
    "\n",
    "<font color = \"blue\"> *** 2 points -  answer in cell below *** (don't delete this cell) </font>"
   ]
  },
  {
   "cell_type": "code",
   "execution_count": 5,
   "metadata": {
    "collapsed": false,
    "jupyter": {
     "outputs_hidden": false
    }
   },
   "outputs": [
    {
     "name": "stdout",
     "output_type": "stream",
     "text": [
      "Probability project complete in 280 days or less: 0.003\n",
      "Probability project complete more than 280 and 329 days or fewer: 0.053\n",
      "Probability project complete greater than 329 days: 0.944\n",
      "Average profit: $2.520 million.\n",
      "Average extra costs: $0.107 million.\n"
     ]
    }
   ],
   "source": [
    "art_avg_profit = sum(art_profit)/len(art_profit)\n",
    "art_avg_extra_costs = sum(art_extra_costs)/len(art_extra_costs)\n",
    "art_prob_bonus = sum(1 for i in art_proj_durations if i<=280)/len(art_proj_durations)\n",
    "art_prob_on_time = sum(1 for i in art_proj_durations if 281<=i<=329)/len(art_proj_durations)\n",
    "art_prob_late = sum(1 for i in art_proj_durations if i>329)/len(art_proj_durations)\n",
    "print(f\"Probability project complete in 280 days or less: {art_prob_bonus}\")\n",
    "print(f\"Probability project complete more than 280 and 329 days or fewer: {art_prob_on_time}\")\n",
    "print(f\"Probability project complete greater than 329 days: {art_prob_late}\")\n",
    "print(f\"Average profit: ${art_avg_profit:0.3f} million.\")\n",
    "print(f\"Average extra costs: ${art_avg_extra_costs:0.3f} million.\")"
   ]
  },
  {
   "cell_type": "markdown",
   "metadata": {},
   "source": [
    "### **P3.3** - Make Decision about Insurance\n",
    "\n",
    "Clearly dealing with artifacts can be very costly for Reliable Construction.  It is known from past experience that about 30% of building sites in this area contain special artifacts.  Fortunately, they can purchase an insurance policy - a quite expensive insurance policy. The insurance policy costs \\$500000, but it covers all fines and penalities for delays in the event that special artifacts are found that require remediation. Effectively, this means that Reliable could expect the same profit they would get if no artifacts were found (minus the cost of the policy).\n",
    "\n",
    "Given the estimated profit without artifacts, the estimated profit with artifacts, the cost of insurance, the 30% likelihood of finding artifacts, create a payoff table and use Baye's Decision Rule to determine what decision Reliable should make.  You should round the simulated profits to the nearest \\$100,000 and use units of millions of dollars so that, for example, \\$8,675,309 is 8.7 million dollars.\n",
    "\n",
    "Provide appropriate evidence for the best decision such as a payoff table or picture of a suitable (small) decision tree.\n",
    "\n",
    "<font color = \"blue\"> *** 6 points -  answer in cell below *** (don't delete this cell) </font>"
   ]
  },
  {
   "cell_type": "markdown",
   "metadata": {},
   "source": [
    "<font color = \"green\">\n",
    "<table style=\"border: solid; color: green;\">\n",
    "    <tr>\n",
    "        <th style=\"border-right: solid;\"> </th>\n",
    "        <th colspan=2 style=\"border-right: solid;\">State of Nature</th>\n",
    "        <th> </th>\n",
    "    </tr>\n",
    "    <tr style=\"border-bottom: solid;\">\n",
    "        <th style=\"border-right: solid;\">Alternative</th>\n",
    "        <th>$S_1$ (Artifacts Found)</th>\n",
    "        <th style=\"border-right: solid;\">$S_2$ (Artifacts Not Found)</th>\n",
    "        <th>Expected Payoff</th>\n",
    "    </tr>\n",
    "    <tr style=\"text-align: center;\">\n",
    "        <th style=\"border-right: solid;\">$A_1$ (Purchase Insurance)</th>\n",
    "        <td>4.7</td>\n",
    "        <td style=\"border-right: solid\">4.7</td>\n",
    "        <td>4.7(0.3) + 4.7(0.7) = 4.7</td>\n",
    "    </tr>\n",
    "    <tr style=\"text-align: center;\">\n",
    "        <th style=\"border-right: solid;\">$A_2$ (Don't Purchase)</th>\n",
    "        <td>2.5</td>\n",
    "        <td style=\"border-right: solid\">5.2</td>\n",
    "        <td>2.5(0.3) + 5.2(0.7) = 4.4</td>\n",
    "    </tr>\n",
    "    <tr style=\"text-align: center; border-top: solid\">\n",
    "        <th style=\"border-right: solid\">Prior probability</th>\n",
    "        <td>.3</td>\n",
    "        <td style=\"border-right: solid\">.7</td>\n",
    "        <td> </td>\n",
    "    </tr>\n",
    "</table>"
   ]
  },
  {
   "cell_type": "markdown",
   "metadata": {},
   "source": [
    "Describe, in words, the best decision and the reason for that decision:\n",
    "\n",
    "<font color = \"blue\"> *** 2 points -  answer in cell below *** (don't delete this cell) </font>"
   ]
  },
  {
   "cell_type": "markdown",
   "metadata": {},
   "source": [
    "<font color = \"green\">\n",
    "According to Bayes' Decision Rule, Reliable should purchase the insurance policy.  The expected payoff of \\$4.7 million is greater than the expected payoff of \\$4.4 million that results without the policy.\n",
    "</font>"
   ]
  },
  {
   "cell_type": "markdown",
   "metadata": {},
   "source": [
    "### **P3.4** - Posterior Probabilities\n",
    "Reliable has been contacted by an archeological consulting firm. They assess sites and predict whether special artifacts are present. They have a pretty solid track record of being right when there are artifacts present - they get it right about 86% of the time. Their track record is less great when there are no artifacts - they're right about 72% of the time.\n",
    "\n",
    "First find the posterior probabilities and provide evidence for how you got them (Silver Decisions screenshot or ?).\n",
    "\n",
    "<font color = \"blue\"> *** 6 points -  answer in cell below *** (don't delete this cell) </font>"
   ]
  },
  {
   "cell_type": "markdown",
   "metadata": {
    "jupyter": {
     "outputs_hidden": false
    }
   },
   "source": [
    "<font color = \"green\">\n",
    "<table style=\"border: solid; color: green;\">\n",
    "    <tr>\n",
    "        <th style=\"border-right: solid;\"> </th>\n",
    "        <th colspan=2>State of Nature</th>\n",
    "    </tr>\n",
    "    <tr style=\"border-bottom: solid;\">\n",
    "        <th style=\"border-right: solid;\"> </th>\n",
    "        <th>$S1$ (Artifact Found)</th>\n",
    "        <th>$S2$ (Artifact Not Found)</th>\n",
    "    </tr>\n",
    "    <tr style=\"text-align: center;\">\n",
    "        <th style=\"border-right: solid\">$P(S_i)$</th>\n",
    "        <td>$.3$</td>\n",
    "        <td>$.7$</td>\n",
    "    </tr>\n",
    "    <tr style=\"text-align: center;\">\n",
    "        <th style=\"border-right: solid\">$P(F_1 | S_i)$</th>\n",
    "        <td>0.86</td>\n",
    "        <td>0.28</td>\n",
    "    </tr>\n",
    "    <tr style=\"text-align: center;\">\n",
    "        <th style=\"border-right: solid;\">$P(F_2 | S_i)$</th>\n",
    "        <td>0.14</td>\n",
    "        <td>0.72</td>\n",
    "    </tr>\n",
    "    <tr style=\"text-align: center;\">\n",
    "        <th style=\"border-right: solid;\">$P(S_i | F_1)$</th>\n",
    "        <td>0.568</td>\n",
    "        <td>0.432</td>\n",
    "    </tr>\n",
    "    <tr style=\"text-align: center; border-bottom: solid\">\n",
    "        <th style=\"border-right: solid;\">$P(S_i | F_2)$</th>\n",
    "        <td>0.077</td>\n",
    "        <td>0.923</td>\n",
    "    </tr>\n",
    "</table>\n",
    "$\n",
    "P(S_1 | F_1) = \\frac{P(F_1 | S_1) * P(S_1)}{P(F_1 | S_1) * P(S_1) + P(F_1 | S_2) * P(S_2)} = \\frac{.86 * .3}{.86 * .3 + .28 * .7} = 0.568 \\\\\n",
    "P(S_1 | F_2) = \\frac{P(F_2 | S_1) * P(S_1)}{P(F_2 | S_1) * P(S_1) + P(F_2 | S_2) * P(S_2)} = \\frac{.14 * .3}{.14 * .3 + .72 * .7} = 0.077\\\\\n",
    "P(S_2 | F_1) = \\frac{P(F_1 | S_2) * P(S_2)}{P(F_1 | S_1) * P(S_1) + P(F_1 | S_2) * P(S_2)} = \\frac{.28 * .7}{.86 * .3 + .28 * .7} = 0.432 \\\\\n",
    "P(S_2 | F_2) = \\frac{P(F_2 | S_2) * P(S_2)}{P(F_2 | S_1) * P(S_1) + P(F_2 | S_2) * P(S_2)} = \\frac{.72 * .7}{.14 * .3 + .72 * .7} = 0.923 \\\\\n",
    "$\n",
    "</font>"
   ]
  },
  {
   "cell_type": "markdown",
   "metadata": {},
   "source": [
    "The consulting fee for the site in question is \\$50,000. \n",
    "\n",
    "Construct a decision tree to help Reliable decide if they should hire the consulting firm or not and if they should buy insurance or not.  Again, you should round the simulated profits to the nearest $100,000 and use units of millions of dollars (e.g. 3.8 million dollars) in your decision tree.\n",
    "\n",
    "Include a picture of the tree exported from Silver Decisions.\n",
    "\n",
    "<font color = \"blue\"> *** 10 points -  answer in cell below *** (don't delete this cell) </font>"
   ]
  },
  {
   "cell_type": "markdown",
   "metadata": {},
   "source": [
    "<img src=\"images/9.4.png\" width=\"650\">"
   ]
  },
  {
   "cell_type": "markdown",
   "metadata": {},
   "source": [
    "Summarize the optimal policy in words here:\n",
    "\n",
    "<font color = \"blue\"> *** 2 points -  answer in cell below *** (don't delete this cell) </font>"
   ]
  },
  {
   "cell_type": "markdown",
   "metadata": {},
   "source": [
    "<font color = \"green\">\n",
    "The optimal policy is to hire the consulting firm.  If they predict artifacts will be found, Reliable should purchase insurance.  If they predict no artifacts will be found, they should skip the insurance. \n",
    "</font>"
   ]
  },
  {
   "cell_type": "markdown",
   "metadata": {},
   "source": [
    "### **P3.5** - Final Steps\n",
    "\n",
    "How confident do you feel about the results of your decision analysis? If you were being paid to complete this analysis, what further steps might you take to increase your confidence in your results?\n",
    "\n",
    "<font color = \"blue\"> *** 4 points -  answer in cell below *** (don't delete this cell) </font>"
   ]
  },
  {
   "cell_type": "markdown",
   "metadata": {},
   "source": [
    "<font color = \"green\">\n",
    "I am as confident as a student with two weeks of experience in this particular domain should be... this translates to, I think I've done everything right. There will always be real-world factors that don't make it into the model. This method inserted some uncertainty to attempt to capture that variation, but it is possible that unpredictable events transpire.  Sensitivity analysis could be conducted to allow for more granularity in decision-making.\n",
    "</font>"
   ]
  },
  {
   "cell_type": "code",
   "execution_count": null,
   "metadata": {
    "collapsed": false,
    "jupyter": {
     "outputs_hidden": false
    }
   },
   "outputs": [],
   "source": [
    "\n"
   ]
  }
 ],
 "metadata": {
  "kernelspec": {
   "display_name": "Python 3 (system-wide)",
   "language": "python",
   "name": "python3"
  },
  "language_info": {
   "codemirror_mode": {
    "name": "ipython",
    "version": 3
   },
   "file_extension": ".py",
   "mimetype": "text/x-python",
   "name": "python",
   "nbconvert_exporter": "python",
   "pygments_lexer": "ipython3",
   "version": "3.8.5"
  },
  "toc": {
   "base_numbering": 1,
   "nav_menu": {},
   "number_sections": true,
   "sideBar": true,
   "skip_h1_title": false,
   "title_cell": "Table of Contents",
   "title_sidebar": "Contents",
   "toc_cell": false,
   "toc_position": {},
   "toc_section_display": true,
   "toc_window_display": false
  },
  "varInspector": {
   "cols": {
    "lenName": 16,
    "lenType": 16,
    "lenVar": 40
   },
   "kernels_config": {
    "python": {
     "delete_cmd_postfix": "",
     "delete_cmd_prefix": "del ",
     "library": "var_list.py",
     "varRefreshCmd": "print(var_dic_list())"
    },
    "r": {
     "delete_cmd_postfix": ") ",
     "delete_cmd_prefix": "rm(",
     "library": "var_list.r",
     "varRefreshCmd": "cat(var_dic_list()) "
    }
   },
   "types_to_exclude": [
    "module",
    "function",
    "builtin_function_or_method",
    "instance",
    "_Feature"
   ],
   "window_display": false
  }
 },
 "nbformat": 4,
 "nbformat_minor": 4
}
